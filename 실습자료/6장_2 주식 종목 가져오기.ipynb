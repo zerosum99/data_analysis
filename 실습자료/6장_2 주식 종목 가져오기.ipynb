{
 "cells": [
  {
   "cell_type": "code",
   "execution_count": 1,
   "metadata": {},
   "outputs": [],
   "source": [
    "import sys"
   ]
  },
  {
   "cell_type": "code",
   "execution_count": 2,
   "metadata": {},
   "outputs": [
    {
     "data": {
      "text/plain": [
       "sys.version_info(major=3, minor=7, micro=3, releaselevel='final', serial=0)"
      ]
     },
     "execution_count": 2,
     "metadata": {},
     "output_type": "execute_result"
    }
   ],
   "source": [
    "sys.version_info"
   ]
  },
  {
   "cell_type": "code",
   "execution_count": null,
   "metadata": {},
   "outputs": [],
   "source": [
    "if sys.platform == 'darwin' :\n",
    "    print(\" Mac OS \")\n",
    "else :\n",
    "    print(' Windows ')"
   ]
  },
  {
   "cell_type": "code",
   "execution_count": null,
   "metadata": {},
   "outputs": [],
   "source": []
  },
  {
   "cell_type": "code",
   "execution_count": 1,
   "metadata": {},
   "outputs": [],
   "source": [
    "import pandas as pd"
   ]
  },
  {
   "cell_type": "code",
   "execution_count": 1,
   "metadata": {},
   "outputs": [],
   "source": [
    "#  차트 설정\n",
    "%matplotlib inline\n",
    "import matplotlib.pyplot as plt\n",
    "\n",
    "#plt.rcParams[\"font.family\"] =  \"Malgun Gothic\"\n",
    "plt.rcParams[\"figure.figsize\"] = (14,4)\n",
    "plt.rcParams['lines.linewidth'] = 2\n",
    "plt.rcParams[\"axes.grid\"] = True"
   ]
  },
  {
   "cell_type": "code",
   "execution_count": 2,
   "metadata": {},
   "outputs": [],
   "source": [
    "from matplotlib import font_manager, rc\n",
    "import sys\n",
    "\n",
    "if sys.platform == 'darwin' :\n",
    "    rc('font', family='AppleGothic')\n",
    "\n",
    "    plt.rcParams['axes.unicode_minus'] = False\n",
    "else :\n",
    "    \n",
    "    font_name = font_manager.FontProperties(fname=\"c:/Windows/Fonts/malgun.ttf\").get_name()\n",
    "    rc('font', family=font_name)"
   ]
  },
  {
   "cell_type": "code",
   "execution_count": 3,
   "metadata": {},
   "outputs": [],
   "source": [
    "import seaborn as sns"
   ]
  },
  {
   "cell_type": "markdown",
   "metadata": {},
   "source": [
    "## 모듈 설치하기"
   ]
  },
  {
   "cell_type": "markdown",
   "metadata": {},
   "source": [
    "###  주식정보 검색 모듈 설치\n",
    "!pip install finacedatareader -U"
   ]
  },
  {
   "cell_type": "markdown",
   "metadata": {},
   "source": [
    "### 버전 확인하기 "
   ]
  },
  {
   "cell_type": "code",
   "execution_count": 4,
   "metadata": {},
   "outputs": [
    {
     "data": {
      "text/plain": [
       "'0.7.2'"
      ]
     },
     "execution_count": 4,
     "metadata": {},
     "output_type": "execute_result"
    }
   ],
   "source": [
    "import FinanceDataReader as fdr\n",
    "fdr.__version__"
   ]
  },
  {
   "cell_type": "markdown",
   "metadata": {},
   "source": [
    "#  FinanceDataReader 사용자 안내서\n",
    "\n",
    "> https://financedata.github.io/posts/finance-data-reader-users-guide.html\n",
    "\n",
    "> https://github.com/FinanceData/FinanceDataReader/wiki/Users-Guide"
   ]
  },
  {
   "cell_type": "markdown",
   "metadata": {},
   "source": [
    "# 1. 상장기업 정보 가져오기"
   ]
  },
  {
   "cell_type": "code",
   "execution_count": 5,
   "metadata": {},
   "outputs": [],
   "source": [
    "df_krx = fdr.StockListing('KRX')"
   ]
  },
  {
   "cell_type": "code",
   "execution_count": 6,
   "metadata": {},
   "outputs": [
    {
     "data": {
      "text/html": [
       "<div>\n",
       "<style scoped>\n",
       "    .dataframe tbody tr th:only-of-type {\n",
       "        vertical-align: middle;\n",
       "    }\n",
       "\n",
       "    .dataframe tbody tr th {\n",
       "        vertical-align: top;\n",
       "    }\n",
       "\n",
       "    .dataframe thead th {\n",
       "        text-align: right;\n",
       "    }\n",
       "</style>\n",
       "<table border=\"1\" class=\"dataframe\">\n",
       "  <thead>\n",
       "    <tr style=\"text-align: right;\">\n",
       "      <th></th>\n",
       "      <th>Symbol</th>\n",
       "      <th>Name</th>\n",
       "      <th>Sector</th>\n",
       "      <th>Industry</th>\n",
       "    </tr>\n",
       "  </thead>\n",
       "  <tbody>\n",
       "    <tr>\n",
       "      <th>0</th>\n",
       "      <td>001250</td>\n",
       "      <td>GS글로벌</td>\n",
       "      <td>상품 종합 도매업</td>\n",
       "      <td>수출입업(시멘트,철강금속,전기전자,섬유,기계화학),상품중개,광업,채석업/하수처리 서...</td>\n",
       "    </tr>\n",
       "    <tr>\n",
       "      <th>1</th>\n",
       "      <td>082740</td>\n",
       "      <td>HSD엔진</td>\n",
       "      <td>일반 목적용 기계 제조업</td>\n",
       "      <td>대형선박용엔진,내연발전엔진</td>\n",
       "    </tr>\n",
       "    <tr>\n",
       "      <th>2</th>\n",
       "      <td>001390</td>\n",
       "      <td>KG케미칼</td>\n",
       "      <td>기초 화학물질 제조업</td>\n",
       "      <td>콘크리트혼화제, 비료, 친환경농자재, 수처리제</td>\n",
       "    </tr>\n",
       "    <tr>\n",
       "      <th>3</th>\n",
       "      <td>011070</td>\n",
       "      <td>LG이노텍</td>\n",
       "      <td>전자부품 제조업</td>\n",
       "      <td>기타 전자부품 제조업</td>\n",
       "    </tr>\n",
       "    <tr>\n",
       "      <th>4</th>\n",
       "      <td>010060</td>\n",
       "      <td>OCI</td>\n",
       "      <td>기초 화학물질 제조업</td>\n",
       "      <td>타르제품,카본블랙,무수프탈산,농약원제,석탄화학제품,정밀화학제품,플라스틱창호재 제조,판매</td>\n",
       "    </tr>\n",
       "  </tbody>\n",
       "</table>\n",
       "</div>"
      ],
      "text/plain": [
       "   Symbol   Name         Sector  \\\n",
       "0  001250  GS글로벌      상품 종합 도매업   \n",
       "1  082740  HSD엔진  일반 목적용 기계 제조업   \n",
       "2  001390  KG케미칼    기초 화학물질 제조업   \n",
       "3  011070  LG이노텍       전자부품 제조업   \n",
       "4  010060    OCI    기초 화학물질 제조업   \n",
       "\n",
       "                                            Industry  \n",
       "0  수출입업(시멘트,철강금속,전기전자,섬유,기계화학),상품중개,광업,채석업/하수처리 서...  \n",
       "1                                     대형선박용엔진,내연발전엔진  \n",
       "2                          콘크리트혼화제, 비료, 친환경농자재, 수처리제  \n",
       "3                                        기타 전자부품 제조업  \n",
       "4   타르제품,카본블랙,무수프탈산,농약원제,석탄화학제품,정밀화학제품,플라스틱창호재 제조,판매  "
      ]
     },
     "execution_count": 6,
     "metadata": {},
     "output_type": "execute_result"
    }
   ],
   "source": [
    "df_krx.head()"
   ]
  },
  {
   "cell_type": "code",
   "execution_count": 7,
   "metadata": {},
   "outputs": [
    {
     "data": {
      "text/html": [
       "<div>\n",
       "<style scoped>\n",
       "    .dataframe tbody tr th:only-of-type {\n",
       "        vertical-align: middle;\n",
       "    }\n",
       "\n",
       "    .dataframe tbody tr th {\n",
       "        vertical-align: top;\n",
       "    }\n",
       "\n",
       "    .dataframe thead th {\n",
       "        text-align: right;\n",
       "    }\n",
       "</style>\n",
       "<table border=\"1\" class=\"dataframe\">\n",
       "  <thead>\n",
       "    <tr style=\"text-align: right;\">\n",
       "      <th></th>\n",
       "      <th>Symbol</th>\n",
       "      <th>Name</th>\n",
       "      <th>Sector</th>\n",
       "      <th>Industry</th>\n",
       "    </tr>\n",
       "  </thead>\n",
       "  <tbody>\n",
       "    <tr>\n",
       "      <th>2269</th>\n",
       "      <td>299480</td>\n",
       "      <td>지앤이헬스케어</td>\n",
       "      <td>기타 섬유제품 제조업</td>\n",
       "      <td>면생리대</td>\n",
       "    </tr>\n",
       "    <tr>\n",
       "      <th>2270</th>\n",
       "      <td>199800</td>\n",
       "      <td>툴젠</td>\n",
       "      <td>자연과학 및 공학 연구개발업</td>\n",
       "      <td>유전자가위 (유전체 교정 도구) 및 이를 이용한 유전자세포치료제, 고부가가치 가축,...</td>\n",
       "    </tr>\n",
       "    <tr>\n",
       "      <th>2271</th>\n",
       "      <td>228180</td>\n",
       "      <td>티씨엠생명과학</td>\n",
       "      <td>자연과학 및 공학 연구개발업</td>\n",
       "      <td>체외진단서비스 개발 및 진단 용역</td>\n",
       "    </tr>\n",
       "    <tr>\n",
       "      <th>2272</th>\n",
       "      <td>217880</td>\n",
       "      <td>틸론</td>\n",
       "      <td>소프트웨어 개발 및 공급업</td>\n",
       "      <td>Cloud Solution (D,A,E,Rstation)</td>\n",
       "    </tr>\n",
       "    <tr>\n",
       "      <th>2273</th>\n",
       "      <td>202960</td>\n",
       "      <td>판도라티비</td>\n",
       "      <td>소프트웨어 개발 및 공급업</td>\n",
       "      <td>판도라TV, KM 플레이어</td>\n",
       "    </tr>\n",
       "  </tbody>\n",
       "</table>\n",
       "</div>"
      ],
      "text/plain": [
       "      Symbol     Name           Sector  \\\n",
       "2269  299480  지앤이헬스케어      기타 섬유제품 제조업   \n",
       "2270  199800       툴젠  자연과학 및 공학 연구개발업   \n",
       "2271  228180  티씨엠생명과학  자연과학 및 공학 연구개발업   \n",
       "2272  217880       틸론   소프트웨어 개발 및 공급업   \n",
       "2273  202960    판도라티비   소프트웨어 개발 및 공급업   \n",
       "\n",
       "                                               Industry  \n",
       "2269                                               면생리대  \n",
       "2270  유전자가위 (유전체 교정 도구) 및 이를 이용한 유전자세포치료제, 고부가가치 가축,...  \n",
       "2271                                 체외진단서비스 개발 및 진단 용역  \n",
       "2272                    Cloud Solution (D,A,E,Rstation)  \n",
       "2273                                     판도라TV, KM 플레이어  "
      ]
     },
     "execution_count": 7,
     "metadata": {},
     "output_type": "execute_result"
    }
   ],
   "source": [
    "df_krx.tail()"
   ]
  },
  {
   "cell_type": "code",
   "execution_count": 8,
   "metadata": {},
   "outputs": [
    {
     "data": {
      "text/plain": [
       "(2274, 4)"
      ]
     },
     "execution_count": 8,
     "metadata": {},
     "output_type": "execute_result"
    }
   ],
   "source": [
    "df_krx.shape"
   ]
  },
  {
   "cell_type": "code",
   "execution_count": 9,
   "metadata": {},
   "outputs": [
    {
     "data": {
      "text/plain": [
       "array([['001250', 'GS글로벌', '상품 종합 도매업',\n",
       "        '수출입업(시멘트,철강금속,전기전자,섬유,기계화학),상품중개,광업,채석업/하수처리 서비스/부동산 임대'],\n",
       "       ['082740', 'HSD엔진', '일반 목적용 기계 제조업', '대형선박용엔진,내연발전엔진'],\n",
       "       ['001390', 'KG케미칼', '기초 화학물질 제조업', '콘크리트혼화제, 비료, 친환경농자재, 수처리제'],\n",
       "       ...,\n",
       "       ['228180', '티씨엠생명과학', '자연과학 및 공학 연구개발업', '체외진단서비스 개발 및 진단 용역'],\n",
       "       ['217880', '틸론', '소프트웨어 개발 및 공급업',\n",
       "        'Cloud Solution (D,A,E,Rstation)'],\n",
       "       ['202960', '판도라티비', '소프트웨어 개발 및 공급업', '판도라TV, KM 플레이어']],\n",
       "      dtype=object)"
      ]
     },
     "execution_count": 9,
     "metadata": {},
     "output_type": "execute_result"
    }
   ],
   "source": [
    "df_krx.values"
   ]
  },
  {
   "cell_type": "code",
   "execution_count": 10,
   "metadata": {},
   "outputs": [
    {
     "data": {
      "text/plain": [
       "Symbol      object\n",
       "Name        object\n",
       "Sector      object\n",
       "Industry    object\n",
       "dtype: object"
      ]
     },
     "execution_count": 10,
     "metadata": {},
     "output_type": "execute_result"
    }
   ],
   "source": [
    "df_krx.dtypes"
   ]
  },
  {
   "cell_type": "code",
   "execution_count": 11,
   "metadata": {},
   "outputs": [
    {
     "data": {
      "text/plain": [
       "9096"
      ]
     },
     "execution_count": 11,
     "metadata": {},
     "output_type": "execute_result"
    }
   ],
   "source": [
    "df_krx.size"
   ]
  },
  {
   "cell_type": "markdown",
   "metadata": {},
   "source": [
    "# 2.  코스피 종목 가져오기"
   ]
  },
  {
   "cell_type": "code",
   "execution_count": 12,
   "metadata": {},
   "outputs": [],
   "source": [
    "df_kospi = fdr.StockListing('KOSPI')"
   ]
  },
  {
   "cell_type": "code",
   "execution_count": 13,
   "metadata": {},
   "outputs": [
    {
     "data": {
      "text/plain": [
       "(791, 4)"
      ]
     },
     "execution_count": 13,
     "metadata": {},
     "output_type": "execute_result"
    }
   ],
   "source": [
    "df_kospi.shape"
   ]
  },
  {
   "cell_type": "code",
   "execution_count": null,
   "metadata": {},
   "outputs": [],
   "source": []
  },
  {
   "cell_type": "markdown",
   "metadata": {},
   "source": [
    "# 3.  코스닥 정보 가져오기"
   ]
  },
  {
   "cell_type": "code",
   "execution_count": 14,
   "metadata": {},
   "outputs": [],
   "source": [
    "df_kosdaq = fdr.StockListing('KOSDAQ')"
   ]
  },
  {
   "cell_type": "code",
   "execution_count": 15,
   "metadata": {},
   "outputs": [
    {
     "data": {
      "text/plain": [
       "(1332, 4)"
      ]
     },
     "execution_count": 15,
     "metadata": {},
     "output_type": "execute_result"
    }
   ],
   "source": [
    "df_kosdaq.shape"
   ]
  },
  {
   "cell_type": "code",
   "execution_count": null,
   "metadata": {},
   "outputs": [],
   "source": []
  },
  {
   "cell_type": "markdown",
   "metadata": {},
   "source": [
    "# 4.  신라젠 정보 및 재무정보 가져오기 \n",
    "\n",
    "\n",
    "    가격 데이터 - 국내주식\n",
    "    단축 코드(6자리)를 사용.\n",
    "\n",
    "    코스피 종목: 068270(셀트리온), 005380(현대차) 등\n",
    "    코스닥 종목: 215600(신라젠), 151910(나노스) 등"
   ]
  },
  {
   "cell_type": "code",
   "execution_count": 16,
   "metadata": {},
   "outputs": [],
   "source": [
    "item_name = \"신라젠\""
   ]
  },
  {
   "cell_type": "code",
   "execution_count": 17,
   "metadata": {},
   "outputs": [
    {
     "data": {
      "text/html": [
       "<div>\n",
       "<style scoped>\n",
       "    .dataframe tbody tr th:only-of-type {\n",
       "        vertical-align: middle;\n",
       "    }\n",
       "\n",
       "    .dataframe tbody tr th {\n",
       "        vertical-align: top;\n",
       "    }\n",
       "\n",
       "    .dataframe thead th {\n",
       "        text-align: right;\n",
       "    }\n",
       "</style>\n",
       "<table border=\"1\" class=\"dataframe\">\n",
       "  <thead>\n",
       "    <tr style=\"text-align: right;\">\n",
       "      <th></th>\n",
       "      <th>Symbol</th>\n",
       "      <th>Name</th>\n",
       "    </tr>\n",
       "  </thead>\n",
       "  <tbody>\n",
       "    <tr>\n",
       "      <th>743</th>\n",
       "      <td>215600</td>\n",
       "      <td>신라젠</td>\n",
       "    </tr>\n",
       "  </tbody>\n",
       "</table>\n",
       "</div>"
      ],
      "text/plain": [
       "     Symbol Name\n",
       "743  215600  신라젠"
      ]
     },
     "execution_count": 17,
     "metadata": {},
     "output_type": "execute_result"
    }
   ],
   "source": [
    "df_krx.query(\"Name=='{}'\".format(item_name))[['Symbol','Name']]"
   ]
  },
  {
   "cell_type": "code",
   "execution_count": 18,
   "metadata": {},
   "outputs": [
    {
     "data": {
      "text/plain": [
       "'215600'"
      ]
     },
     "execution_count": 18,
     "metadata": {},
     "output_type": "execute_result"
    }
   ],
   "source": [
    "df_krx.query(\"Name=='{}'\".format(item_name))['Symbol'].iloc[0]"
   ]
  },
  {
   "cell_type": "markdown",
   "metadata": {},
   "source": [
    "## 재무제표 정보 가져오기 "
   ]
  },
  {
   "cell_type": "code",
   "execution_count": 19,
   "metadata": {},
   "outputs": [],
   "source": [
    "import fsdata"
   ]
  },
  {
   "cell_type": "code",
   "execution_count": 20,
   "metadata": {},
   "outputs": [],
   "source": [
    "fs_data = fsdata.make_fsdata(\"A\" + df_krx.query(\"Name=='{}'\".format(item_name))['Symbol'].iloc[0])"
   ]
  },
  {
   "cell_type": "code",
   "execution_count": 21,
   "metadata": {},
   "outputs": [
    {
     "data": {
      "text/html": [
       "<div>\n",
       "<style scoped>\n",
       "    .dataframe tbody tr th:only-of-type {\n",
       "        vertical-align: middle;\n",
       "    }\n",
       "\n",
       "    .dataframe tbody tr th {\n",
       "        vertical-align: top;\n",
       "    }\n",
       "\n",
       "    .dataframe thead th {\n",
       "        text-align: right;\n",
       "    }\n",
       "</style>\n",
       "<table border=\"1\" class=\"dataframe\">\n",
       "  <thead>\n",
       "    <tr style=\"text-align: right;\">\n",
       "      <th></th>\n",
       "      <th>2015/12</th>\n",
       "      <th>2016/12</th>\n",
       "      <th>2017/12</th>\n",
       "      <th>2018/12</th>\n",
       "    </tr>\n",
       "    <tr>\n",
       "      <th>IFRS(연결)</th>\n",
       "      <th></th>\n",
       "      <th></th>\n",
       "      <th></th>\n",
       "      <th></th>\n",
       "    </tr>\n",
       "  </thead>\n",
       "  <tbody>\n",
       "    <tr>\n",
       "      <th>매출액</th>\n",
       "      <td>18.0</td>\n",
       "      <td>53.0</td>\n",
       "      <td>69.0</td>\n",
       "      <td>77.0</td>\n",
       "    </tr>\n",
       "    <tr>\n",
       "      <th>영업이익</th>\n",
       "      <td>-238.0</td>\n",
       "      <td>-468.0</td>\n",
       "      <td>-506.0</td>\n",
       "      <td>-590.0</td>\n",
       "    </tr>\n",
       "    <tr>\n",
       "      <th>당기순이익</th>\n",
       "      <td>-559.0</td>\n",
       "      <td>-740.0</td>\n",
       "      <td>-570.0</td>\n",
       "      <td>-562.0</td>\n",
       "    </tr>\n",
       "    <tr>\n",
       "      <th>자산</th>\n",
       "      <td>1530.0</td>\n",
       "      <td>2841.0</td>\n",
       "      <td>2350.0</td>\n",
       "      <td>1932.0</td>\n",
       "    </tr>\n",
       "    <tr>\n",
       "      <th>부채</th>\n",
       "      <td>661.0</td>\n",
       "      <td>762.0</td>\n",
       "      <td>330.0</td>\n",
       "      <td>281.0</td>\n",
       "    </tr>\n",
       "    <tr>\n",
       "      <th>자본</th>\n",
       "      <td>869.0</td>\n",
       "      <td>2080.0</td>\n",
       "      <td>2019.0</td>\n",
       "      <td>1651.0</td>\n",
       "    </tr>\n",
       "    <tr>\n",
       "      <th>영업활동으로인한현금흐름</th>\n",
       "      <td>-224.0</td>\n",
       "      <td>-1980.0</td>\n",
       "      <td>338.0</td>\n",
       "      <td>-484.0</td>\n",
       "    </tr>\n",
       "  </tbody>\n",
       "</table>\n",
       "</div>"
      ],
      "text/plain": [
       "              2015/12  2016/12  2017/12  2018/12\n",
       "IFRS(연결)                                        \n",
       "매출액              18.0     53.0     69.0     77.0\n",
       "영업이익           -238.0   -468.0   -506.0   -590.0\n",
       "당기순이익          -559.0   -740.0   -570.0   -562.0\n",
       "자산             1530.0   2841.0   2350.0   1932.0\n",
       "부채              661.0    762.0    330.0    281.0\n",
       "자본              869.0   2080.0   2019.0   1651.0\n",
       "영업활동으로인한현금흐름   -224.0  -1980.0    338.0   -484.0"
      ]
     },
     "execution_count": 21,
     "metadata": {},
     "output_type": "execute_result"
    }
   ],
   "source": [
    "fs_data"
   ]
  },
  {
   "cell_type": "code",
   "execution_count": 22,
   "metadata": {},
   "outputs": [],
   "source": [
    "import fsdata_"
   ]
  },
  {
   "cell_type": "code",
   "execution_count": 23,
   "metadata": {},
   "outputs": [],
   "source": [
    "fs_data1  = fsdata_.make_fsdata(\"A\" + df_krx.query(\"Name=='{}'\".format(item_name))['Symbol'].iloc[0])"
   ]
  },
  {
   "cell_type": "code",
   "execution_count": 24,
   "metadata": {},
   "outputs": [
    {
     "data": {
      "text/html": [
       "<div>\n",
       "<style scoped>\n",
       "    .dataframe tbody tr th:only-of-type {\n",
       "        vertical-align: middle;\n",
       "    }\n",
       "\n",
       "    .dataframe tbody tr th {\n",
       "        vertical-align: top;\n",
       "    }\n",
       "\n",
       "    .dataframe thead tr th {\n",
       "        text-align: left;\n",
       "    }\n",
       "\n",
       "    .dataframe thead tr:last-of-type th {\n",
       "        text-align: right;\n",
       "    }\n",
       "</style>\n",
       "<table border=\"1\" class=\"dataframe\">\n",
       "  <thead>\n",
       "    <tr>\n",
       "      <th></th>\n",
       "      <th colspan=\"7\" halign=\"left\">2015/12</th>\n",
       "      <th colspan=\"3\" halign=\"left\">2016/12</th>\n",
       "      <th>...</th>\n",
       "      <th colspan=\"3\" halign=\"left\">2017/12</th>\n",
       "      <th colspan=\"7\" halign=\"left\">2018/12</th>\n",
       "    </tr>\n",
       "    <tr>\n",
       "      <th>IFRS(연결)</th>\n",
       "      <th>매출액</th>\n",
       "      <th>영업이익</th>\n",
       "      <th>당기순이익</th>\n",
       "      <th>자산</th>\n",
       "      <th>부채</th>\n",
       "      <th>자본</th>\n",
       "      <th>영업활동으로인한현금흐름</th>\n",
       "      <th>매출액</th>\n",
       "      <th>영업이익</th>\n",
       "      <th>당기순이익</th>\n",
       "      <th>...</th>\n",
       "      <th>부채</th>\n",
       "      <th>자본</th>\n",
       "      <th>영업활동으로인한현금흐름</th>\n",
       "      <th>매출액</th>\n",
       "      <th>영업이익</th>\n",
       "      <th>당기순이익</th>\n",
       "      <th>자산</th>\n",
       "      <th>부채</th>\n",
       "      <th>자본</th>\n",
       "      <th>영업활동으로인한현금흐름</th>\n",
       "    </tr>\n",
       "    <tr>\n",
       "      <th>firmcode</th>\n",
       "      <th></th>\n",
       "      <th></th>\n",
       "      <th></th>\n",
       "      <th></th>\n",
       "      <th></th>\n",
       "      <th></th>\n",
       "      <th></th>\n",
       "      <th></th>\n",
       "      <th></th>\n",
       "      <th></th>\n",
       "      <th></th>\n",
       "      <th></th>\n",
       "      <th></th>\n",
       "      <th></th>\n",
       "      <th></th>\n",
       "      <th></th>\n",
       "      <th></th>\n",
       "      <th></th>\n",
       "      <th></th>\n",
       "      <th></th>\n",
       "      <th></th>\n",
       "    </tr>\n",
       "  </thead>\n",
       "  <tbody>\n",
       "    <tr>\n",
       "      <th>A215600</th>\n",
       "      <td>18.0</td>\n",
       "      <td>-238.0</td>\n",
       "      <td>-559.0</td>\n",
       "      <td>1530.0</td>\n",
       "      <td>661.0</td>\n",
       "      <td>869.0</td>\n",
       "      <td>-224.0</td>\n",
       "      <td>53.0</td>\n",
       "      <td>-468.0</td>\n",
       "      <td>-740.0</td>\n",
       "      <td>...</td>\n",
       "      <td>330.0</td>\n",
       "      <td>2019.0</td>\n",
       "      <td>338.0</td>\n",
       "      <td>77.0</td>\n",
       "      <td>-590.0</td>\n",
       "      <td>-562.0</td>\n",
       "      <td>1932.0</td>\n",
       "      <td>281.0</td>\n",
       "      <td>1651.0</td>\n",
       "      <td>-484.0</td>\n",
       "    </tr>\n",
       "  </tbody>\n",
       "</table>\n",
       "<p>1 rows × 28 columns</p>\n",
       "</div>"
      ],
      "text/plain": [
       "         2015/12                                                  2016/12  \\\n",
       "IFRS(연결)     매출액   영업이익  당기순이익      자산     부채     자본 영업활동으로인한현금흐름     매출액   \n",
       "firmcode                                                                    \n",
       "A215600     18.0 -238.0 -559.0  1530.0  661.0  869.0       -224.0    53.0   \n",
       "\n",
       "                        ... 2017/12                      2018/12         \\\n",
       "IFRS(연결)   영업이익  당기순이익  ...      부채      자본 영업활동으로인한현금흐름     매출액   영업이익   \n",
       "firmcode                ...                                               \n",
       "A215600  -468.0 -740.0  ...   330.0  2019.0        338.0    77.0 -590.0   \n",
       "\n",
       "                                                     \n",
       "IFRS(연결)  당기순이익      자산     부채      자본 영업활동으로인한현금흐름  \n",
       "firmcode                                             \n",
       "A215600  -562.0  1932.0  281.0  1651.0       -484.0  \n",
       "\n",
       "[1 rows x 28 columns]"
      ]
     },
     "execution_count": 24,
     "metadata": {},
     "output_type": "execute_result"
    }
   ],
   "source": [
    "fs_data1 "
   ]
  },
  {
   "cell_type": "code",
   "execution_count": null,
   "metadata": {},
   "outputs": [],
   "source": []
  },
  {
   "cell_type": "code",
   "execution_count": 25,
   "metadata": {},
   "outputs": [],
   "source": [
    "item_name1 = \"셀트리온\""
   ]
  },
  {
   "cell_type": "code",
   "execution_count": 26,
   "metadata": {},
   "outputs": [
    {
     "data": {
      "text/html": [
       "<div>\n",
       "<style scoped>\n",
       "    .dataframe tbody tr th:only-of-type {\n",
       "        vertical-align: middle;\n",
       "    }\n",
       "\n",
       "    .dataframe tbody tr th {\n",
       "        vertical-align: top;\n",
       "    }\n",
       "\n",
       "    .dataframe thead th {\n",
       "        text-align: right;\n",
       "    }\n",
       "</style>\n",
       "<table border=\"1\" class=\"dataframe\">\n",
       "  <thead>\n",
       "    <tr style=\"text-align: right;\">\n",
       "      <th></th>\n",
       "      <th>Symbol</th>\n",
       "      <th>Name</th>\n",
       "    </tr>\n",
       "  </thead>\n",
       "  <tbody>\n",
       "    <tr>\n",
       "      <th>918</th>\n",
       "      <td>068270</td>\n",
       "      <td>셀트리온</td>\n",
       "    </tr>\n",
       "  </tbody>\n",
       "</table>\n",
       "</div>"
      ],
      "text/plain": [
       "     Symbol  Name\n",
       "918  068270  셀트리온"
      ]
     },
     "execution_count": 26,
     "metadata": {},
     "output_type": "execute_result"
    }
   ],
   "source": [
    "df_krx.query(\"Name=='{}'\".format(item_name1))[['Symbol','Name']]"
   ]
  },
  {
   "cell_type": "code",
   "execution_count": 27,
   "metadata": {},
   "outputs": [
    {
     "data": {
      "text/plain": [
       "'068270'"
      ]
     },
     "execution_count": 27,
     "metadata": {},
     "output_type": "execute_result"
    }
   ],
   "source": [
    "df_krx.query(\"Name=='{}'\".format(item_name1))['Symbol'].iloc[0]"
   ]
  },
  {
   "cell_type": "code",
   "execution_count": 28,
   "metadata": {},
   "outputs": [],
   "source": [
    "fs_data2  = fsdata_.make_fsdata(\"A\" + df_krx.query(\"Name=='{}'\".format(item_name1))['Symbol'].iloc[0])"
   ]
  },
  {
   "cell_type": "code",
   "execution_count": 29,
   "metadata": {},
   "outputs": [
    {
     "data": {
      "text/html": [
       "<div>\n",
       "<style scoped>\n",
       "    .dataframe tbody tr th:only-of-type {\n",
       "        vertical-align: middle;\n",
       "    }\n",
       "\n",
       "    .dataframe tbody tr th {\n",
       "        vertical-align: top;\n",
       "    }\n",
       "\n",
       "    .dataframe thead tr th {\n",
       "        text-align: left;\n",
       "    }\n",
       "\n",
       "    .dataframe thead tr:last-of-type th {\n",
       "        text-align: right;\n",
       "    }\n",
       "</style>\n",
       "<table border=\"1\" class=\"dataframe\">\n",
       "  <thead>\n",
       "    <tr>\n",
       "      <th></th>\n",
       "      <th colspan=\"7\" halign=\"left\">2015/12</th>\n",
       "      <th colspan=\"3\" halign=\"left\">2016/12</th>\n",
       "      <th>...</th>\n",
       "      <th colspan=\"3\" halign=\"left\">2017/12</th>\n",
       "      <th colspan=\"7\" halign=\"left\">2018/12</th>\n",
       "    </tr>\n",
       "    <tr>\n",
       "      <th>IFRS(연결)</th>\n",
       "      <th>매출액</th>\n",
       "      <th>영업이익</th>\n",
       "      <th>당기순이익</th>\n",
       "      <th>자산</th>\n",
       "      <th>부채</th>\n",
       "      <th>자본</th>\n",
       "      <th>영업활동으로인한현금흐름</th>\n",
       "      <th>매출액</th>\n",
       "      <th>영업이익</th>\n",
       "      <th>당기순이익</th>\n",
       "      <th>...</th>\n",
       "      <th>부채</th>\n",
       "      <th>자본</th>\n",
       "      <th>영업활동으로인한현금흐름</th>\n",
       "      <th>매출액</th>\n",
       "      <th>영업이익</th>\n",
       "      <th>당기순이익</th>\n",
       "      <th>자산</th>\n",
       "      <th>부채</th>\n",
       "      <th>자본</th>\n",
       "      <th>영업활동으로인한현금흐름</th>\n",
       "    </tr>\n",
       "    <tr>\n",
       "      <th>firmcode</th>\n",
       "      <th></th>\n",
       "      <th></th>\n",
       "      <th></th>\n",
       "      <th></th>\n",
       "      <th></th>\n",
       "      <th></th>\n",
       "      <th></th>\n",
       "      <th></th>\n",
       "      <th></th>\n",
       "      <th></th>\n",
       "      <th></th>\n",
       "      <th></th>\n",
       "      <th></th>\n",
       "      <th></th>\n",
       "      <th></th>\n",
       "      <th></th>\n",
       "      <th></th>\n",
       "      <th></th>\n",
       "      <th></th>\n",
       "      <th></th>\n",
       "      <th></th>\n",
       "    </tr>\n",
       "  </thead>\n",
       "  <tbody>\n",
       "    <tr>\n",
       "      <th>A068270</th>\n",
       "      <td>6034.0</td>\n",
       "      <td>2590.0</td>\n",
       "      <td>1583.0</td>\n",
       "      <td>27482.0</td>\n",
       "      <td>9384.0</td>\n",
       "      <td>18098.0</td>\n",
       "      <td>776.0</td>\n",
       "      <td>6706.0</td>\n",
       "      <td>2497.0</td>\n",
       "      <td>1805.0</td>\n",
       "      <td>...</td>\n",
       "      <td>8836.0</td>\n",
       "      <td>24319.0</td>\n",
       "      <td>4975.0</td>\n",
       "      <td>9821.0</td>\n",
       "      <td>3387.0</td>\n",
       "      <td>2536.0</td>\n",
       "      <td>35406.0</td>\n",
       "      <td>9078.0</td>\n",
       "      <td>26328.0</td>\n",
       "      <td>3821.0</td>\n",
       "    </tr>\n",
       "  </tbody>\n",
       "</table>\n",
       "<p>1 rows × 28 columns</p>\n",
       "</div>"
      ],
      "text/plain": [
       "         2015/12                                                         \\\n",
       "IFRS(연결)     매출액    영업이익   당기순이익       자산      부채       자본 영업활동으로인한현금흐름   \n",
       "firmcode                                                                  \n",
       "A068270   6034.0  2590.0  1583.0  27482.0  9384.0  18098.0        776.0   \n",
       "\n",
       "         2016/12                  ... 2017/12                       2018/12  \\\n",
       "IFRS(연결)     매출액    영업이익   당기순이익  ...      부채       자본 영업활동으로인한현금흐름     매출액   \n",
       "firmcode                          ...                                         \n",
       "A068270   6706.0  2497.0  1805.0  ...  8836.0  24319.0       4975.0  9821.0   \n",
       "\n",
       "                                                                 \n",
       "IFRS(연결)    영업이익   당기순이익       자산      부채       자본 영업활동으로인한현금흐름  \n",
       "firmcode                                                         \n",
       "A068270   3387.0  2536.0  35406.0  9078.0  26328.0       3821.0  \n",
       "\n",
       "[1 rows x 28 columns]"
      ]
     },
     "execution_count": 29,
     "metadata": {},
     "output_type": "execute_result"
    }
   ],
   "source": [
    "fs_data2"
   ]
  },
  {
   "cell_type": "code",
   "execution_count": null,
   "metadata": {},
   "outputs": [],
   "source": []
  },
  {
   "cell_type": "code",
   "execution_count": 30,
   "metadata": {},
   "outputs": [],
   "source": [
    "fs_t_data = pd.concat([fs_data1, fs_data2], axis=0)"
   ]
  },
  {
   "cell_type": "code",
   "execution_count": 31,
   "metadata": {},
   "outputs": [
    {
     "data": {
      "text/html": [
       "<div>\n",
       "<style scoped>\n",
       "    .dataframe tbody tr th:only-of-type {\n",
       "        vertical-align: middle;\n",
       "    }\n",
       "\n",
       "    .dataframe tbody tr th {\n",
       "        vertical-align: top;\n",
       "    }\n",
       "\n",
       "    .dataframe thead tr th {\n",
       "        text-align: left;\n",
       "    }\n",
       "\n",
       "    .dataframe thead tr:last-of-type th {\n",
       "        text-align: right;\n",
       "    }\n",
       "</style>\n",
       "<table border=\"1\" class=\"dataframe\">\n",
       "  <thead>\n",
       "    <tr>\n",
       "      <th></th>\n",
       "      <th colspan=\"7\" halign=\"left\">2015/12</th>\n",
       "      <th colspan=\"3\" halign=\"left\">2016/12</th>\n",
       "      <th>...</th>\n",
       "      <th colspan=\"3\" halign=\"left\">2017/12</th>\n",
       "      <th colspan=\"7\" halign=\"left\">2018/12</th>\n",
       "    </tr>\n",
       "    <tr>\n",
       "      <th>IFRS(연결)</th>\n",
       "      <th>매출액</th>\n",
       "      <th>영업이익</th>\n",
       "      <th>당기순이익</th>\n",
       "      <th>자산</th>\n",
       "      <th>부채</th>\n",
       "      <th>자본</th>\n",
       "      <th>영업활동으로인한현금흐름</th>\n",
       "      <th>매출액</th>\n",
       "      <th>영업이익</th>\n",
       "      <th>당기순이익</th>\n",
       "      <th>...</th>\n",
       "      <th>부채</th>\n",
       "      <th>자본</th>\n",
       "      <th>영업활동으로인한현금흐름</th>\n",
       "      <th>매출액</th>\n",
       "      <th>영업이익</th>\n",
       "      <th>당기순이익</th>\n",
       "      <th>자산</th>\n",
       "      <th>부채</th>\n",
       "      <th>자본</th>\n",
       "      <th>영업활동으로인한현금흐름</th>\n",
       "    </tr>\n",
       "    <tr>\n",
       "      <th>firmcode</th>\n",
       "      <th></th>\n",
       "      <th></th>\n",
       "      <th></th>\n",
       "      <th></th>\n",
       "      <th></th>\n",
       "      <th></th>\n",
       "      <th></th>\n",
       "      <th></th>\n",
       "      <th></th>\n",
       "      <th></th>\n",
       "      <th></th>\n",
       "      <th></th>\n",
       "      <th></th>\n",
       "      <th></th>\n",
       "      <th></th>\n",
       "      <th></th>\n",
       "      <th></th>\n",
       "      <th></th>\n",
       "      <th></th>\n",
       "      <th></th>\n",
       "      <th></th>\n",
       "    </tr>\n",
       "  </thead>\n",
       "  <tbody>\n",
       "    <tr>\n",
       "      <th>A215600</th>\n",
       "      <td>18.0</td>\n",
       "      <td>-238.0</td>\n",
       "      <td>-559.0</td>\n",
       "      <td>1530.0</td>\n",
       "      <td>661.0</td>\n",
       "      <td>869.0</td>\n",
       "      <td>-224.0</td>\n",
       "      <td>53.0</td>\n",
       "      <td>-468.0</td>\n",
       "      <td>-740.0</td>\n",
       "      <td>...</td>\n",
       "      <td>330.0</td>\n",
       "      <td>2019.0</td>\n",
       "      <td>338.0</td>\n",
       "      <td>77.0</td>\n",
       "      <td>-590.0</td>\n",
       "      <td>-562.0</td>\n",
       "      <td>1932.0</td>\n",
       "      <td>281.0</td>\n",
       "      <td>1651.0</td>\n",
       "      <td>-484.0</td>\n",
       "    </tr>\n",
       "    <tr>\n",
       "      <th>A068270</th>\n",
       "      <td>6034.0</td>\n",
       "      <td>2590.0</td>\n",
       "      <td>1583.0</td>\n",
       "      <td>27482.0</td>\n",
       "      <td>9384.0</td>\n",
       "      <td>18098.0</td>\n",
       "      <td>776.0</td>\n",
       "      <td>6706.0</td>\n",
       "      <td>2497.0</td>\n",
       "      <td>1805.0</td>\n",
       "      <td>...</td>\n",
       "      <td>8836.0</td>\n",
       "      <td>24319.0</td>\n",
       "      <td>4975.0</td>\n",
       "      <td>9821.0</td>\n",
       "      <td>3387.0</td>\n",
       "      <td>2536.0</td>\n",
       "      <td>35406.0</td>\n",
       "      <td>9078.0</td>\n",
       "      <td>26328.0</td>\n",
       "      <td>3821.0</td>\n",
       "    </tr>\n",
       "  </tbody>\n",
       "</table>\n",
       "<p>2 rows × 28 columns</p>\n",
       "</div>"
      ],
      "text/plain": [
       "         2015/12                                                         \\\n",
       "IFRS(연결)     매출액    영업이익   당기순이익       자산      부채       자본 영업활동으로인한현금흐름   \n",
       "firmcode                                                                  \n",
       "A215600     18.0  -238.0  -559.0   1530.0   661.0    869.0       -224.0   \n",
       "A068270   6034.0  2590.0  1583.0  27482.0  9384.0  18098.0        776.0   \n",
       "\n",
       "         2016/12                  ... 2017/12                       2018/12  \\\n",
       "IFRS(연결)     매출액    영업이익   당기순이익  ...      부채       자본 영업활동으로인한현금흐름     매출액   \n",
       "firmcode                          ...                                         \n",
       "A215600     53.0  -468.0  -740.0  ...   330.0   2019.0        338.0    77.0   \n",
       "A068270   6706.0  2497.0  1805.0  ...  8836.0  24319.0       4975.0  9821.0   \n",
       "\n",
       "                                                                 \n",
       "IFRS(연결)    영업이익   당기순이익       자산      부채       자본 영업활동으로인한현금흐름  \n",
       "firmcode                                                         \n",
       "A215600   -590.0  -562.0   1932.0   281.0   1651.0       -484.0  \n",
       "A068270   3387.0  2536.0  35406.0  9078.0  26328.0       3821.0  \n",
       "\n",
       "[2 rows x 28 columns]"
      ]
     },
     "execution_count": 31,
     "metadata": {},
     "output_type": "execute_result"
    }
   ],
   "source": [
    "fs_t_data"
   ]
  },
  {
   "cell_type": "code",
   "execution_count": 32,
   "metadata": {},
   "outputs": [
    {
     "data": {
      "text/plain": [
       "MultiIndex(levels=[['2015/12', '2016/12', '2017/12', '2018/12'], ['당기순이익', '매출액', '부채', '영업이익', '영업활동으로인한현금흐름', '자본', '자산']],\n",
       "           codes=[[0, 0, 0, 0, 0, 0, 0, 1, 1, 1, 1, 1, 1, 1, 2, 2, 2, 2, 2, 2, 2, 3, 3, 3, 3, 3, 3, 3], [1, 3, 0, 6, 2, 5, 4, 1, 3, 0, 6, 2, 5, 4, 1, 3, 0, 6, 2, 5, 4, 1, 3, 0, 6, 2, 5, 4]],\n",
       "           names=[None, 'IFRS(연결)'])"
      ]
     },
     "execution_count": 32,
     "metadata": {},
     "output_type": "execute_result"
    }
   ],
   "source": [
    "fs_t_data.columns"
   ]
  },
  {
   "cell_type": "code",
   "execution_count": 33,
   "metadata": {},
   "outputs": [
    {
     "data": {
      "text/plain": [
       "array([<matplotlib.axes._subplots.AxesSubplot object at 0x0000023F893F7DA0>],\n",
       "      dtype=object)"
      ]
     },
     "execution_count": 33,
     "metadata": {},
     "output_type": "execute_result"
    },
    {
     "data": {
      "image/png": "[encoded data removed]",
      "text/plain": [
       "<Figure size 432x288 with 1 Axes>"
      ]
     },
     "metadata": {
      "needs_background": "light"
     },
     "output_type": "display_data"
    }
   ],
   "source": [
    "fs_t_data.unstack().plot(kind='bar',subplots=True)"
   ]
  },
  {
   "cell_type": "code",
   "execution_count": 34,
   "metadata": {},
   "outputs": [
    {
     "data": {
      "image/png": "[encoded data removed]",
      "text/plain": [
       "<Figure size 720x720 with 1 Axes>"
      ]
     },
     "metadata": {
      "needs_background": "light"
     },
     "output_type": "display_data"
    }
   ],
   "source": [
    "fg = sns.catplot(data=fs_t_data['2015/12'], kind='bar',height=10)"
   ]
  },
  {
   "cell_type": "code",
   "execution_count": 35,
   "metadata": {},
   "outputs": [
    {
     "data": {
      "image/png": "[encoded data removed]",
      "text/plain": [
       "<Figure size 720x720 with 1 Axes>"
      ]
     },
     "metadata": {
      "needs_background": "light"
     },
     "output_type": "display_data"
    }
   ],
   "source": [
    "fg = sns.catplot(data=fs_t_data[['2015/12','2016/12']], kind='bar',height=10)"
   ]
  },
  {
   "cell_type": "code",
   "execution_count": 36,
   "metadata": {},
   "outputs": [],
   "source": [
    "x = fs_t_data.iloc[:, :6]"
   ]
  },
  {
   "cell_type": "code",
   "execution_count": 37,
   "metadata": {},
   "outputs": [],
   "source": [
    "x = x.unstack()"
   ]
  },
  {
   "cell_type": "code",
   "execution_count": 38,
   "metadata": {},
   "outputs": [],
   "source": [
    "x = x.unstack(level=2)"
   ]
  },
  {
   "cell_type": "code",
   "execution_count": 39,
   "metadata": {},
   "outputs": [
    {
     "data": {
      "text/html": [
       "<div>\n",
       "<style scoped>\n",
       "    .dataframe tbody tr th:only-of-type {\n",
       "        vertical-align: middle;\n",
       "    }\n",
       "\n",
       "    .dataframe tbody tr th {\n",
       "        vertical-align: top;\n",
       "    }\n",
       "\n",
       "    .dataframe thead th {\n",
       "        text-align: right;\n",
       "    }\n",
       "</style>\n",
       "<table border=\"1\" class=\"dataframe\">\n",
       "  <thead>\n",
       "    <tr style=\"text-align: right;\">\n",
       "      <th></th>\n",
       "      <th>firmcode</th>\n",
       "      <th>A215600</th>\n",
       "      <th>A068270</th>\n",
       "    </tr>\n",
       "    <tr>\n",
       "      <th></th>\n",
       "      <th>IFRS(연결)</th>\n",
       "      <th></th>\n",
       "      <th></th>\n",
       "    </tr>\n",
       "  </thead>\n",
       "  <tbody>\n",
       "    <tr>\n",
       "      <th rowspan=\"5\" valign=\"top\">2015/12</th>\n",
       "      <th>매출액</th>\n",
       "      <td>18.0</td>\n",
       "      <td>6034.0</td>\n",
       "    </tr>\n",
       "    <tr>\n",
       "      <th>영업이익</th>\n",
       "      <td>-238.0</td>\n",
       "      <td>2590.0</td>\n",
       "    </tr>\n",
       "    <tr>\n",
       "      <th>당기순이익</th>\n",
       "      <td>-559.0</td>\n",
       "      <td>1583.0</td>\n",
       "    </tr>\n",
       "    <tr>\n",
       "      <th>자산</th>\n",
       "      <td>1530.0</td>\n",
       "      <td>27482.0</td>\n",
       "    </tr>\n",
       "    <tr>\n",
       "      <th>부채</th>\n",
       "      <td>661.0</td>\n",
       "      <td>9384.0</td>\n",
       "    </tr>\n",
       "  </tbody>\n",
       "</table>\n",
       "</div>"
      ],
      "text/plain": [
       "firmcode          A215600  A068270\n",
       "        IFRS(연결)                  \n",
       "2015/12 매출액          18.0   6034.0\n",
       "        영업이익       -238.0   2590.0\n",
       "        당기순이익      -559.0   1583.0\n",
       "        자산         1530.0  27482.0\n",
       "        부채          661.0   9384.0"
      ]
     },
     "execution_count": 39,
     "metadata": {},
     "output_type": "execute_result"
    }
   ],
   "source": [
    "x.head()"
   ]
  },
  {
   "cell_type": "code",
   "execution_count": 40,
   "metadata": {},
   "outputs": [
    {
     "data": {
      "image/png": "[encoded data removed]",
      "text/plain": [
       "<Figure size 720x720 with 1 Axes>"
      ]
     },
     "metadata": {
      "needs_background": "light"
     },
     "output_type": "display_data"
    }
   ],
   "source": [
    "fg = sns.catplot(data=x, kind='bar',height=10)"
   ]
  },
  {
   "cell_type": "code",
   "execution_count": null,
   "metadata": {},
   "outputs": [],
   "source": []
  }
 ],
 "metadata": {
  "kernelspec": {
   "display_name": "Python 3",
   "language": "python",
   "name": "python3"
  },
  "language_info": {
   "codemirror_mode": {
    "name": "ipython",
    "version": 3
   },
   "file_extension": ".py",
   "mimetype": "text/x-python",
   "name": "python",
   "nbconvert_exporter": "python",
   "pygments_lexer": "ipython3",
   "version": "3.7.3"
  }
 },
 "nbformat": 4,
 "nbformat_minor": 2
}
