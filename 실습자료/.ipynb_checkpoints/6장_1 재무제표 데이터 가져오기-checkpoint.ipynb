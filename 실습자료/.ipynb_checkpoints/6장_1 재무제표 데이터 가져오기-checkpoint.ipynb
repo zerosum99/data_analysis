{
 "cells": [
  {
   "cell_type": "code",
   "execution_count": 1,
   "metadata": {},
   "outputs": [],
   "source": [
    "import sys"
   ]
  },
  {
   "cell_type": "code",
   "execution_count": 2,
   "metadata": {},
   "outputs": [
    {
     "data": {
      "text/plain": [
       "sys.version_info(major=3, minor=7, micro=3, releaselevel='final', serial=0)"
      ]
     },
     "execution_count": 2,
     "metadata": {},
     "output_type": "execute_result"
    }
   ],
   "source": [
    "sys.version_info"
   ]
  },
  {
   "cell_type": "code",
   "execution_count": 3,
   "metadata": {},
   "outputs": [
    {
     "name": "stdout",
     "output_type": "stream",
     "text": [
      " Windows \n"
     ]
    }
   ],
   "source": [
    "if sys.platform == 'darwin' :\n",
    "    print(\" Mac OS \")\n",
    "else :\n",
    "    print(' Windows ')"
   ]
  },
  {
   "cell_type": "code",
   "execution_count": null,
   "metadata": {},
   "outputs": [],
   "source": []
  },
  {
   "cell_type": "markdown",
   "metadata": {},
   "source": [
    "## 주식 정보 사이트\n",
    "\n",
    "https://comp.fnguide.com/SVO2/asp/SVD_Main.asp"
   ]
  },
  {
   "cell_type": "code",
   "execution_count": 1,
   "metadata": {},
   "outputs": [],
   "source": [
    "import urllib.request as req"
   ]
  },
  {
   "cell_type": "code",
   "execution_count": 2,
   "metadata": {},
   "outputs": [],
   "source": [
    "import pandas as pd"
   ]
  },
  {
   "cell_type": "code",
   "execution_count": 1,
   "metadata": {},
   "outputs": [],
   "source": [
    "#  차트 설정\n",
    "%matplotlib inline\n",
    "import matplotlib.pyplot as plt\n",
    "\n",
    " # plt.rcParams[\"font.family\"] =  \"Malgun Gothic\"\n",
    "plt.rcParams[\"figure.figsize\"] = (14,4)\n",
    "plt.rcParams['lines.linewidth'] = 2\n",
    "plt.rcParams[\"axes.grid\"] = True"
   ]
  },
  {
   "cell_type": "code",
   "execution_count": 2,
   "metadata": {},
   "outputs": [],
   "source": [
    "from matplotlib import font_manager, rc\n",
    "import sys\n",
    "\n",
    "if sys.platform == 'darwin' :\n",
    "    rc('font', family='AppleGothic')\n",
    "\n",
    "    plt.rcParams['axes.unicode_minus'] = False\n",
    "else :\n",
    "    \n",
    "    font_name = font_manager.FontProperties(fname=\"c:/Windows/Fonts/malgun.ttf\").get_name()\n",
    "    rc('font', family=font_name)"
   ]
  },
  {
   "cell_type": "code",
   "execution_count": null,
   "metadata": {},
   "outputs": [],
   "source": []
  },
  {
   "cell_type": "code",
   "execution_count": 4,
   "metadata": {},
   "outputs": [],
   "source": [
    "fs_url = \"https://comp.fnguide.com/SVO2/ASP/SVD_Finance.asp?pGB=1&gicode=A005930&cID=&MenuYn=Y&ReportGB=&NewMenuID=103&stkGb=701\""
   ]
  },
  {
   "cell_type": "code",
   "execution_count": 5,
   "metadata": {},
   "outputs": [],
   "source": [
    "fs_page = req.urlopen(fs_url)"
   ]
  },
  {
   "cell_type": "code",
   "execution_count": 6,
   "metadata": {},
   "outputs": [],
   "source": [
    "fs_table = pd.read_html(fs_page)"
   ]
  },
  {
   "cell_type": "code",
   "execution_count": 7,
   "metadata": {},
   "outputs": [
    {
     "data": {
      "text/plain": [
       "6"
      ]
     },
     "execution_count": 7,
     "metadata": {},
     "output_type": "execute_result"
    }
   ],
   "source": [
    "len(fs_table)"
   ]
  },
  {
   "cell_type": "markdown",
   "metadata": {},
   "source": [
    "# 1. 손익계산서 "
   ]
  },
  {
   "cell_type": "markdown",
   "metadata": {},
   "source": [
    "## 연간 손익 계산서"
   ]
  },
  {
   "cell_type": "code",
   "execution_count": 8,
   "metadata": {},
   "outputs": [],
   "source": [
    "df_0= fs_table[0]"
   ]
  },
  {
   "cell_type": "code",
   "execution_count": 9,
   "metadata": {},
   "outputs": [],
   "source": [
    "df_0 = df_0.set_index('IFRS(연결)')"
   ]
  },
  {
   "cell_type": "code",
   "execution_count": 10,
   "metadata": {},
   "outputs": [
    {
     "data": {
      "text/html": [
       "<div>\n",
       "<style scoped>\n",
       "    .dataframe tbody tr th:only-of-type {\n",
       "        vertical-align: middle;\n",
       "    }\n",
       "\n",
       "    .dataframe tbody tr th {\n",
       "        vertical-align: top;\n",
       "    }\n",
       "\n",
       "    .dataframe thead th {\n",
       "        text-align: right;\n",
       "    }\n",
       "</style>\n",
       "<table border=\"1\" class=\"dataframe\">\n",
       "  <thead>\n",
       "    <tr style=\"text-align: right;\">\n",
       "      <th></th>\n",
       "      <th>2015/12</th>\n",
       "      <th>2016/12</th>\n",
       "      <th>2017/12</th>\n",
       "      <th>2018/12</th>\n",
       "      <th>전년동기</th>\n",
       "      <th>전년동기(%)</th>\n",
       "    </tr>\n",
       "    <tr>\n",
       "      <th>IFRS(연결)</th>\n",
       "      <th></th>\n",
       "      <th></th>\n",
       "      <th></th>\n",
       "      <th></th>\n",
       "      <th></th>\n",
       "      <th></th>\n",
       "    </tr>\n",
       "  </thead>\n",
       "  <tbody>\n",
       "    <tr>\n",
       "      <th>매출액</th>\n",
       "      <td>2006535.0</td>\n",
       "      <td>2018667.0</td>\n",
       "      <td>2395754.0</td>\n",
       "      <td>2437714.0</td>\n",
       "      <td>2395754.0</td>\n",
       "      <td>1.8</td>\n",
       "    </tr>\n",
       "    <tr>\n",
       "      <th>매출원가</th>\n",
       "      <td>1234821.0</td>\n",
       "      <td>1202777.0</td>\n",
       "      <td>1292907.0</td>\n",
       "      <td>1323944.0</td>\n",
       "      <td>1292907.0</td>\n",
       "      <td>2.4</td>\n",
       "    </tr>\n",
       "    <tr>\n",
       "      <th>매출총이익</th>\n",
       "      <td>771714.0</td>\n",
       "      <td>815890.0</td>\n",
       "      <td>1102847.0</td>\n",
       "      <td>1113770.0</td>\n",
       "      <td>1102847.0</td>\n",
       "      <td>1.0</td>\n",
       "    </tr>\n",
       "    <tr>\n",
       "      <th>판매비와관리비계산에 참여한 계정 펼치기</th>\n",
       "      <td>507579.0</td>\n",
       "      <td>523484.0</td>\n",
       "      <td>566397.0</td>\n",
       "      <td>524903.0</td>\n",
       "      <td>566397.0</td>\n",
       "      <td>-7.3</td>\n",
       "    </tr>\n",
       "    <tr>\n",
       "      <th>영업이익</th>\n",
       "      <td>264134.0</td>\n",
       "      <td>292407.0</td>\n",
       "      <td>536450.0</td>\n",
       "      <td>588867.0</td>\n",
       "      <td>536450.0</td>\n",
       "      <td>9.8</td>\n",
       "    </tr>\n",
       "  </tbody>\n",
       "</table>\n",
       "</div>"
      ],
      "text/plain": [
       "                         2015/12    2016/12    2017/12    2018/12       전년동기  \\\n",
       "IFRS(연결)                                                                       \n",
       "매출액                    2006535.0  2018667.0  2395754.0  2437714.0  2395754.0   \n",
       "매출원가                   1234821.0  1202777.0  1292907.0  1323944.0  1292907.0   \n",
       "매출총이익                   771714.0   815890.0  1102847.0  1113770.0  1102847.0   \n",
       "판매비와관리비계산에 참여한 계정 펼치기   507579.0   523484.0   566397.0   524903.0   566397.0   \n",
       "영업이익                    264134.0   292407.0   536450.0   588867.0   536450.0   \n",
       "\n",
       "                       전년동기(%)  \n",
       "IFRS(연결)                        \n",
       "매출액                        1.8  \n",
       "매출원가                       2.4  \n",
       "매출총이익                      1.0  \n",
       "판매비와관리비계산에 참여한 계정 펼치기     -7.3  \n",
       "영업이익                       9.8  "
      ]
     },
     "execution_count": 10,
     "metadata": {},
     "output_type": "execute_result"
    }
   ],
   "source": [
    "df_0.head()"
   ]
  },
  {
   "cell_type": "markdown",
   "metadata": {},
   "source": [
    "### 필요한 정보만 추출 "
   ]
  },
  {
   "cell_type": "code",
   "execution_count": 11,
   "metadata": {},
   "outputs": [],
   "source": [
    "df_pl = df_0[[*df_0.columns[:4]]]"
   ]
  },
  {
   "cell_type": "code",
   "execution_count": 12,
   "metadata": {},
   "outputs": [
    {
     "data": {
      "text/html": [
       "<div>\n",
       "<style scoped>\n",
       "    .dataframe tbody tr th:only-of-type {\n",
       "        vertical-align: middle;\n",
       "    }\n",
       "\n",
       "    .dataframe tbody tr th {\n",
       "        vertical-align: top;\n",
       "    }\n",
       "\n",
       "    .dataframe thead th {\n",
       "        text-align: right;\n",
       "    }\n",
       "</style>\n",
       "<table border=\"1\" class=\"dataframe\">\n",
       "  <thead>\n",
       "    <tr style=\"text-align: right;\">\n",
       "      <th></th>\n",
       "      <th>2015/12</th>\n",
       "      <th>2016/12</th>\n",
       "      <th>2017/12</th>\n",
       "      <th>2018/12</th>\n",
       "    </tr>\n",
       "    <tr>\n",
       "      <th>IFRS(연결)</th>\n",
       "      <th></th>\n",
       "      <th></th>\n",
       "      <th></th>\n",
       "      <th></th>\n",
       "    </tr>\n",
       "  </thead>\n",
       "  <tbody>\n",
       "    <tr>\n",
       "      <th>매출액</th>\n",
       "      <td>2006535.0</td>\n",
       "      <td>2018667.0</td>\n",
       "      <td>2395754.0</td>\n",
       "      <td>2437714.0</td>\n",
       "    </tr>\n",
       "    <tr>\n",
       "      <th>매출원가</th>\n",
       "      <td>1234821.0</td>\n",
       "      <td>1202777.0</td>\n",
       "      <td>1292907.0</td>\n",
       "      <td>1323944.0</td>\n",
       "    </tr>\n",
       "    <tr>\n",
       "      <th>매출총이익</th>\n",
       "      <td>771714.0</td>\n",
       "      <td>815890.0</td>\n",
       "      <td>1102847.0</td>\n",
       "      <td>1113770.0</td>\n",
       "    </tr>\n",
       "    <tr>\n",
       "      <th>판매비와관리비계산에 참여한 계정 펼치기</th>\n",
       "      <td>507579.0</td>\n",
       "      <td>523484.0</td>\n",
       "      <td>566397.0</td>\n",
       "      <td>524903.0</td>\n",
       "    </tr>\n",
       "    <tr>\n",
       "      <th>영업이익</th>\n",
       "      <td>264134.0</td>\n",
       "      <td>292407.0</td>\n",
       "      <td>536450.0</td>\n",
       "      <td>588867.0</td>\n",
       "    </tr>\n",
       "    <tr>\n",
       "      <th>금융수익계산에 참여한 계정 펼치기</th>\n",
       "      <td>105149.0</td>\n",
       "      <td>113856.0</td>\n",
       "      <td>97374.0</td>\n",
       "      <td>99993.0</td>\n",
       "    </tr>\n",
       "    <tr>\n",
       "      <th>금융원가계산에 참여한 계정 펼치기</th>\n",
       "      <td>100318.0</td>\n",
       "      <td>107066.0</td>\n",
       "      <td>89789.0</td>\n",
       "      <td>86089.0</td>\n",
       "    </tr>\n",
       "    <tr>\n",
       "      <th>기타수익계산에 참여한 계정 펼치기</th>\n",
       "      <td>16859.0</td>\n",
       "      <td>32383.0</td>\n",
       "      <td>30107.0</td>\n",
       "      <td>14850.0</td>\n",
       "    </tr>\n",
       "    <tr>\n",
       "      <th>기타비용계산에 참여한 계정 펼치기</th>\n",
       "      <td>37234.0</td>\n",
       "      <td>24638.0</td>\n",
       "      <td>14196.0</td>\n",
       "      <td>11420.0</td>\n",
       "    </tr>\n",
       "    <tr>\n",
       "      <th>종속기업,공동지배기업및관계기업관련손익계산에 참여한 계정 펼치기</th>\n",
       "      <td>11019.0</td>\n",
       "      <td>195.0</td>\n",
       "      <td>2014.0</td>\n",
       "      <td>5398.0</td>\n",
       "    </tr>\n",
       "    <tr>\n",
       "      <th>세전계속사업이익</th>\n",
       "      <td>259610.0</td>\n",
       "      <td>307137.0</td>\n",
       "      <td>561960.0</td>\n",
       "      <td>611600.0</td>\n",
       "    </tr>\n",
       "    <tr>\n",
       "      <th>법인세비용</th>\n",
       "      <td>69009.0</td>\n",
       "      <td>79876.0</td>\n",
       "      <td>140092.0</td>\n",
       "      <td>168151.0</td>\n",
       "    </tr>\n",
       "    <tr>\n",
       "      <th>계속영업이익</th>\n",
       "      <td>190601.0</td>\n",
       "      <td>227261.0</td>\n",
       "      <td>421867.0</td>\n",
       "      <td>443449.0</td>\n",
       "    </tr>\n",
       "    <tr>\n",
       "      <th>중단영업이익</th>\n",
       "      <td>NaN</td>\n",
       "      <td>NaN</td>\n",
       "      <td>NaN</td>\n",
       "      <td>NaN</td>\n",
       "    </tr>\n",
       "    <tr>\n",
       "      <th>당기순이익</th>\n",
       "      <td>190601.0</td>\n",
       "      <td>227261.0</td>\n",
       "      <td>421867.0</td>\n",
       "      <td>443449.0</td>\n",
       "    </tr>\n",
       "    <tr>\n",
       "      <th>지배주주순이익</th>\n",
       "      <td>186946.0</td>\n",
       "      <td>224157.0</td>\n",
       "      <td>413446.0</td>\n",
       "      <td>438909.0</td>\n",
       "    </tr>\n",
       "    <tr>\n",
       "      <th>비지배주주순이익</th>\n",
       "      <td>3655.0</td>\n",
       "      <td>3104.0</td>\n",
       "      <td>8422.0</td>\n",
       "      <td>4540.0</td>\n",
       "    </tr>\n",
       "  </tbody>\n",
       "</table>\n",
       "</div>"
      ],
      "text/plain": [
       "                                      2015/12    2016/12    2017/12    2018/12\n",
       "IFRS(연결)                                                                      \n",
       "매출액                                 2006535.0  2018667.0  2395754.0  2437714.0\n",
       "매출원가                                1234821.0  1202777.0  1292907.0  1323944.0\n",
       "매출총이익                                771714.0   815890.0  1102847.0  1113770.0\n",
       "판매비와관리비계산에 참여한 계정 펼치기                507579.0   523484.0   566397.0   524903.0\n",
       "영업이익                                 264134.0   292407.0   536450.0   588867.0\n",
       "금융수익계산에 참여한 계정 펼치기                   105149.0   113856.0    97374.0    99993.0\n",
       "금융원가계산에 참여한 계정 펼치기                   100318.0   107066.0    89789.0    86089.0\n",
       "기타수익계산에 참여한 계정 펼치기                    16859.0    32383.0    30107.0    14850.0\n",
       "기타비용계산에 참여한 계정 펼치기                    37234.0    24638.0    14196.0    11420.0\n",
       "종속기업,공동지배기업및관계기업관련손익계산에 참여한 계정 펼치기    11019.0      195.0     2014.0     5398.0\n",
       "세전계속사업이익                             259610.0   307137.0   561960.0   611600.0\n",
       "법인세비용                                 69009.0    79876.0   140092.0   168151.0\n",
       "계속영업이익                               190601.0   227261.0   421867.0   443449.0\n",
       "중단영업이익                                    NaN        NaN        NaN        NaN\n",
       "당기순이익                                190601.0   227261.0   421867.0   443449.0\n",
       "지배주주순이익                              186946.0   224157.0   413446.0   438909.0\n",
       "비지배주주순이익                               3655.0     3104.0     8422.0     4540.0"
      ]
     },
     "execution_count": 12,
     "metadata": {},
     "output_type": "execute_result"
    }
   ],
   "source": [
    "df_pl"
   ]
  },
  {
   "cell_type": "code",
   "execution_count": 13,
   "metadata": {},
   "outputs": [],
   "source": [
    "index = [\"매출액\",\"영업이익\",\"당기순이익\"]\n"
   ]
  },
  {
   "cell_type": "code",
   "execution_count": 14,
   "metadata": {},
   "outputs": [],
   "source": [
    "df_pl = df_pl.loc[index]"
   ]
  },
  {
   "cell_type": "code",
   "execution_count": 15,
   "metadata": {},
   "outputs": [
    {
     "data": {
      "text/html": [
       "<div>\n",
       "<style scoped>\n",
       "    .dataframe tbody tr th:only-of-type {\n",
       "        vertical-align: middle;\n",
       "    }\n",
       "\n",
       "    .dataframe tbody tr th {\n",
       "        vertical-align: top;\n",
       "    }\n",
       "\n",
       "    .dataframe thead th {\n",
       "        text-align: right;\n",
       "    }\n",
       "</style>\n",
       "<table border=\"1\" class=\"dataframe\">\n",
       "  <thead>\n",
       "    <tr style=\"text-align: right;\">\n",
       "      <th></th>\n",
       "      <th>2015/12</th>\n",
       "      <th>2016/12</th>\n",
       "      <th>2017/12</th>\n",
       "      <th>2018/12</th>\n",
       "    </tr>\n",
       "    <tr>\n",
       "      <th>IFRS(연결)</th>\n",
       "      <th></th>\n",
       "      <th></th>\n",
       "      <th></th>\n",
       "      <th></th>\n",
       "    </tr>\n",
       "  </thead>\n",
       "  <tbody>\n",
       "    <tr>\n",
       "      <th>매출액</th>\n",
       "      <td>2006535.0</td>\n",
       "      <td>2018667.0</td>\n",
       "      <td>2395754.0</td>\n",
       "      <td>2437714.0</td>\n",
       "    </tr>\n",
       "    <tr>\n",
       "      <th>영업이익</th>\n",
       "      <td>264134.0</td>\n",
       "      <td>292407.0</td>\n",
       "      <td>536450.0</td>\n",
       "      <td>588867.0</td>\n",
       "    </tr>\n",
       "    <tr>\n",
       "      <th>당기순이익</th>\n",
       "      <td>190601.0</td>\n",
       "      <td>227261.0</td>\n",
       "      <td>421867.0</td>\n",
       "      <td>443449.0</td>\n",
       "    </tr>\n",
       "  </tbody>\n",
       "</table>\n",
       "</div>"
      ],
      "text/plain": [
       "            2015/12    2016/12    2017/12    2018/12\n",
       "IFRS(연결)                                            \n",
       "매출액       2006535.0  2018667.0  2395754.0  2437714.0\n",
       "영업이익       264134.0   292407.0   536450.0   588867.0\n",
       "당기순이익      190601.0   227261.0   421867.0   443449.0"
      ]
     },
     "execution_count": 15,
     "metadata": {},
     "output_type": "execute_result"
    }
   ],
   "source": [
    "df_pl"
   ]
  },
  {
   "cell_type": "markdown",
   "metadata": {},
   "source": [
    "## 분기별 손익계산서"
   ]
  },
  {
   "cell_type": "code",
   "execution_count": 16,
   "metadata": {},
   "outputs": [],
   "source": [
    "df_1= fs_table[1]"
   ]
  },
  {
   "cell_type": "code",
   "execution_count": 17,
   "metadata": {},
   "outputs": [],
   "source": [
    "df_1 = df_1.set_index('IFRS(연결)')"
   ]
  },
  {
   "cell_type": "code",
   "execution_count": 18,
   "metadata": {},
   "outputs": [
    {
     "data": {
      "text/html": [
       "<div>\n",
       "<style scoped>\n",
       "    .dataframe tbody tr th:only-of-type {\n",
       "        vertical-align: middle;\n",
       "    }\n",
       "\n",
       "    .dataframe tbody tr th {\n",
       "        vertical-align: top;\n",
       "    }\n",
       "\n",
       "    .dataframe thead th {\n",
       "        text-align: right;\n",
       "    }\n",
       "</style>\n",
       "<table border=\"1\" class=\"dataframe\">\n",
       "  <thead>\n",
       "    <tr style=\"text-align: right;\">\n",
       "      <th></th>\n",
       "      <th>2018/03</th>\n",
       "      <th>2018/06</th>\n",
       "      <th>2018/09</th>\n",
       "      <th>2018/12</th>\n",
       "      <th>전년동기</th>\n",
       "      <th>전년동기(%)</th>\n",
       "    </tr>\n",
       "    <tr>\n",
       "      <th>IFRS(연결)</th>\n",
       "      <th></th>\n",
       "      <th></th>\n",
       "      <th></th>\n",
       "      <th></th>\n",
       "      <th></th>\n",
       "      <th></th>\n",
       "    </tr>\n",
       "  </thead>\n",
       "  <tbody>\n",
       "    <tr>\n",
       "      <th>매출액</th>\n",
       "      <td>605637.0</td>\n",
       "      <td>584827.0</td>\n",
       "      <td>654600.0</td>\n",
       "      <td>592651.0</td>\n",
       "      <td>659784.0</td>\n",
       "      <td>-10.2</td>\n",
       "    </tr>\n",
       "    <tr>\n",
       "      <th>매출원가</th>\n",
       "      <td>319095.0</td>\n",
       "      <td>312746.0</td>\n",
       "      <td>351944.0</td>\n",
       "      <td>340160.0</td>\n",
       "      <td>357311.0</td>\n",
       "      <td>-4.8</td>\n",
       "    </tr>\n",
       "    <tr>\n",
       "      <th>매출총이익</th>\n",
       "      <td>286542.0</td>\n",
       "      <td>272081.0</td>\n",
       "      <td>302656.0</td>\n",
       "      <td>252491.0</td>\n",
       "      <td>302473.0</td>\n",
       "      <td>-16.5</td>\n",
       "    </tr>\n",
       "    <tr>\n",
       "      <th>판매비와관리비계산에 참여한 계정 펼치기</th>\n",
       "      <td>130121.0</td>\n",
       "      <td>123390.0</td>\n",
       "      <td>126908.0</td>\n",
       "      <td>144485.0</td>\n",
       "      <td>151003.0</td>\n",
       "      <td>-4.3</td>\n",
       "    </tr>\n",
       "    <tr>\n",
       "      <th>영업이익</th>\n",
       "      <td>156422.0</td>\n",
       "      <td>148690.0</td>\n",
       "      <td>175749.0</td>\n",
       "      <td>108006.0</td>\n",
       "      <td>151470.0</td>\n",
       "      <td>-28.7</td>\n",
       "    </tr>\n",
       "  </tbody>\n",
       "</table>\n",
       "</div>"
      ],
      "text/plain": [
       "                        2018/03   2018/06   2018/09   2018/12      전년동기  \\\n",
       "IFRS(연결)                                                                  \n",
       "매출액                    605637.0  584827.0  654600.0  592651.0  659784.0   \n",
       "매출원가                   319095.0  312746.0  351944.0  340160.0  357311.0   \n",
       "매출총이익                  286542.0  272081.0  302656.0  252491.0  302473.0   \n",
       "판매비와관리비계산에 참여한 계정 펼치기  130121.0  123390.0  126908.0  144485.0  151003.0   \n",
       "영업이익                   156422.0  148690.0  175749.0  108006.0  151470.0   \n",
       "\n",
       "                       전년동기(%)  \n",
       "IFRS(연결)                        \n",
       "매출액                      -10.2  \n",
       "매출원가                      -4.8  \n",
       "매출총이익                    -16.5  \n",
       "판매비와관리비계산에 참여한 계정 펼치기     -4.3  \n",
       "영업이익                     -28.7  "
      ]
     },
     "execution_count": 18,
     "metadata": {},
     "output_type": "execute_result"
    }
   ],
   "source": [
    "df_1.head()"
   ]
  },
  {
   "cell_type": "code",
   "execution_count": null,
   "metadata": {},
   "outputs": [],
   "source": []
  },
  {
   "cell_type": "markdown",
   "metadata": {},
   "source": [
    "# 2. 재무상태표"
   ]
  },
  {
   "cell_type": "markdown",
   "metadata": {},
   "source": [
    "## 연간 재무상태표"
   ]
  },
  {
   "cell_type": "code",
   "execution_count": 19,
   "metadata": {},
   "outputs": [],
   "source": [
    "df_2= fs_table[2]"
   ]
  },
  {
   "cell_type": "code",
   "execution_count": 20,
   "metadata": {},
   "outputs": [],
   "source": [
    "df_2 = df_2.set_index('IFRS(연결)')"
   ]
  },
  {
   "cell_type": "code",
   "execution_count": 21,
   "metadata": {},
   "outputs": [
    {
     "data": {
      "text/html": [
       "<div>\n",
       "<style scoped>\n",
       "    .dataframe tbody tr th:only-of-type {\n",
       "        vertical-align: middle;\n",
       "    }\n",
       "\n",
       "    .dataframe tbody tr th {\n",
       "        vertical-align: top;\n",
       "    }\n",
       "\n",
       "    .dataframe thead th {\n",
       "        text-align: right;\n",
       "    }\n",
       "</style>\n",
       "<table border=\"1\" class=\"dataframe\">\n",
       "  <thead>\n",
       "    <tr style=\"text-align: right;\">\n",
       "      <th></th>\n",
       "      <th>2015/12</th>\n",
       "      <th>2016/12</th>\n",
       "      <th>2017/12</th>\n",
       "      <th>2018/12</th>\n",
       "    </tr>\n",
       "    <tr>\n",
       "      <th>IFRS(연결)</th>\n",
       "      <th></th>\n",
       "      <th></th>\n",
       "      <th></th>\n",
       "      <th></th>\n",
       "    </tr>\n",
       "  </thead>\n",
       "  <tbody>\n",
       "    <tr>\n",
       "      <th>자산</th>\n",
       "      <td>2421795.0</td>\n",
       "      <td>2621743.0</td>\n",
       "      <td>3017521.0</td>\n",
       "      <td>3393572.0</td>\n",
       "    </tr>\n",
       "    <tr>\n",
       "      <th>유동자산계산에 참여한 계정 펼치기</th>\n",
       "      <td>1248147.0</td>\n",
       "      <td>1414297.0</td>\n",
       "      <td>1469825.0</td>\n",
       "      <td>1746974.0</td>\n",
       "    </tr>\n",
       "    <tr>\n",
       "      <th>비유동자산계산에 참여한 계정 펼치기</th>\n",
       "      <td>1173648.0</td>\n",
       "      <td>1207446.0</td>\n",
       "      <td>1547696.0</td>\n",
       "      <td>1646598.0</td>\n",
       "    </tr>\n",
       "    <tr>\n",
       "      <th>기타금융업자산</th>\n",
       "      <td>NaN</td>\n",
       "      <td>NaN</td>\n",
       "      <td>NaN</td>\n",
       "      <td>NaN</td>\n",
       "    </tr>\n",
       "    <tr>\n",
       "      <th>부채</th>\n",
       "      <td>631197.0</td>\n",
       "      <td>692113.0</td>\n",
       "      <td>872607.0</td>\n",
       "      <td>916041.0</td>\n",
       "    </tr>\n",
       "    <tr>\n",
       "      <th>유동부채계산에 참여한 계정 펼치기</th>\n",
       "      <td>505029.0</td>\n",
       "      <td>547041.0</td>\n",
       "      <td>671751.0</td>\n",
       "      <td>690815.0</td>\n",
       "    </tr>\n",
       "    <tr>\n",
       "      <th>비유동부채계산에 참여한 계정 펼치기</th>\n",
       "      <td>126168.0</td>\n",
       "      <td>145072.0</td>\n",
       "      <td>200855.0</td>\n",
       "      <td>225226.0</td>\n",
       "    </tr>\n",
       "    <tr>\n",
       "      <th>기타금융업부채</th>\n",
       "      <td>NaN</td>\n",
       "      <td>NaN</td>\n",
       "      <td>NaN</td>\n",
       "      <td>NaN</td>\n",
       "    </tr>\n",
       "    <tr>\n",
       "      <th>자본</th>\n",
       "      <td>1790598.0</td>\n",
       "      <td>1929630.0</td>\n",
       "      <td>2144914.0</td>\n",
       "      <td>2477532.0</td>\n",
       "    </tr>\n",
       "    <tr>\n",
       "      <th>지배기업주주지분계산에 참여한 계정 펼치기</th>\n",
       "      <td>1728768.0</td>\n",
       "      <td>1864243.0</td>\n",
       "      <td>2072134.0</td>\n",
       "      <td>2400690.0</td>\n",
       "    </tr>\n",
       "    <tr>\n",
       "      <th>비지배주주지분</th>\n",
       "      <td>61830.0</td>\n",
       "      <td>65387.0</td>\n",
       "      <td>72780.0</td>\n",
       "      <td>76842.0</td>\n",
       "    </tr>\n",
       "  </tbody>\n",
       "</table>\n",
       "</div>"
      ],
      "text/plain": [
       "                          2015/12    2016/12    2017/12    2018/12\n",
       "IFRS(연결)                                                          \n",
       "자산                      2421795.0  2621743.0  3017521.0  3393572.0\n",
       "유동자산계산에 참여한 계정 펼치기      1248147.0  1414297.0  1469825.0  1746974.0\n",
       "비유동자산계산에 참여한 계정 펼치기     1173648.0  1207446.0  1547696.0  1646598.0\n",
       "기타금융업자산                       NaN        NaN        NaN        NaN\n",
       "부채                       631197.0   692113.0   872607.0   916041.0\n",
       "유동부채계산에 참여한 계정 펼치기       505029.0   547041.0   671751.0   690815.0\n",
       "비유동부채계산에 참여한 계정 펼치기      126168.0   145072.0   200855.0   225226.0\n",
       "기타금융업부채                       NaN        NaN        NaN        NaN\n",
       "자본                      1790598.0  1929630.0  2144914.0  2477532.0\n",
       "지배기업주주지분계산에 참여한 계정 펼치기  1728768.0  1864243.0  2072134.0  2400690.0\n",
       "비지배주주지분                   61830.0    65387.0    72780.0    76842.0"
      ]
     },
     "execution_count": 21,
     "metadata": {},
     "output_type": "execute_result"
    }
   ],
   "source": [
    "df_2"
   ]
  },
  {
   "cell_type": "markdown",
   "metadata": {},
   "source": [
    "### 필요한 정보만 추출"
   ]
  },
  {
   "cell_type": "code",
   "execution_count": 22,
   "metadata": {},
   "outputs": [],
   "source": [
    "df_bs = df_2[[*df_2.columns[:4]]]"
   ]
  },
  {
   "cell_type": "code",
   "execution_count": 23,
   "metadata": {},
   "outputs": [
    {
     "data": {
      "text/html": [
       "<div>\n",
       "<style scoped>\n",
       "    .dataframe tbody tr th:only-of-type {\n",
       "        vertical-align: middle;\n",
       "    }\n",
       "\n",
       "    .dataframe tbody tr th {\n",
       "        vertical-align: top;\n",
       "    }\n",
       "\n",
       "    .dataframe thead th {\n",
       "        text-align: right;\n",
       "    }\n",
       "</style>\n",
       "<table border=\"1\" class=\"dataframe\">\n",
       "  <thead>\n",
       "    <tr style=\"text-align: right;\">\n",
       "      <th></th>\n",
       "      <th>2015/12</th>\n",
       "      <th>2016/12</th>\n",
       "      <th>2017/12</th>\n",
       "      <th>2018/12</th>\n",
       "    </tr>\n",
       "    <tr>\n",
       "      <th>IFRS(연결)</th>\n",
       "      <th></th>\n",
       "      <th></th>\n",
       "      <th></th>\n",
       "      <th></th>\n",
       "    </tr>\n",
       "  </thead>\n",
       "  <tbody>\n",
       "    <tr>\n",
       "      <th>자산</th>\n",
       "      <td>2421795.0</td>\n",
       "      <td>2621743.0</td>\n",
       "      <td>3017521.0</td>\n",
       "      <td>3393572.0</td>\n",
       "    </tr>\n",
       "    <tr>\n",
       "      <th>유동자산계산에 참여한 계정 펼치기</th>\n",
       "      <td>1248147.0</td>\n",
       "      <td>1414297.0</td>\n",
       "      <td>1469825.0</td>\n",
       "      <td>1746974.0</td>\n",
       "    </tr>\n",
       "    <tr>\n",
       "      <th>비유동자산계산에 참여한 계정 펼치기</th>\n",
       "      <td>1173648.0</td>\n",
       "      <td>1207446.0</td>\n",
       "      <td>1547696.0</td>\n",
       "      <td>1646598.0</td>\n",
       "    </tr>\n",
       "    <tr>\n",
       "      <th>기타금융업자산</th>\n",
       "      <td>NaN</td>\n",
       "      <td>NaN</td>\n",
       "      <td>NaN</td>\n",
       "      <td>NaN</td>\n",
       "    </tr>\n",
       "    <tr>\n",
       "      <th>부채</th>\n",
       "      <td>631197.0</td>\n",
       "      <td>692113.0</td>\n",
       "      <td>872607.0</td>\n",
       "      <td>916041.0</td>\n",
       "    </tr>\n",
       "    <tr>\n",
       "      <th>유동부채계산에 참여한 계정 펼치기</th>\n",
       "      <td>505029.0</td>\n",
       "      <td>547041.0</td>\n",
       "      <td>671751.0</td>\n",
       "      <td>690815.0</td>\n",
       "    </tr>\n",
       "    <tr>\n",
       "      <th>비유동부채계산에 참여한 계정 펼치기</th>\n",
       "      <td>126168.0</td>\n",
       "      <td>145072.0</td>\n",
       "      <td>200855.0</td>\n",
       "      <td>225226.0</td>\n",
       "    </tr>\n",
       "    <tr>\n",
       "      <th>기타금융업부채</th>\n",
       "      <td>NaN</td>\n",
       "      <td>NaN</td>\n",
       "      <td>NaN</td>\n",
       "      <td>NaN</td>\n",
       "    </tr>\n",
       "    <tr>\n",
       "      <th>자본</th>\n",
       "      <td>1790598.0</td>\n",
       "      <td>1929630.0</td>\n",
       "      <td>2144914.0</td>\n",
       "      <td>2477532.0</td>\n",
       "    </tr>\n",
       "    <tr>\n",
       "      <th>지배기업주주지분계산에 참여한 계정 펼치기</th>\n",
       "      <td>1728768.0</td>\n",
       "      <td>1864243.0</td>\n",
       "      <td>2072134.0</td>\n",
       "      <td>2400690.0</td>\n",
       "    </tr>\n",
       "    <tr>\n",
       "      <th>비지배주주지분</th>\n",
       "      <td>61830.0</td>\n",
       "      <td>65387.0</td>\n",
       "      <td>72780.0</td>\n",
       "      <td>76842.0</td>\n",
       "    </tr>\n",
       "  </tbody>\n",
       "</table>\n",
       "</div>"
      ],
      "text/plain": [
       "                          2015/12    2016/12    2017/12    2018/12\n",
       "IFRS(연결)                                                          \n",
       "자산                      2421795.0  2621743.0  3017521.0  3393572.0\n",
       "유동자산계산에 참여한 계정 펼치기      1248147.0  1414297.0  1469825.0  1746974.0\n",
       "비유동자산계산에 참여한 계정 펼치기     1173648.0  1207446.0  1547696.0  1646598.0\n",
       "기타금융업자산                       NaN        NaN        NaN        NaN\n",
       "부채                       631197.0   692113.0   872607.0   916041.0\n",
       "유동부채계산에 참여한 계정 펼치기       505029.0   547041.0   671751.0   690815.0\n",
       "비유동부채계산에 참여한 계정 펼치기      126168.0   145072.0   200855.0   225226.0\n",
       "기타금융업부채                       NaN        NaN        NaN        NaN\n",
       "자본                      1790598.0  1929630.0  2144914.0  2477532.0\n",
       "지배기업주주지분계산에 참여한 계정 펼치기  1728768.0  1864243.0  2072134.0  2400690.0\n",
       "비지배주주지분                   61830.0    65387.0    72780.0    76842.0"
      ]
     },
     "execution_count": 23,
     "metadata": {},
     "output_type": "execute_result"
    }
   ],
   "source": [
    "df_bs"
   ]
  },
  {
   "cell_type": "code",
   "execution_count": 24,
   "metadata": {},
   "outputs": [],
   "source": [
    "index = [\"자산\",\"부채\",\"자본\"]\n"
   ]
  },
  {
   "cell_type": "code",
   "execution_count": 25,
   "metadata": {},
   "outputs": [],
   "source": [
    "df_bs = df_bs.loc[index]"
   ]
  },
  {
   "cell_type": "code",
   "execution_count": 26,
   "metadata": {},
   "outputs": [
    {
     "data": {
      "text/html": [
       "<div>\n",
       "<style scoped>\n",
       "    .dataframe tbody tr th:only-of-type {\n",
       "        vertical-align: middle;\n",
       "    }\n",
       "\n",
       "    .dataframe tbody tr th {\n",
       "        vertical-align: top;\n",
       "    }\n",
       "\n",
       "    .dataframe thead th {\n",
       "        text-align: right;\n",
       "    }\n",
       "</style>\n",
       "<table border=\"1\" class=\"dataframe\">\n",
       "  <thead>\n",
       "    <tr style=\"text-align: right;\">\n",
       "      <th></th>\n",
       "      <th>2015/12</th>\n",
       "      <th>2016/12</th>\n",
       "      <th>2017/12</th>\n",
       "      <th>2018/12</th>\n",
       "    </tr>\n",
       "    <tr>\n",
       "      <th>IFRS(연결)</th>\n",
       "      <th></th>\n",
       "      <th></th>\n",
       "      <th></th>\n",
       "      <th></th>\n",
       "    </tr>\n",
       "  </thead>\n",
       "  <tbody>\n",
       "    <tr>\n",
       "      <th>자산</th>\n",
       "      <td>2421795.0</td>\n",
       "      <td>2621743.0</td>\n",
       "      <td>3017521.0</td>\n",
       "      <td>3393572.0</td>\n",
       "    </tr>\n",
       "    <tr>\n",
       "      <th>부채</th>\n",
       "      <td>631197.0</td>\n",
       "      <td>692113.0</td>\n",
       "      <td>872607.0</td>\n",
       "      <td>916041.0</td>\n",
       "    </tr>\n",
       "    <tr>\n",
       "      <th>자본</th>\n",
       "      <td>1790598.0</td>\n",
       "      <td>1929630.0</td>\n",
       "      <td>2144914.0</td>\n",
       "      <td>2477532.0</td>\n",
       "    </tr>\n",
       "  </tbody>\n",
       "</table>\n",
       "</div>"
      ],
      "text/plain": [
       "            2015/12    2016/12    2017/12    2018/12\n",
       "IFRS(연결)                                            \n",
       "자산        2421795.0  2621743.0  3017521.0  3393572.0\n",
       "부채         631197.0   692113.0   872607.0   916041.0\n",
       "자본        1790598.0  1929630.0  2144914.0  2477532.0"
      ]
     },
     "execution_count": 26,
     "metadata": {},
     "output_type": "execute_result"
    }
   ],
   "source": [
    "df_bs"
   ]
  },
  {
   "cell_type": "code",
   "execution_count": null,
   "metadata": {},
   "outputs": [],
   "source": []
  },
  {
   "cell_type": "code",
   "execution_count": null,
   "metadata": {},
   "outputs": [],
   "source": []
  },
  {
   "cell_type": "markdown",
   "metadata": {},
   "source": [
    "## 분기 재무상태표"
   ]
  },
  {
   "cell_type": "code",
   "execution_count": 27,
   "metadata": {},
   "outputs": [],
   "source": [
    "df_3= fs_table[3]"
   ]
  },
  {
   "cell_type": "code",
   "execution_count": 28,
   "metadata": {},
   "outputs": [
    {
     "data": {
      "text/html": [
       "<div>\n",
       "<style scoped>\n",
       "    .dataframe tbody tr th:only-of-type {\n",
       "        vertical-align: middle;\n",
       "    }\n",
       "\n",
       "    .dataframe tbody tr th {\n",
       "        vertical-align: top;\n",
       "    }\n",
       "\n",
       "    .dataframe thead th {\n",
       "        text-align: right;\n",
       "    }\n",
       "</style>\n",
       "<table border=\"1\" class=\"dataframe\">\n",
       "  <thead>\n",
       "    <tr style=\"text-align: right;\">\n",
       "      <th></th>\n",
       "      <th>IFRS(연결)</th>\n",
       "      <th>2018/03</th>\n",
       "      <th>2018/06</th>\n",
       "      <th>2018/09</th>\n",
       "      <th>2018/12</th>\n",
       "    </tr>\n",
       "  </thead>\n",
       "  <tbody>\n",
       "    <tr>\n",
       "      <th>0</th>\n",
       "      <td>자산</td>\n",
       "      <td>3124731.0</td>\n",
       "      <td>3186884.0</td>\n",
       "      <td>3371958.0</td>\n",
       "      <td>3393572.0</td>\n",
       "    </tr>\n",
       "    <tr>\n",
       "      <th>1</th>\n",
       "      <td>유동자산계산에 참여한 계정 펼치기</td>\n",
       "      <td>1549420.0</td>\n",
       "      <td>1569768.0</td>\n",
       "      <td>1762820.0</td>\n",
       "      <td>1746974.0</td>\n",
       "    </tr>\n",
       "    <tr>\n",
       "      <th>2</th>\n",
       "      <td>비유동자산계산에 참여한 계정 펼치기</td>\n",
       "      <td>1575312.0</td>\n",
       "      <td>1617115.0</td>\n",
       "      <td>1609137.0</td>\n",
       "      <td>1646598.0</td>\n",
       "    </tr>\n",
       "    <tr>\n",
       "      <th>3</th>\n",
       "      <td>기타금융업자산</td>\n",
       "      <td>NaN</td>\n",
       "      <td>NaN</td>\n",
       "      <td>NaN</td>\n",
       "      <td>NaN</td>\n",
       "    </tr>\n",
       "    <tr>\n",
       "      <th>4</th>\n",
       "      <td>부채</td>\n",
       "      <td>892132.0</td>\n",
       "      <td>855635.0</td>\n",
       "      <td>950926.0</td>\n",
       "      <td>916041.0</td>\n",
       "    </tr>\n",
       "    <tr>\n",
       "      <th>5</th>\n",
       "      <td>유동부채계산에 참여한 계정 펼치기</td>\n",
       "      <td>682986.0</td>\n",
       "      <td>656023.0</td>\n",
       "      <td>747059.0</td>\n",
       "      <td>690815.0</td>\n",
       "    </tr>\n",
       "    <tr>\n",
       "      <th>6</th>\n",
       "      <td>비유동부채계산에 참여한 계정 펼치기</td>\n",
       "      <td>209146.0</td>\n",
       "      <td>199612.0</td>\n",
       "      <td>203868.0</td>\n",
       "      <td>225226.0</td>\n",
       "    </tr>\n",
       "    <tr>\n",
       "      <th>7</th>\n",
       "      <td>기타금융업부채</td>\n",
       "      <td>NaN</td>\n",
       "      <td>NaN</td>\n",
       "      <td>NaN</td>\n",
       "      <td>NaN</td>\n",
       "    </tr>\n",
       "    <tr>\n",
       "      <th>8</th>\n",
       "      <td>자본</td>\n",
       "      <td>2232599.0</td>\n",
       "      <td>2331248.0</td>\n",
       "      <td>2421032.0</td>\n",
       "      <td>2477532.0</td>\n",
       "    </tr>\n",
       "    <tr>\n",
       "      <th>9</th>\n",
       "      <td>지배기업주주지분계산에 참여한 계정 펼치기</td>\n",
       "      <td>2158845.0</td>\n",
       "      <td>2256714.0</td>\n",
       "      <td>2344764.0</td>\n",
       "      <td>2400690.0</td>\n",
       "    </tr>\n",
       "    <tr>\n",
       "      <th>10</th>\n",
       "      <td>비지배주주지분</td>\n",
       "      <td>73754.0</td>\n",
       "      <td>74534.0</td>\n",
       "      <td>76268.0</td>\n",
       "      <td>76842.0</td>\n",
       "    </tr>\n",
       "  </tbody>\n",
       "</table>\n",
       "</div>"
      ],
      "text/plain": [
       "                  IFRS(연결)    2018/03    2018/06    2018/09    2018/12\n",
       "0                       자산  3124731.0  3186884.0  3371958.0  3393572.0\n",
       "1       유동자산계산에 참여한 계정 펼치기  1549420.0  1569768.0  1762820.0  1746974.0\n",
       "2      비유동자산계산에 참여한 계정 펼치기  1575312.0  1617115.0  1609137.0  1646598.0\n",
       "3                  기타금융업자산        NaN        NaN        NaN        NaN\n",
       "4                       부채   892132.0   855635.0   950926.0   916041.0\n",
       "5       유동부채계산에 참여한 계정 펼치기   682986.0   656023.0   747059.0   690815.0\n",
       "6      비유동부채계산에 참여한 계정 펼치기   209146.0   199612.0   203868.0   225226.0\n",
       "7                  기타금융업부채        NaN        NaN        NaN        NaN\n",
       "8                       자본  2232599.0  2331248.0  2421032.0  2477532.0\n",
       "9   지배기업주주지분계산에 참여한 계정 펼치기  2158845.0  2256714.0  2344764.0  2400690.0\n",
       "10                 비지배주주지분    73754.0    74534.0    76268.0    76842.0"
      ]
     },
     "execution_count": 28,
     "metadata": {},
     "output_type": "execute_result"
    }
   ],
   "source": [
    "df_3"
   ]
  },
  {
   "cell_type": "code",
   "execution_count": null,
   "metadata": {},
   "outputs": [],
   "source": []
  },
  {
   "cell_type": "markdown",
   "metadata": {},
   "source": [
    "# 3. 현금흐름표"
   ]
  },
  {
   "cell_type": "markdown",
   "metadata": {},
   "source": [
    "## 연간 현금흐름표"
   ]
  },
  {
   "cell_type": "code",
   "execution_count": 29,
   "metadata": {},
   "outputs": [],
   "source": [
    "df_4= fs_table[4]"
   ]
  },
  {
   "cell_type": "code",
   "execution_count": 30,
   "metadata": {},
   "outputs": [],
   "source": [
    "df_4 = df_4.set_index('IFRS(연결)')"
   ]
  },
  {
   "cell_type": "code",
   "execution_count": 31,
   "metadata": {},
   "outputs": [
    {
     "data": {
      "text/html": [
       "<div>\n",
       "<style scoped>\n",
       "    .dataframe tbody tr th:only-of-type {\n",
       "        vertical-align: middle;\n",
       "    }\n",
       "\n",
       "    .dataframe tbody tr th {\n",
       "        vertical-align: top;\n",
       "    }\n",
       "\n",
       "    .dataframe thead th {\n",
       "        text-align: right;\n",
       "    }\n",
       "</style>\n",
       "<table border=\"1\" class=\"dataframe\">\n",
       "  <thead>\n",
       "    <tr style=\"text-align: right;\">\n",
       "      <th></th>\n",
       "      <th>2015/12</th>\n",
       "      <th>2016/12</th>\n",
       "      <th>2017/12</th>\n",
       "      <th>2018/12</th>\n",
       "    </tr>\n",
       "    <tr>\n",
       "      <th>IFRS(연결)</th>\n",
       "      <th></th>\n",
       "      <th></th>\n",
       "      <th></th>\n",
       "      <th></th>\n",
       "    </tr>\n",
       "  </thead>\n",
       "  <tbody>\n",
       "    <tr>\n",
       "      <th>영업활동으로인한현금흐름</th>\n",
       "      <td>400618.0</td>\n",
       "      <td>473856.0</td>\n",
       "      <td>621620.0</td>\n",
       "      <td>670319.0</td>\n",
       "    </tr>\n",
       "    <tr>\n",
       "      <th>당기순손익</th>\n",
       "      <td>190601.0</td>\n",
       "      <td>227261.0</td>\n",
       "      <td>421867.0</td>\n",
       "      <td>443449.0</td>\n",
       "    </tr>\n",
       "    <tr>\n",
       "      <th>법인세비용차감전계속사업이익</th>\n",
       "      <td>NaN</td>\n",
       "      <td>NaN</td>\n",
       "      <td>NaN</td>\n",
       "      <td>NaN</td>\n",
       "    </tr>\n",
       "    <tr>\n",
       "      <th>현금유출이없는비용등가산계산에 참여한 계정 펼치기</th>\n",
       "      <td>352421.0</td>\n",
       "      <td>367817.0</td>\n",
       "      <td>413191.0</td>\n",
       "      <td>484356.0</td>\n",
       "    </tr>\n",
       "    <tr>\n",
       "      <th>(현금유입이없는수익등차감)계산에 참여한 계정 펼치기</th>\n",
       "      <td>56311.0</td>\n",
       "      <td>60272.0</td>\n",
       "      <td>51079.0</td>\n",
       "      <td>48310.0</td>\n",
       "    </tr>\n",
       "    <tr>\n",
       "      <th>영업활동으로인한자산부채변동(운전자본변동)계산에 참여한 계정 펼치기</th>\n",
       "      <td>-46820.0</td>\n",
       "      <td>-11810.0</td>\n",
       "      <td>-106205.0</td>\n",
       "      <td>-99244.0</td>\n",
       "    </tr>\n",
       "    <tr>\n",
       "      <th>*영업에서창출된현금흐름</th>\n",
       "      <td>439891.0</td>\n",
       "      <td>522996.0</td>\n",
       "      <td>677774.0</td>\n",
       "      <td>780251.0</td>\n",
       "    </tr>\n",
       "    <tr>\n",
       "      <th>기타영업활동으로인한현금흐름계산에 참여한 계정 펼치기</th>\n",
       "      <td>-39273.0</td>\n",
       "      <td>-49140.0</td>\n",
       "      <td>-56154.0</td>\n",
       "      <td>-109932.0</td>\n",
       "    </tr>\n",
       "    <tr>\n",
       "      <th>투자활동으로인한현금흐름</th>\n",
       "      <td>-271678.0</td>\n",
       "      <td>-296587.0</td>\n",
       "      <td>-493852.0</td>\n",
       "      <td>-522405.0</td>\n",
       "    </tr>\n",
       "    <tr>\n",
       "      <th>투자활동으로인한현금유입액계산에 참여한 계정 펼치기</th>\n",
       "      <td>74011.0</td>\n",
       "      <td>83882.0</td>\n",
       "      <td>47434.0</td>\n",
       "      <td>9213.0</td>\n",
       "    </tr>\n",
       "    <tr>\n",
       "      <th>(투자활동으로인한현금유출액)계산에 참여한 계정 펼치기</th>\n",
       "      <td>345689.0</td>\n",
       "      <td>380469.0</td>\n",
       "      <td>541286.0</td>\n",
       "      <td>531617.0</td>\n",
       "    </tr>\n",
       "    <tr>\n",
       "      <th>기타투자활동으로인한현금흐름계산에 참여한 계정 펼치기</th>\n",
       "      <td>NaN</td>\n",
       "      <td>NaN</td>\n",
       "      <td>NaN</td>\n",
       "      <td>NaN</td>\n",
       "    </tr>\n",
       "    <tr>\n",
       "      <th>재무활동으로인한현금흐름</th>\n",
       "      <td>-65735.0</td>\n",
       "      <td>-86695.0</td>\n",
       "      <td>-125609.0</td>\n",
       "      <td>-150902.0</td>\n",
       "    </tr>\n",
       "    <tr>\n",
       "      <th>재무활동으로인한현금유입액계산에 참여한 계정 펼치기</th>\n",
       "      <td>33979.0</td>\n",
       "      <td>24060.0</td>\n",
       "      <td>37347.0</td>\n",
       "      <td>117.0</td>\n",
       "    </tr>\n",
       "    <tr>\n",
       "      <th>(재무활동으로인한현금유출액)계산에 참여한 계정 펼치기</th>\n",
       "      <td>68419.0</td>\n",
       "      <td>79608.0</td>\n",
       "      <td>94912.0</td>\n",
       "      <td>49082.0</td>\n",
       "    </tr>\n",
       "    <tr>\n",
       "      <th>기타재무활동으로인한현금흐름계산에 참여한 계정 펼치기</th>\n",
       "      <td>-31295.0</td>\n",
       "      <td>-31147.0</td>\n",
       "      <td>-68043.0</td>\n",
       "      <td>-101937.0</td>\n",
       "    </tr>\n",
       "    <tr>\n",
       "      <th>영업투자재무활동기타현금흐름</th>\n",
       "      <td>NaN</td>\n",
       "      <td>NaN</td>\n",
       "      <td>NaN</td>\n",
       "      <td>NaN</td>\n",
       "    </tr>\n",
       "    <tr>\n",
       "      <th>연결범위변동으로인한현금의증가</th>\n",
       "      <td>NaN</td>\n",
       "      <td>NaN</td>\n",
       "      <td>NaN</td>\n",
       "      <td>NaN</td>\n",
       "    </tr>\n",
       "    <tr>\n",
       "      <th>환율변동효과</th>\n",
       "      <td>-5245.0</td>\n",
       "      <td>4172.0</td>\n",
       "      <td>-17823.0</td>\n",
       "      <td>942.0</td>\n",
       "    </tr>\n",
       "    <tr>\n",
       "      <th>현금및현금성자산의증가</th>\n",
       "      <td>57960.0</td>\n",
       "      <td>94747.0</td>\n",
       "      <td>-15663.0</td>\n",
       "      <td>-2046.0</td>\n",
       "    </tr>\n",
       "    <tr>\n",
       "      <th>기초현금및현금성자산</th>\n",
       "      <td>168408.0</td>\n",
       "      <td>226367.0</td>\n",
       "      <td>321114.0</td>\n",
       "      <td>305451.0</td>\n",
       "    </tr>\n",
       "    <tr>\n",
       "      <th>기말현금및현금성자산</th>\n",
       "      <td>226367.0</td>\n",
       "      <td>321114.0</td>\n",
       "      <td>305451.0</td>\n",
       "      <td>303405.0</td>\n",
       "    </tr>\n",
       "  </tbody>\n",
       "</table>\n",
       "</div>"
      ],
      "text/plain": [
       "                                       2015/12   2016/12   2017/12   2018/12\n",
       "IFRS(연결)                                                                    \n",
       "영업활동으로인한현금흐름                          400618.0  473856.0  621620.0  670319.0\n",
       "당기순손익                                 190601.0  227261.0  421867.0  443449.0\n",
       "법인세비용차감전계속사업이익                             NaN       NaN       NaN       NaN\n",
       "현금유출이없는비용등가산계산에 참여한 계정 펼치기            352421.0  367817.0  413191.0  484356.0\n",
       "(현금유입이없는수익등차감)계산에 참여한 계정 펼치기           56311.0   60272.0   51079.0   48310.0\n",
       "영업활동으로인한자산부채변동(운전자본변동)계산에 참여한 계정 펼치기  -46820.0  -11810.0 -106205.0  -99244.0\n",
       "*영업에서창출된현금흐름                          439891.0  522996.0  677774.0  780251.0\n",
       "기타영업활동으로인한현금흐름계산에 참여한 계정 펼치기          -39273.0  -49140.0  -56154.0 -109932.0\n",
       "투자활동으로인한현금흐름                         -271678.0 -296587.0 -493852.0 -522405.0\n",
       "투자활동으로인한현금유입액계산에 참여한 계정 펼치기            74011.0   83882.0   47434.0    9213.0\n",
       "(투자활동으로인한현금유출액)계산에 참여한 계정 펼치기         345689.0  380469.0  541286.0  531617.0\n",
       "기타투자활동으로인한현금흐름계산에 참여한 계정 펼치기               NaN       NaN       NaN       NaN\n",
       "재무활동으로인한현금흐름                          -65735.0  -86695.0 -125609.0 -150902.0\n",
       "재무활동으로인한현금유입액계산에 참여한 계정 펼치기            33979.0   24060.0   37347.0     117.0\n",
       "(재무활동으로인한현금유출액)계산에 참여한 계정 펼치기          68419.0   79608.0   94912.0   49082.0\n",
       "기타재무활동으로인한현금흐름계산에 참여한 계정 펼치기          -31295.0  -31147.0  -68043.0 -101937.0\n",
       "영업투자재무활동기타현금흐름                             NaN       NaN       NaN       NaN\n",
       "연결범위변동으로인한현금의증가                            NaN       NaN       NaN       NaN\n",
       "환율변동효과                                 -5245.0    4172.0  -17823.0     942.0\n",
       "현금및현금성자산의증가                            57960.0   94747.0  -15663.0   -2046.0\n",
       "기초현금및현금성자산                            168408.0  226367.0  321114.0  305451.0\n",
       "기말현금및현금성자산                            226367.0  321114.0  305451.0  303405.0"
      ]
     },
     "execution_count": 31,
     "metadata": {},
     "output_type": "execute_result"
    }
   ],
   "source": [
    "df_4"
   ]
  },
  {
   "cell_type": "markdown",
   "metadata": {},
   "source": [
    "###  필요항목만 추출"
   ]
  },
  {
   "cell_type": "code",
   "execution_count": 32,
   "metadata": {},
   "outputs": [],
   "source": [
    "df_ii = df_4.loc[['영업활동으로인한현금흐름']]"
   ]
  },
  {
   "cell_type": "code",
   "execution_count": 33,
   "metadata": {},
   "outputs": [
    {
     "data": {
      "text/html": [
       "<div>\n",
       "<style scoped>\n",
       "    .dataframe tbody tr th:only-of-type {\n",
       "        vertical-align: middle;\n",
       "    }\n",
       "\n",
       "    .dataframe tbody tr th {\n",
       "        vertical-align: top;\n",
       "    }\n",
       "\n",
       "    .dataframe thead th {\n",
       "        text-align: right;\n",
       "    }\n",
       "</style>\n",
       "<table border=\"1\" class=\"dataframe\">\n",
       "  <thead>\n",
       "    <tr style=\"text-align: right;\">\n",
       "      <th></th>\n",
       "      <th>2015/12</th>\n",
       "      <th>2016/12</th>\n",
       "      <th>2017/12</th>\n",
       "      <th>2018/12</th>\n",
       "    </tr>\n",
       "    <tr>\n",
       "      <th>IFRS(연결)</th>\n",
       "      <th></th>\n",
       "      <th></th>\n",
       "      <th></th>\n",
       "      <th></th>\n",
       "    </tr>\n",
       "  </thead>\n",
       "  <tbody>\n",
       "    <tr>\n",
       "      <th>영업활동으로인한현금흐름</th>\n",
       "      <td>400618.0</td>\n",
       "      <td>473856.0</td>\n",
       "      <td>621620.0</td>\n",
       "      <td>670319.0</td>\n",
       "    </tr>\n",
       "  </tbody>\n",
       "</table>\n",
       "</div>"
      ],
      "text/plain": [
       "               2015/12   2016/12   2017/12   2018/12\n",
       "IFRS(연결)                                            \n",
       "영업활동으로인한현금흐름  400618.0  473856.0  621620.0  670319.0"
      ]
     },
     "execution_count": 33,
     "metadata": {},
     "output_type": "execute_result"
    }
   ],
   "source": [
    "df_ii"
   ]
  },
  {
   "cell_type": "markdown",
   "metadata": {},
   "source": [
    "## 분기 현금흐름표"
   ]
  },
  {
   "cell_type": "code",
   "execution_count": 34,
   "metadata": {},
   "outputs": [],
   "source": [
    "df_5= fs_table[5]"
   ]
  },
  {
   "cell_type": "code",
   "execution_count": 35,
   "metadata": {},
   "outputs": [
    {
     "data": {
      "text/html": [
       "<div>\n",
       "<style scoped>\n",
       "    .dataframe tbody tr th:only-of-type {\n",
       "        vertical-align: middle;\n",
       "    }\n",
       "\n",
       "    .dataframe tbody tr th {\n",
       "        vertical-align: top;\n",
       "    }\n",
       "\n",
       "    .dataframe thead th {\n",
       "        text-align: right;\n",
       "    }\n",
       "</style>\n",
       "<table border=\"1\" class=\"dataframe\">\n",
       "  <thead>\n",
       "    <tr style=\"text-align: right;\">\n",
       "      <th></th>\n",
       "      <th>IFRS(연결)</th>\n",
       "      <th>2018/03</th>\n",
       "      <th>2018/06</th>\n",
       "      <th>2018/09</th>\n",
       "      <th>2018/12</th>\n",
       "    </tr>\n",
       "  </thead>\n",
       "  <tbody>\n",
       "    <tr>\n",
       "      <th>0</th>\n",
       "      <td>영업활동으로인한현금흐름</td>\n",
       "      <td>156164.0</td>\n",
       "      <td>134378.0</td>\n",
       "      <td>155497.0</td>\n",
       "      <td>224281.0</td>\n",
       "    </tr>\n",
       "    <tr>\n",
       "      <th>1</th>\n",
       "      <td>당기순손익</td>\n",
       "      <td>116885.0</td>\n",
       "      <td>110434.0</td>\n",
       "      <td>131507.0</td>\n",
       "      <td>84622.0</td>\n",
       "    </tr>\n",
       "    <tr>\n",
       "      <th>2</th>\n",
       "      <td>법인세비용차감전계속사업이익</td>\n",
       "      <td>NaN</td>\n",
       "      <td>NaN</td>\n",
       "      <td>NaN</td>\n",
       "      <td>NaN</td>\n",
       "    </tr>\n",
       "    <tr>\n",
       "      <th>3</th>\n",
       "      <td>현금유출이없는비용등가산계산에 참여한 계정 펼치기</td>\n",
       "      <td>127360.0</td>\n",
       "      <td>126607.0</td>\n",
       "      <td>123443.0</td>\n",
       "      <td>106946.0</td>\n",
       "    </tr>\n",
       "    <tr>\n",
       "      <th>4</th>\n",
       "      <td>(현금유입이없는수익등차감)계산에 참여한 계정 펼치기</td>\n",
       "      <td>15955.0</td>\n",
       "      <td>18938.0</td>\n",
       "      <td>1145.0</td>\n",
       "      <td>12273.0</td>\n",
       "    </tr>\n",
       "    <tr>\n",
       "      <th>5</th>\n",
       "      <td>영업활동으로인한자산부채변동(운전자본변동)계산에 참여한 계정 펼치기</td>\n",
       "      <td>-68025.0</td>\n",
       "      <td>-15389.0</td>\n",
       "      <td>-79301.0</td>\n",
       "      <td>63471.0</td>\n",
       "    </tr>\n",
       "    <tr>\n",
       "      <th>6</th>\n",
       "      <td>*영업에서창출된현금흐름</td>\n",
       "      <td>160265.0</td>\n",
       "      <td>202714.0</td>\n",
       "      <td>174505.0</td>\n",
       "      <td>242766.0</td>\n",
       "    </tr>\n",
       "    <tr>\n",
       "      <th>7</th>\n",
       "      <td>기타영업활동으로인한현금흐름계산에 참여한 계정 펼치기</td>\n",
       "      <td>-4102.0</td>\n",
       "      <td>-68337.0</td>\n",
       "      <td>-19009.0</td>\n",
       "      <td>-18485.0</td>\n",
       "    </tr>\n",
       "    <tr>\n",
       "      <th>8</th>\n",
       "      <td>투자활동으로인한현금흐름</td>\n",
       "      <td>-73733.0</td>\n",
       "      <td>-121817.0</td>\n",
       "      <td>-169222.0</td>\n",
       "      <td>-157632.0</td>\n",
       "    </tr>\n",
       "    <tr>\n",
       "      <th>9</th>\n",
       "      <td>투자활동으로인한현금유입액계산에 참여한 계정 펼치기</td>\n",
       "      <td>38036.0</td>\n",
       "      <td>-19990.0</td>\n",
       "      <td>-9940.0</td>\n",
       "      <td>1106.0</td>\n",
       "    </tr>\n",
       "    <tr>\n",
       "      <th>10</th>\n",
       "      <td>(투자활동으로인한현금유출액)계산에 참여한 계정 펼치기</td>\n",
       "      <td>111769.0</td>\n",
       "      <td>101828.0</td>\n",
       "      <td>159282.0</td>\n",
       "      <td>158738.0</td>\n",
       "    </tr>\n",
       "    <tr>\n",
       "      <th>11</th>\n",
       "      <td>기타투자활동으로인한현금흐름계산에 참여한 계정 펼치기</td>\n",
       "      <td>NaN</td>\n",
       "      <td>NaN</td>\n",
       "      <td>NaN</td>\n",
       "      <td>NaN</td>\n",
       "    </tr>\n",
       "    <tr>\n",
       "      <th>12</th>\n",
       "      <td>재무활동으로인한현금흐름</td>\n",
       "      <td>-69293.0</td>\n",
       "      <td>-23911.0</td>\n",
       "      <td>36314.0</td>\n",
       "      <td>-94011.0</td>\n",
       "    </tr>\n",
       "    <tr>\n",
       "      <th>13</th>\n",
       "      <td>재무활동으로인한현금유입액계산에 참여한 계정 펼치기</td>\n",
       "      <td>72.0</td>\n",
       "      <td>-7.0</td>\n",
       "      <td>31983.0</td>\n",
       "      <td>-31932.0</td>\n",
       "    </tr>\n",
       "    <tr>\n",
       "      <th>14</th>\n",
       "      <td>(재무활동으로인한현금유출액)계산에 참여한 계정 펼치기</td>\n",
       "      <td>69332.0</td>\n",
       "      <td>-29451.0</td>\n",
       "      <td>-28427.0</td>\n",
       "      <td>37628.0</td>\n",
       "    </tr>\n",
       "    <tr>\n",
       "      <th>15</th>\n",
       "      <td>기타재무활동으로인한현금흐름계산에 참여한 계정 펼치기</td>\n",
       "      <td>-33.0</td>\n",
       "      <td>-53355.0</td>\n",
       "      <td>-24097.0</td>\n",
       "      <td>-24452.0</td>\n",
       "    </tr>\n",
       "    <tr>\n",
       "      <th>16</th>\n",
       "      <td>영업투자재무활동기타현금흐름</td>\n",
       "      <td>NaN</td>\n",
       "      <td>NaN</td>\n",
       "      <td>NaN</td>\n",
       "      <td>NaN</td>\n",
       "    </tr>\n",
       "    <tr>\n",
       "      <th>17</th>\n",
       "      <td>연결범위변동으로인한현금의증가</td>\n",
       "      <td>NaN</td>\n",
       "      <td>NaN</td>\n",
       "      <td>NaN</td>\n",
       "      <td>NaN</td>\n",
       "    </tr>\n",
       "    <tr>\n",
       "      <th>18</th>\n",
       "      <td>환율변동효과</td>\n",
       "      <td>4449.0</td>\n",
       "      <td>1936.0</td>\n",
       "      <td>-5330.0</td>\n",
       "      <td>-113.0</td>\n",
       "    </tr>\n",
       "    <tr>\n",
       "      <th>19</th>\n",
       "      <td>현금및현금성자산의증가</td>\n",
       "      <td>17586.0</td>\n",
       "      <td>-9415.0</td>\n",
       "      <td>17259.0</td>\n",
       "      <td>-27476.0</td>\n",
       "    </tr>\n",
       "    <tr>\n",
       "      <th>20</th>\n",
       "      <td>기초현금및현금성자산</td>\n",
       "      <td>305451.0</td>\n",
       "      <td>323038.0</td>\n",
       "      <td>313622.0</td>\n",
       "      <td>330881.0</td>\n",
       "    </tr>\n",
       "    <tr>\n",
       "      <th>21</th>\n",
       "      <td>기말현금및현금성자산</td>\n",
       "      <td>323038.0</td>\n",
       "      <td>313622.0</td>\n",
       "      <td>330881.0</td>\n",
       "      <td>303405.0</td>\n",
       "    </tr>\n",
       "  </tbody>\n",
       "</table>\n",
       "</div>"
      ],
      "text/plain": [
       "                                IFRS(연결)   2018/03   2018/06   2018/09  \\\n",
       "0                           영업활동으로인한현금흐름  156164.0  134378.0  155497.0   \n",
       "1                                  당기순손익  116885.0  110434.0  131507.0   \n",
       "2                         법인세비용차감전계속사업이익       NaN       NaN       NaN   \n",
       "3             현금유출이없는비용등가산계산에 참여한 계정 펼치기  127360.0  126607.0  123443.0   \n",
       "4           (현금유입이없는수익등차감)계산에 참여한 계정 펼치기   15955.0   18938.0    1145.0   \n",
       "5   영업활동으로인한자산부채변동(운전자본변동)계산에 참여한 계정 펼치기  -68025.0  -15389.0  -79301.0   \n",
       "6                           *영업에서창출된현금흐름  160265.0  202714.0  174505.0   \n",
       "7           기타영업활동으로인한현금흐름계산에 참여한 계정 펼치기   -4102.0  -68337.0  -19009.0   \n",
       "8                           투자활동으로인한현금흐름  -73733.0 -121817.0 -169222.0   \n",
       "9            투자활동으로인한현금유입액계산에 참여한 계정 펼치기   38036.0  -19990.0   -9940.0   \n",
       "10         (투자활동으로인한현금유출액)계산에 참여한 계정 펼치기  111769.0  101828.0  159282.0   \n",
       "11          기타투자활동으로인한현금흐름계산에 참여한 계정 펼치기       NaN       NaN       NaN   \n",
       "12                          재무활동으로인한현금흐름  -69293.0  -23911.0   36314.0   \n",
       "13           재무활동으로인한현금유입액계산에 참여한 계정 펼치기      72.0      -7.0   31983.0   \n",
       "14         (재무활동으로인한현금유출액)계산에 참여한 계정 펼치기   69332.0  -29451.0  -28427.0   \n",
       "15          기타재무활동으로인한현금흐름계산에 참여한 계정 펼치기     -33.0  -53355.0  -24097.0   \n",
       "16                        영업투자재무활동기타현금흐름       NaN       NaN       NaN   \n",
       "17                       연결범위변동으로인한현금의증가       NaN       NaN       NaN   \n",
       "18                                환율변동효과    4449.0    1936.0   -5330.0   \n",
       "19                           현금및현금성자산의증가   17586.0   -9415.0   17259.0   \n",
       "20                            기초현금및현금성자산  305451.0  323038.0  313622.0   \n",
       "21                            기말현금및현금성자산  323038.0  313622.0  330881.0   \n",
       "\n",
       "     2018/12  \n",
       "0   224281.0  \n",
       "1    84622.0  \n",
       "2        NaN  \n",
       "3   106946.0  \n",
       "4    12273.0  \n",
       "5    63471.0  \n",
       "6   242766.0  \n",
       "7   -18485.0  \n",
       "8  -157632.0  \n",
       "9     1106.0  \n",
       "10  158738.0  \n",
       "11       NaN  \n",
       "12  -94011.0  \n",
       "13  -31932.0  \n",
       "14   37628.0  \n",
       "15  -24452.0  \n",
       "16       NaN  \n",
       "17       NaN  \n",
       "18    -113.0  \n",
       "19  -27476.0  \n",
       "20  330881.0  \n",
       "21  303405.0  "
      ]
     },
     "execution_count": 35,
     "metadata": {},
     "output_type": "execute_result"
    }
   ],
   "source": [
    "df_5"
   ]
  },
  {
   "cell_type": "code",
   "execution_count": null,
   "metadata": {},
   "outputs": [],
   "source": []
  },
  {
   "cell_type": "code",
   "execution_count": 36,
   "metadata": {},
   "outputs": [
    {
     "name": "stdout",
     "output_type": "stream",
     "text": [
      "Overwriting fsdata.py\n"
     ]
    }
   ],
   "source": [
    "%%writefile fsdata.py\n",
    "import urllib.request as req\n",
    "import pandas as pd\n",
    "\n",
    "def make_fsdata(firm_code) :\n",
    "    \n",
    "    fs_url = \"https://comp.fnguide.com/SVO2/ASP/SVD_Finance.asp?pGB=1&cID=&MenuYn=Y&ReportGB=&NewMenuID=103&stkGb=701&gicode=\" + firm_code\n",
    "    fs_page = req.urlopen(fs_url)\n",
    "    fs_table = pd.read_html(fs_page)\n",
    "    \n",
    "    ## 손익계산서 연결\n",
    "    df_0= fs_table[0]\n",
    "    df_0 = df_0.set_index(df_0.columns[0])\n",
    "    df_pl = df_0[[*df_0.columns[:4]]]\n",
    "    index = [\"매출액\",\"영업이익\",\"당기순이익\"]\n",
    "    df_pl = df_pl.loc[index]\n",
    "    \n",
    "     ## 재무상태표 연결\n",
    "    df_2= fs_table[2]\n",
    "    df_2 = df_2.set_index(df_2.columns[0])\n",
    "    df_bs = df_2[[*df_2.columns[:4]]]\n",
    "    index = [\"자산\",\"부채\",\"자본\"]\n",
    "    df_bs = df_bs.loc[index]\n",
    "    \n",
    "     ## 현금흐름표 연결\n",
    "    df_4= fs_table[4]\n",
    "    df_4 = df_4.set_index('IFRS(연결)')\n",
    "    df_ii = df_4.loc[['영업활동으로인한현금흐름']]\n",
    "    \n",
    "    temp = pd.concat([df_pl, df_bs, df_ii])\n",
    "\n",
    "    \n",
    "    return temp\n",
    "    "
   ]
  },
  {
   "cell_type": "code",
   "execution_count": 37,
   "metadata": {},
   "outputs": [],
   "source": [
    "import fsdata\n",
    "\n",
    "temp = fsdata.make_fsdata('A005930')"
   ]
  },
  {
   "cell_type": "code",
   "execution_count": 38,
   "metadata": {},
   "outputs": [
    {
     "data": {
      "text/plain": [
       "7"
      ]
     },
     "execution_count": 38,
     "metadata": {},
     "output_type": "execute_result"
    }
   ],
   "source": [
    "len(temp)"
   ]
  },
  {
   "cell_type": "code",
   "execution_count": 39,
   "metadata": {},
   "outputs": [
    {
     "data": {
      "text/html": [
       "<div>\n",
       "<style scoped>\n",
       "    .dataframe tbody tr th:only-of-type {\n",
       "        vertical-align: middle;\n",
       "    }\n",
       "\n",
       "    .dataframe tbody tr th {\n",
       "        vertical-align: top;\n",
       "    }\n",
       "\n",
       "    .dataframe thead th {\n",
       "        text-align: right;\n",
       "    }\n",
       "</style>\n",
       "<table border=\"1\" class=\"dataframe\">\n",
       "  <thead>\n",
       "    <tr style=\"text-align: right;\">\n",
       "      <th></th>\n",
       "      <th>2015/12</th>\n",
       "      <th>2016/12</th>\n",
       "      <th>2017/12</th>\n",
       "      <th>2018/12</th>\n",
       "    </tr>\n",
       "    <tr>\n",
       "      <th>IFRS(연결)</th>\n",
       "      <th></th>\n",
       "      <th></th>\n",
       "      <th></th>\n",
       "      <th></th>\n",
       "    </tr>\n",
       "  </thead>\n",
       "  <tbody>\n",
       "    <tr>\n",
       "      <th>매출액</th>\n",
       "      <td>2006535.0</td>\n",
       "      <td>2018667.0</td>\n",
       "      <td>2395754.0</td>\n",
       "      <td>2437714.0</td>\n",
       "    </tr>\n",
       "    <tr>\n",
       "      <th>영업이익</th>\n",
       "      <td>264134.0</td>\n",
       "      <td>292407.0</td>\n",
       "      <td>536450.0</td>\n",
       "      <td>588867.0</td>\n",
       "    </tr>\n",
       "    <tr>\n",
       "      <th>당기순이익</th>\n",
       "      <td>190601.0</td>\n",
       "      <td>227261.0</td>\n",
       "      <td>421867.0</td>\n",
       "      <td>443449.0</td>\n",
       "    </tr>\n",
       "    <tr>\n",
       "      <th>자산</th>\n",
       "      <td>2421795.0</td>\n",
       "      <td>2621743.0</td>\n",
       "      <td>3017521.0</td>\n",
       "      <td>3393572.0</td>\n",
       "    </tr>\n",
       "    <tr>\n",
       "      <th>부채</th>\n",
       "      <td>631197.0</td>\n",
       "      <td>692113.0</td>\n",
       "      <td>872607.0</td>\n",
       "      <td>916041.0</td>\n",
       "    </tr>\n",
       "    <tr>\n",
       "      <th>자본</th>\n",
       "      <td>1790598.0</td>\n",
       "      <td>1929630.0</td>\n",
       "      <td>2144914.0</td>\n",
       "      <td>2477532.0</td>\n",
       "    </tr>\n",
       "    <tr>\n",
       "      <th>영업활동으로인한현금흐름</th>\n",
       "      <td>400618.0</td>\n",
       "      <td>473856.0</td>\n",
       "      <td>621620.0</td>\n",
       "      <td>670319.0</td>\n",
       "    </tr>\n",
       "  </tbody>\n",
       "</table>\n",
       "</div>"
      ],
      "text/plain": [
       "                2015/12    2016/12    2017/12    2018/12\n",
       "IFRS(연결)                                                \n",
       "매출액           2006535.0  2018667.0  2395754.0  2437714.0\n",
       "영업이익           264134.0   292407.0   536450.0   588867.0\n",
       "당기순이익          190601.0   227261.0   421867.0   443449.0\n",
       "자산            2421795.0  2621743.0  3017521.0  3393572.0\n",
       "부채             631197.0   692113.0   872607.0   916041.0\n",
       "자본            1790598.0  1929630.0  2144914.0  2477532.0\n",
       "영업활동으로인한현금흐름   400618.0   473856.0   621620.0   670319.0"
      ]
     },
     "execution_count": 39,
     "metadata": {},
     "output_type": "execute_result"
    }
   ],
   "source": [
    "temp"
   ]
  },
  {
   "cell_type": "code",
   "execution_count": 40,
   "metadata": {},
   "outputs": [],
   "source": [
    "temp = fsdata.make_fsdata('A068270')"
   ]
  },
  {
   "cell_type": "code",
   "execution_count": 41,
   "metadata": {},
   "outputs": [
    {
     "data": {
      "text/html": [
       "<div>\n",
       "<style scoped>\n",
       "    .dataframe tbody tr th:only-of-type {\n",
       "        vertical-align: middle;\n",
       "    }\n",
       "\n",
       "    .dataframe tbody tr th {\n",
       "        vertical-align: top;\n",
       "    }\n",
       "\n",
       "    .dataframe thead th {\n",
       "        text-align: right;\n",
       "    }\n",
       "</style>\n",
       "<table border=\"1\" class=\"dataframe\">\n",
       "  <thead>\n",
       "    <tr style=\"text-align: right;\">\n",
       "      <th></th>\n",
       "      <th>2015/12</th>\n",
       "      <th>2016/12</th>\n",
       "      <th>2017/12</th>\n",
       "      <th>2018/12</th>\n",
       "    </tr>\n",
       "    <tr>\n",
       "      <th>IFRS(연결)</th>\n",
       "      <th></th>\n",
       "      <th></th>\n",
       "      <th></th>\n",
       "      <th></th>\n",
       "    </tr>\n",
       "  </thead>\n",
       "  <tbody>\n",
       "    <tr>\n",
       "      <th>매출액</th>\n",
       "      <td>6034.0</td>\n",
       "      <td>6706.0</td>\n",
       "      <td>9491.0</td>\n",
       "      <td>9821.0</td>\n",
       "    </tr>\n",
       "    <tr>\n",
       "      <th>영업이익</th>\n",
       "      <td>2590.0</td>\n",
       "      <td>2497.0</td>\n",
       "      <td>5078.0</td>\n",
       "      <td>3387.0</td>\n",
       "    </tr>\n",
       "    <tr>\n",
       "      <th>당기순이익</th>\n",
       "      <td>1583.0</td>\n",
       "      <td>1805.0</td>\n",
       "      <td>3862.0</td>\n",
       "      <td>2536.0</td>\n",
       "    </tr>\n",
       "    <tr>\n",
       "      <th>자산</th>\n",
       "      <td>27482.0</td>\n",
       "      <td>30219.0</td>\n",
       "      <td>33155.0</td>\n",
       "      <td>35406.0</td>\n",
       "    </tr>\n",
       "    <tr>\n",
       "      <th>부채</th>\n",
       "      <td>9384.0</td>\n",
       "      <td>8230.0</td>\n",
       "      <td>8836.0</td>\n",
       "      <td>9078.0</td>\n",
       "    </tr>\n",
       "    <tr>\n",
       "      <th>자본</th>\n",
       "      <td>18098.0</td>\n",
       "      <td>21990.0</td>\n",
       "      <td>24319.0</td>\n",
       "      <td>26328.0</td>\n",
       "    </tr>\n",
       "    <tr>\n",
       "      <th>영업활동으로인한현금흐름</th>\n",
       "      <td>776.0</td>\n",
       "      <td>2509.0</td>\n",
       "      <td>4975.0</td>\n",
       "      <td>3821.0</td>\n",
       "    </tr>\n",
       "  </tbody>\n",
       "</table>\n",
       "</div>"
      ],
      "text/plain": [
       "              2015/12  2016/12  2017/12  2018/12\n",
       "IFRS(연결)                                        \n",
       "매출액            6034.0   6706.0   9491.0   9821.0\n",
       "영업이익           2590.0   2497.0   5078.0   3387.0\n",
       "당기순이익          1583.0   1805.0   3862.0   2536.0\n",
       "자산            27482.0  30219.0  33155.0  35406.0\n",
       "부채             9384.0   8230.0   8836.0   9078.0\n",
       "자본            18098.0  21990.0  24319.0  26328.0\n",
       "영업활동으로인한현금흐름    776.0   2509.0   4975.0   3821.0"
      ]
     },
     "execution_count": 41,
     "metadata": {},
     "output_type": "execute_result"
    }
   ],
   "source": [
    "temp"
   ]
  },
  {
   "cell_type": "code",
   "execution_count": 42,
   "metadata": {},
   "outputs": [
    {
     "data": {
      "text/plain": [
       "Index(['매출액', '영업이익', '당기순이익', '자산', '부채', '자본', '영업활동으로인한현금흐름'], dtype='object', name='IFRS(연결)')"
      ]
     },
     "execution_count": 42,
     "metadata": {},
     "output_type": "execute_result"
    }
   ],
   "source": [
    "temp.index"
   ]
  },
  {
   "cell_type": "code",
   "execution_count": 43,
   "metadata": {},
   "outputs": [],
   "source": [
    "temp_ = temp.stack()"
   ]
  },
  {
   "cell_type": "code",
   "execution_count": 44,
   "metadata": {},
   "outputs": [
    {
     "data": {
      "text/plain": [
       "IFRS(연결)         \n",
       "매출액       2015/12    6034.0\n",
       "          2016/12    6706.0\n",
       "          2017/12    9491.0\n",
       "          2018/12    9821.0\n",
       "영업이익      2015/12    2590.0\n",
       "dtype: float64"
      ]
     },
     "execution_count": 44,
     "metadata": {},
     "output_type": "execute_result"
    }
   ],
   "source": [
    "temp_.head()"
   ]
  },
  {
   "cell_type": "code",
   "execution_count": 45,
   "metadata": {},
   "outputs": [],
   "source": [
    "temp_ = temp_.sort_index(level=1)"
   ]
  },
  {
   "cell_type": "code",
   "execution_count": 46,
   "metadata": {},
   "outputs": [
    {
     "data": {
      "text/plain": [
       "IFRS(연결)         \n",
       "매출액       2015/12     6034.0\n",
       "영업이익      2015/12     2590.0\n",
       "당기순이익     2015/12     1583.0\n",
       "자산        2015/12    27482.0\n",
       "부채        2015/12     9384.0\n",
       "dtype: float64"
      ]
     },
     "execution_count": 46,
     "metadata": {},
     "output_type": "execute_result"
    }
   ],
   "source": [
    "temp_.head()"
   ]
  },
  {
   "cell_type": "code",
   "execution_count": 47,
   "metadata": {},
   "outputs": [],
   "source": [
    "temp = pd.DataFrame(temp_)"
   ]
  },
  {
   "cell_type": "code",
   "execution_count": 48,
   "metadata": {},
   "outputs": [
    {
     "data": {
      "text/html": [
       "<div>\n",
       "<style scoped>\n",
       "    .dataframe tbody tr th:only-of-type {\n",
       "        vertical-align: middle;\n",
       "    }\n",
       "\n",
       "    .dataframe tbody tr th {\n",
       "        vertical-align: top;\n",
       "    }\n",
       "\n",
       "    .dataframe thead th {\n",
       "        text-align: right;\n",
       "    }\n",
       "</style>\n",
       "<table border=\"1\" class=\"dataframe\">\n",
       "  <thead>\n",
       "    <tr style=\"text-align: right;\">\n",
       "      <th></th>\n",
       "      <th></th>\n",
       "      <th>0</th>\n",
       "    </tr>\n",
       "    <tr>\n",
       "      <th>IFRS(연결)</th>\n",
       "      <th></th>\n",
       "      <th></th>\n",
       "    </tr>\n",
       "  </thead>\n",
       "  <tbody>\n",
       "    <tr>\n",
       "      <th>매출액</th>\n",
       "      <th>2015/12</th>\n",
       "      <td>6034.0</td>\n",
       "    </tr>\n",
       "    <tr>\n",
       "      <th>영업이익</th>\n",
       "      <th>2015/12</th>\n",
       "      <td>2590.0</td>\n",
       "    </tr>\n",
       "    <tr>\n",
       "      <th>당기순이익</th>\n",
       "      <th>2015/12</th>\n",
       "      <td>1583.0</td>\n",
       "    </tr>\n",
       "    <tr>\n",
       "      <th>자산</th>\n",
       "      <th>2015/12</th>\n",
       "      <td>27482.0</td>\n",
       "    </tr>\n",
       "    <tr>\n",
       "      <th>부채</th>\n",
       "      <th>2015/12</th>\n",
       "      <td>9384.0</td>\n",
       "    </tr>\n",
       "  </tbody>\n",
       "</table>\n",
       "</div>"
      ],
      "text/plain": [
       "                        0\n",
       "IFRS(연결)                 \n",
       "매출액      2015/12   6034.0\n",
       "영업이익     2015/12   2590.0\n",
       "당기순이익    2015/12   1583.0\n",
       "자산       2015/12  27482.0\n",
       "부채       2015/12   9384.0"
      ]
     },
     "execution_count": 48,
     "metadata": {},
     "output_type": "execute_result"
    }
   ],
   "source": [
    "temp.head()"
   ]
  },
  {
   "cell_type": "code",
   "execution_count": 49,
   "metadata": {},
   "outputs": [],
   "source": [
    "temp = temp.T"
   ]
  },
  {
   "cell_type": "code",
   "execution_count": 50,
   "metadata": {},
   "outputs": [
    {
     "data": {
      "text/html": [
       "<div>\n",
       "<style scoped>\n",
       "    .dataframe tbody tr th:only-of-type {\n",
       "        vertical-align: middle;\n",
       "    }\n",
       "\n",
       "    .dataframe tbody tr th {\n",
       "        vertical-align: top;\n",
       "    }\n",
       "\n",
       "    .dataframe thead th {\n",
       "        text-align: right;\n",
       "    }\n",
       "</style>\n",
       "<table border=\"1\" class=\"dataframe\">\n",
       "  <thead>\n",
       "    <tr style=\"text-align: right;\">\n",
       "      <th></th>\n",
       "      <th></th>\n",
       "      <th>0</th>\n",
       "    </tr>\n",
       "    <tr>\n",
       "      <th>IFRS(연결)</th>\n",
       "      <th></th>\n",
       "      <th></th>\n",
       "    </tr>\n",
       "  </thead>\n",
       "  <tbody>\n",
       "    <tr>\n",
       "      <th>매출액</th>\n",
       "      <th>2015/12</th>\n",
       "      <td>6034.0</td>\n",
       "    </tr>\n",
       "    <tr>\n",
       "      <th>영업이익</th>\n",
       "      <th>2015/12</th>\n",
       "      <td>2590.0</td>\n",
       "    </tr>\n",
       "    <tr>\n",
       "      <th>당기순이익</th>\n",
       "      <th>2015/12</th>\n",
       "      <td>1583.0</td>\n",
       "    </tr>\n",
       "    <tr>\n",
       "      <th>자산</th>\n",
       "      <th>2015/12</th>\n",
       "      <td>27482.0</td>\n",
       "    </tr>\n",
       "    <tr>\n",
       "      <th>부채</th>\n",
       "      <th>2015/12</th>\n",
       "      <td>9384.0</td>\n",
       "    </tr>\n",
       "  </tbody>\n",
       "</table>\n",
       "</div>"
      ],
      "text/plain": [
       "                        0\n",
       "IFRS(연결)                 \n",
       "매출액      2015/12   6034.0\n",
       "영업이익     2015/12   2590.0\n",
       "당기순이익    2015/12   1583.0\n",
       "자산       2015/12  27482.0\n",
       "부채       2015/12   9384.0"
      ]
     },
     "execution_count": 50,
     "metadata": {},
     "output_type": "execute_result"
    }
   ],
   "source": [
    "temp.T.head()"
   ]
  },
  {
   "cell_type": "markdown",
   "metadata": {},
   "source": [
    "### 멀티 열에 대한 정보를 변경 "
   ]
  },
  {
   "cell_type": "code",
   "execution_count": 51,
   "metadata": {},
   "outputs": [],
   "source": [
    "temp = temp.swaplevel(0,1,axis=1)"
   ]
  },
  {
   "cell_type": "code",
   "execution_count": 52,
   "metadata": {},
   "outputs": [
    {
     "data": {
      "text/html": [
       "<div>\n",
       "<style scoped>\n",
       "    .dataframe tbody tr th:only-of-type {\n",
       "        vertical-align: middle;\n",
       "    }\n",
       "\n",
       "    .dataframe tbody tr th {\n",
       "        vertical-align: top;\n",
       "    }\n",
       "\n",
       "    .dataframe thead tr th {\n",
       "        text-align: left;\n",
       "    }\n",
       "</style>\n",
       "<table border=\"1\" class=\"dataframe\">\n",
       "  <thead>\n",
       "    <tr>\n",
       "      <th></th>\n",
       "      <th colspan=\"7\" halign=\"left\">2015/12</th>\n",
       "      <th colspan=\"3\" halign=\"left\">2016/12</th>\n",
       "      <th>...</th>\n",
       "      <th colspan=\"3\" halign=\"left\">2017/12</th>\n",
       "      <th colspan=\"7\" halign=\"left\">2018/12</th>\n",
       "    </tr>\n",
       "    <tr>\n",
       "      <th>IFRS(연결)</th>\n",
       "      <th>매출액</th>\n",
       "      <th>영업이익</th>\n",
       "      <th>당기순이익</th>\n",
       "      <th>자산</th>\n",
       "      <th>부채</th>\n",
       "      <th>자본</th>\n",
       "      <th>영업활동으로인한현금흐름</th>\n",
       "      <th>매출액</th>\n",
       "      <th>영업이익</th>\n",
       "      <th>당기순이익</th>\n",
       "      <th>...</th>\n",
       "      <th>부채</th>\n",
       "      <th>자본</th>\n",
       "      <th>영업활동으로인한현금흐름</th>\n",
       "      <th>매출액</th>\n",
       "      <th>영업이익</th>\n",
       "      <th>당기순이익</th>\n",
       "      <th>자산</th>\n",
       "      <th>부채</th>\n",
       "      <th>자본</th>\n",
       "      <th>영업활동으로인한현금흐름</th>\n",
       "    </tr>\n",
       "  </thead>\n",
       "  <tbody>\n",
       "    <tr>\n",
       "      <th>0</th>\n",
       "      <td>6034.0</td>\n",
       "      <td>2590.0</td>\n",
       "      <td>1583.0</td>\n",
       "      <td>27482.0</td>\n",
       "      <td>9384.0</td>\n",
       "      <td>18098.0</td>\n",
       "      <td>776.0</td>\n",
       "      <td>6706.0</td>\n",
       "      <td>2497.0</td>\n",
       "      <td>1805.0</td>\n",
       "      <td>...</td>\n",
       "      <td>8836.0</td>\n",
       "      <td>24319.0</td>\n",
       "      <td>4975.0</td>\n",
       "      <td>9821.0</td>\n",
       "      <td>3387.0</td>\n",
       "      <td>2536.0</td>\n",
       "      <td>35406.0</td>\n",
       "      <td>9078.0</td>\n",
       "      <td>26328.0</td>\n",
       "      <td>3821.0</td>\n",
       "    </tr>\n",
       "  </tbody>\n",
       "</table>\n",
       "<p>1 rows × 28 columns</p>\n",
       "</div>"
      ],
      "text/plain": [
       "         2015/12                                                         \\\n",
       "IFRS(연결)     매출액    영업이익   당기순이익       자산      부채       자본 영업활동으로인한현금흐름   \n",
       "0         6034.0  2590.0  1583.0  27482.0  9384.0  18098.0        776.0   \n",
       "\n",
       "         2016/12                  ... 2017/12                       2018/12  \\\n",
       "IFRS(연결)     매출액    영업이익   당기순이익  ...      부채       자본 영업활동으로인한현금흐름     매출액   \n",
       "0         6706.0  2497.0  1805.0  ...  8836.0  24319.0       4975.0  9821.0   \n",
       "\n",
       "                                                                 \n",
       "IFRS(연결)    영업이익   당기순이익       자산      부채       자본 영업활동으로인한현금흐름  \n",
       "0         3387.0  2536.0  35406.0  9078.0  26328.0       3821.0  \n",
       "\n",
       "[1 rows x 28 columns]"
      ]
     },
     "execution_count": 52,
     "metadata": {},
     "output_type": "execute_result"
    }
   ],
   "source": [
    "temp"
   ]
  },
  {
   "cell_type": "markdown",
   "metadata": {},
   "source": [
    "# 4.  회사별 재무제표 처리 방식으로 수정 "
   ]
  },
  {
   "cell_type": "code",
   "execution_count": 53,
   "metadata": {},
   "outputs": [
    {
     "name": "stdout",
     "output_type": "stream",
     "text": [
      "Overwriting fsdata_.py\n"
     ]
    }
   ],
   "source": [
    "%%writefile fsdata_.py\n",
    "import urllib.request as req\n",
    "import pandas as pd\n",
    "import fsdata\n",
    "\n",
    "def make_fsdata(firm_code) :\n",
    "    \n",
    "    temp = fsdata.make_fsdata(firm_code)\n",
    "    \n",
    "    temp_ = temp.stack()\n",
    "    temp_ = temp_.sort_index(level=1)\n",
    "    temp = pd.DataFrame(temp_)\n",
    "    temp = temp.T\n",
    "    temp = temp.swaplevel(0,1,axis=1)\n",
    "    temp_mt = temp.columns\n",
    "    temp['firmcode'] = firm_code\n",
    "    temp = temp.set_index('firmcode')\n",
    "    temp.columns = temp_mt\n",
    "\n",
    "    \n",
    "    return temp\n",
    "    "
   ]
  },
  {
   "cell_type": "code",
   "execution_count": 54,
   "metadata": {},
   "outputs": [],
   "source": [
    "import fsdata_\n",
    "\n",
    "temp = fsdata_.make_fsdata('A005930')"
   ]
  },
  {
   "cell_type": "code",
   "execution_count": 55,
   "metadata": {},
   "outputs": [
    {
     "data": {
      "text/html": [
       "<div>\n",
       "<style scoped>\n",
       "    .dataframe tbody tr th:only-of-type {\n",
       "        vertical-align: middle;\n",
       "    }\n",
       "\n",
       "    .dataframe tbody tr th {\n",
       "        vertical-align: top;\n",
       "    }\n",
       "\n",
       "    .dataframe thead tr th {\n",
       "        text-align: left;\n",
       "    }\n",
       "\n",
       "    .dataframe thead tr:last-of-type th {\n",
       "        text-align: right;\n",
       "    }\n",
       "</style>\n",
       "<table border=\"1\" class=\"dataframe\">\n",
       "  <thead>\n",
       "    <tr>\n",
       "      <th></th>\n",
       "      <th colspan=\"7\" halign=\"left\">2015/12</th>\n",
       "      <th colspan=\"3\" halign=\"left\">2016/12</th>\n",
       "      <th>...</th>\n",
       "      <th colspan=\"3\" halign=\"left\">2017/12</th>\n",
       "      <th colspan=\"7\" halign=\"left\">2018/12</th>\n",
       "    </tr>\n",
       "    <tr>\n",
       "      <th>IFRS(연결)</th>\n",
       "      <th>매출액</th>\n",
       "      <th>영업이익</th>\n",
       "      <th>당기순이익</th>\n",
       "      <th>자산</th>\n",
       "      <th>부채</th>\n",
       "      <th>자본</th>\n",
       "      <th>영업활동으로인한현금흐름</th>\n",
       "      <th>매출액</th>\n",
       "      <th>영업이익</th>\n",
       "      <th>당기순이익</th>\n",
       "      <th>...</th>\n",
       "      <th>부채</th>\n",
       "      <th>자본</th>\n",
       "      <th>영업활동으로인한현금흐름</th>\n",
       "      <th>매출액</th>\n",
       "      <th>영업이익</th>\n",
       "      <th>당기순이익</th>\n",
       "      <th>자산</th>\n",
       "      <th>부채</th>\n",
       "      <th>자본</th>\n",
       "      <th>영업활동으로인한현금흐름</th>\n",
       "    </tr>\n",
       "    <tr>\n",
       "      <th>firmcode</th>\n",
       "      <th></th>\n",
       "      <th></th>\n",
       "      <th></th>\n",
       "      <th></th>\n",
       "      <th></th>\n",
       "      <th></th>\n",
       "      <th></th>\n",
       "      <th></th>\n",
       "      <th></th>\n",
       "      <th></th>\n",
       "      <th></th>\n",
       "      <th></th>\n",
       "      <th></th>\n",
       "      <th></th>\n",
       "      <th></th>\n",
       "      <th></th>\n",
       "      <th></th>\n",
       "      <th></th>\n",
       "      <th></th>\n",
       "      <th></th>\n",
       "      <th></th>\n",
       "    </tr>\n",
       "  </thead>\n",
       "  <tbody>\n",
       "    <tr>\n",
       "      <th>A005930</th>\n",
       "      <td>2006535.0</td>\n",
       "      <td>264134.0</td>\n",
       "      <td>190601.0</td>\n",
       "      <td>2421795.0</td>\n",
       "      <td>631197.0</td>\n",
       "      <td>1790598.0</td>\n",
       "      <td>400618.0</td>\n",
       "      <td>2018667.0</td>\n",
       "      <td>292407.0</td>\n",
       "      <td>227261.0</td>\n",
       "      <td>...</td>\n",
       "      <td>872607.0</td>\n",
       "      <td>2144914.0</td>\n",
       "      <td>621620.0</td>\n",
       "      <td>2437714.0</td>\n",
       "      <td>588867.0</td>\n",
       "      <td>443449.0</td>\n",
       "      <td>3393572.0</td>\n",
       "      <td>916041.0</td>\n",
       "      <td>2477532.0</td>\n",
       "      <td>670319.0</td>\n",
       "    </tr>\n",
       "  </tbody>\n",
       "</table>\n",
       "<p>1 rows × 28 columns</p>\n",
       "</div>"
      ],
      "text/plain": [
       "            2015/12                                                      \\\n",
       "IFRS(연결)        매출액      영업이익     당기순이익         자산        부채         자본   \n",
       "firmcode                                                                  \n",
       "A005930   2006535.0  264134.0  190601.0  2421795.0  631197.0  1790598.0   \n",
       "\n",
       "                         2016/12                      ...   2017/12  \\\n",
       "IFRS(연결) 영업활동으로인한현금흐름        매출액      영업이익     당기순이익  ...        부채   \n",
       "firmcode                                              ...             \n",
       "A005930      400618.0  2018667.0  292407.0  227261.0  ...  872607.0   \n",
       "\n",
       "                                    2018/12                                 \\\n",
       "IFRS(연결)         자본 영업활동으로인한현금흐름        매출액      영업이익     당기순이익         자산   \n",
       "firmcode                                                                     \n",
       "A005930   2144914.0     621620.0  2437714.0  588867.0  443449.0  3393572.0   \n",
       "\n",
       "                                            \n",
       "IFRS(연결)        부채         자본 영업활동으로인한현금흐름  \n",
       "firmcode                                    \n",
       "A005930   916041.0  2477532.0     670319.0  \n",
       "\n",
       "[1 rows x 28 columns]"
      ]
     },
     "execution_count": 55,
     "metadata": {},
     "output_type": "execute_result"
    }
   ],
   "source": [
    "temp"
   ]
  },
  {
   "cell_type": "code",
   "execution_count": 56,
   "metadata": {},
   "outputs": [
    {
     "data": {
      "text/plain": [
       "Index(['A005930'], dtype='object', name='firmcode')"
      ]
     },
     "execution_count": 56,
     "metadata": {},
     "output_type": "execute_result"
    }
   ],
   "source": [
    "temp.index"
   ]
  },
  {
   "cell_type": "code",
   "execution_count": 57,
   "metadata": {},
   "outputs": [
    {
     "data": {
      "text/plain": [
       "MultiIndex(levels=[['2015/12', '2016/12', '2017/12', '2018/12'], ['당기순이익', '매출액', '부채', '영업이익', '영업활동으로인한현금흐름', '자본', '자산']],\n",
       "           codes=[[0, 0, 0, 0, 0, 0, 0, 1, 1, 1, 1, 1, 1, 1, 2, 2, 2, 2, 2, 2, 2, 3, 3, 3, 3, 3, 3, 3], [1, 3, 0, 6, 2, 5, 4, 1, 3, 0, 6, 2, 5, 4, 1, 3, 0, 6, 2, 5, 4, 1, 3, 0, 6, 2, 5, 4]],\n",
       "           names=[None, 'IFRS(연결)'])"
      ]
     },
     "execution_count": 57,
     "metadata": {},
     "output_type": "execute_result"
    }
   ],
   "source": [
    "temp.columns"
   ]
  },
  {
   "cell_type": "code",
   "execution_count": null,
   "metadata": {},
   "outputs": [],
   "source": []
  },
  {
   "cell_type": "markdown",
   "metadata": {},
   "source": [
    "## 막대 그래프 그리기"
   ]
  },
  {
   "cell_type": "code",
   "execution_count": 58,
   "metadata": {},
   "outputs": [
    {
     "data": {
      "text/plain": [
       "         IFRS(연결)  firmcode\n",
       "2015/12  매출액       A005930     2006535.0\n",
       "         영업이익      A005930      264134.0\n",
       "         당기순이익     A005930      190601.0\n",
       "         자산        A005930     2421795.0\n",
       "         부채        A005930      631197.0\n",
       "dtype: float64"
      ]
     },
     "execution_count": 58,
     "metadata": {},
     "output_type": "execute_result"
    }
   ],
   "source": [
    "temp.unstack().head()"
   ]
  },
  {
   "cell_type": "code",
   "execution_count": 59,
   "metadata": {},
   "outputs": [
    {
     "data": {
      "text/plain": [
       "<matplotlib.axes._subplots.AxesSubplot at 0x156b2d648d0>"
      ]
     },
     "execution_count": 59,
     "metadata": {},
     "output_type": "execute_result"
    },
    {
     "data": {
      "image/png": "[encoded data removed]",
      "text/plain": [
       "<Figure size 432x288 with 1 Axes>"
      ]
     },
     "metadata": {
      "needs_background": "light"
     },
     "output_type": "display_data"
    }
   ],
   "source": [
    "temp.unstack().plot(kind='bar', stacked=True)\n"
   ]
  },
  {
   "cell_type": "markdown",
   "metadata": {},
   "source": [
    "### 특정 년도별로 처리하기"
   ]
  },
  {
   "cell_type": "code",
   "execution_count": 60,
   "metadata": {},
   "outputs": [
    {
     "data": {
      "text/plain": [
       "<matplotlib.axes._subplots.AxesSubplot at 0x156b30fb048>"
      ]
     },
     "execution_count": 60,
     "metadata": {},
     "output_type": "execute_result"
    },
    {
     "data": {
      "image/png": "[encoded data removed]",
      "text/plain": [
       "<Figure size 432x288 with 1 Axes>"
      ]
     },
     "metadata": {
      "needs_background": "light"
     },
     "output_type": "display_data"
    }
   ],
   "source": [
    "temp.unstack()['2015/12'].plot(kind='bar', stacked=True)"
   ]
  },
  {
   "cell_type": "code",
   "execution_count": null,
   "metadata": {},
   "outputs": [],
   "source": []
  }
 ],
 "metadata": {
  "kernelspec": {
   "display_name": "Python 3",
   "language": "python",
   "name": "python3"
  },
  "language_info": {
   "codemirror_mode": {
    "name": "ipython",
    "version": 3
   },
   "file_extension": ".py",
   "mimetype": "text/x-python",
   "name": "python",
   "nbconvert_exporter": "python",
   "pygments_lexer": "ipython3",
   "version": "3.7.3"
  }
 },
 "nbformat": 4,
 "nbformat_minor": 2
}
