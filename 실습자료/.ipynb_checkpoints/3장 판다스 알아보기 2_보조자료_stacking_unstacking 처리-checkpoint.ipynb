{
 "cells": [
  {
   "cell_type": "code",
   "execution_count": 1,
   "metadata": {},
   "outputs": [],
   "source": [
    "import sys"
   ]
  },
  {
   "cell_type": "code",
   "execution_count": 2,
   "metadata": {},
   "outputs": [
    {
     "data": {
      "text/plain": [
       "sys.version_info(major=3, minor=7, micro=3, releaselevel='final', serial=0)"
      ]
     },
     "execution_count": 2,
     "metadata": {},
     "output_type": "execute_result"
    }
   ],
   "source": [
    "sys.version_info"
   ]
  },
  {
   "cell_type": "code",
   "execution_count": 3,
   "metadata": {},
   "outputs": [
    {
     "name": "stdout",
     "output_type": "stream",
     "text": [
      " Mac OS\n"
     ]
    }
   ],
   "source": [
    "if sys.platform == 'darwin' :\n",
    "    print(\" Mac OS\")\n",
    "else :\n",
    "    print(\" Windows \")"
   ]
  },
  {
   "cell_type": "code",
   "execution_count": null,
   "metadata": {},
   "outputs": [],
   "source": []
  },
  {
   "cell_type": "code",
   "execution_count": 4,
   "metadata": {},
   "outputs": [],
   "source": [
    "import pandas as pd"
   ]
  },
  {
   "cell_type": "code",
   "execution_count": 5,
   "metadata": {},
   "outputs": [],
   "source": [
    "import numpy as np"
   ]
  },
  {
   "cell_type": "markdown",
   "metadata": {},
   "source": [
    "# 1. stacking 과 unsticking\n",
    "\n",
    "        인덱스의 정보가 멀티로 처리됨"
   ]
  },
  {
   "cell_type": "code",
   "execution_count": 12,
   "metadata": {},
   "outputs": [],
   "source": [
    "df1 = pd.DataFrame(np.arange(9).reshape(3,3),\n",
    "                   columns=['a','b','c'])"
   ]
  },
  {
   "cell_type": "code",
   "execution_count": 13,
   "metadata": {},
   "outputs": [
    {
     "data": {
      "text/html": [
       "<div>\n",
       "<style scoped>\n",
       "    .dataframe tbody tr th:only-of-type {\n",
       "        vertical-align: middle;\n",
       "    }\n",
       "\n",
       "    .dataframe tbody tr th {\n",
       "        vertical-align: top;\n",
       "    }\n",
       "\n",
       "    .dataframe thead th {\n",
       "        text-align: right;\n",
       "    }\n",
       "</style>\n",
       "<table border=\"1\" class=\"dataframe\">\n",
       "  <thead>\n",
       "    <tr style=\"text-align: right;\">\n",
       "      <th></th>\n",
       "      <th>a</th>\n",
       "      <th>b</th>\n",
       "      <th>c</th>\n",
       "    </tr>\n",
       "  </thead>\n",
       "  <tbody>\n",
       "    <tr>\n",
       "      <th>0</th>\n",
       "      <td>0</td>\n",
       "      <td>1</td>\n",
       "      <td>2</td>\n",
       "    </tr>\n",
       "    <tr>\n",
       "      <th>1</th>\n",
       "      <td>3</td>\n",
       "      <td>4</td>\n",
       "      <td>5</td>\n",
       "    </tr>\n",
       "    <tr>\n",
       "      <th>2</th>\n",
       "      <td>6</td>\n",
       "      <td>7</td>\n",
       "      <td>8</td>\n",
       "    </tr>\n",
       "  </tbody>\n",
       "</table>\n",
       "</div>"
      ],
      "text/plain": [
       "   a  b  c\n",
       "0  0  1  2\n",
       "1  3  4  5\n",
       "2  6  7  8"
      ]
     },
     "execution_count": 13,
     "metadata": {},
     "output_type": "execute_result"
    }
   ],
   "source": [
    "df1"
   ]
  },
  {
   "cell_type": "markdown",
   "metadata": {},
   "source": [
    "### 열 칼럼의 정보를 행의 인덱스로 처리\n",
    "\n",
    "      결과가 시리즈로 변경됨"
   ]
  },
  {
   "cell_type": "code",
   "execution_count": 15,
   "metadata": {},
   "outputs": [],
   "source": [
    "s_st = df1.stack()"
   ]
  },
  {
   "cell_type": "code",
   "execution_count": 16,
   "metadata": {},
   "outputs": [
    {
     "data": {
      "text/plain": [
       "0  a    0\n",
       "   b    1\n",
       "   c    2\n",
       "1  a    3\n",
       "   b    4\n",
       "   c    5\n",
       "2  a    6\n",
       "   b    7\n",
       "   c    8\n",
       "dtype: int64"
      ]
     },
     "execution_count": 16,
     "metadata": {},
     "output_type": "execute_result"
    }
   ],
   "source": [
    "s_st"
   ]
  },
  {
   "cell_type": "code",
   "execution_count": 17,
   "metadata": {},
   "outputs": [
    {
     "data": {
      "text/plain": [
       "MultiIndex(levels=[[0, 1, 2], ['a', 'b', 'c']],\n",
       "           codes=[[0, 0, 0, 1, 1, 1, 2, 2, 2], [0, 1, 2, 0, 1, 2, 0, 1, 2]])"
      ]
     },
     "execution_count": 17,
     "metadata": {},
     "output_type": "execute_result"
    }
   ],
   "source": [
    "s_st.index"
   ]
  },
  {
   "cell_type": "markdown",
   "metadata": {},
   "source": [
    "### 시리즈의 멀티인덱스가 사라지교 열 인덱스 정보로 변경됨"
   ]
  },
  {
   "cell_type": "code",
   "execution_count": 18,
   "metadata": {},
   "outputs": [],
   "source": [
    "df_ust = s_st.unstack()"
   ]
  },
  {
   "cell_type": "code",
   "execution_count": 19,
   "metadata": {},
   "outputs": [
    {
     "data": {
      "text/html": [
       "<div>\n",
       "<style scoped>\n",
       "    .dataframe tbody tr th:only-of-type {\n",
       "        vertical-align: middle;\n",
       "    }\n",
       "\n",
       "    .dataframe tbody tr th {\n",
       "        vertical-align: top;\n",
       "    }\n",
       "\n",
       "    .dataframe thead th {\n",
       "        text-align: right;\n",
       "    }\n",
       "</style>\n",
       "<table border=\"1\" class=\"dataframe\">\n",
       "  <thead>\n",
       "    <tr style=\"text-align: right;\">\n",
       "      <th></th>\n",
       "      <th>a</th>\n",
       "      <th>b</th>\n",
       "      <th>c</th>\n",
       "    </tr>\n",
       "  </thead>\n",
       "  <tbody>\n",
       "    <tr>\n",
       "      <th>0</th>\n",
       "      <td>0</td>\n",
       "      <td>1</td>\n",
       "      <td>2</td>\n",
       "    </tr>\n",
       "    <tr>\n",
       "      <th>1</th>\n",
       "      <td>3</td>\n",
       "      <td>4</td>\n",
       "      <td>5</td>\n",
       "    </tr>\n",
       "    <tr>\n",
       "      <th>2</th>\n",
       "      <td>6</td>\n",
       "      <td>7</td>\n",
       "      <td>8</td>\n",
       "    </tr>\n",
       "  </tbody>\n",
       "</table>\n",
       "</div>"
      ],
      "text/plain": [
       "   a  b  c\n",
       "0  0  1  2\n",
       "1  3  4  5\n",
       "2  6  7  8"
      ]
     },
     "execution_count": 19,
     "metadata": {},
     "output_type": "execute_result"
    }
   ],
   "source": [
    "df_ust"
   ]
  },
  {
   "cell_type": "code",
   "execution_count": null,
   "metadata": {},
   "outputs": [],
   "source": []
  },
  {
   "cell_type": "markdown",
   "metadata": {},
   "source": [
    "# 2.  pivot 처리\n",
    "\n",
    "        피봇은 기존 테이블을 특정 인덱스와 열을 지정하고 그 내부의 값을 조정\n",
    "        \n",
    "        스택을 언스택하는 것은 맞지만 인덱스의 레벨을 추가하는 것이 아닌 실제 구조를 변경하는 것"
   ]
  },
  {
   "cell_type": "markdown",
   "metadata": {},
   "source": [
    "## pivot"
   ]
  },
  {
   "cell_type": "code",
   "execution_count": 20,
   "metadata": {},
   "outputs": [],
   "source": [
    "df_pt = df1.pivot(index=\"a\", columns='b', values='c')"
   ]
  },
  {
   "cell_type": "code",
   "execution_count": 21,
   "metadata": {},
   "outputs": [
    {
     "data": {
      "text/html": [
       "<div>\n",
       "<style scoped>\n",
       "    .dataframe tbody tr th:only-of-type {\n",
       "        vertical-align: middle;\n",
       "    }\n",
       "\n",
       "    .dataframe tbody tr th {\n",
       "        vertical-align: top;\n",
       "    }\n",
       "\n",
       "    .dataframe thead th {\n",
       "        text-align: right;\n",
       "    }\n",
       "</style>\n",
       "<table border=\"1\" class=\"dataframe\">\n",
       "  <thead>\n",
       "    <tr style=\"text-align: right;\">\n",
       "      <th>b</th>\n",
       "      <th>1</th>\n",
       "      <th>4</th>\n",
       "      <th>7</th>\n",
       "    </tr>\n",
       "    <tr>\n",
       "      <th>a</th>\n",
       "      <th></th>\n",
       "      <th></th>\n",
       "      <th></th>\n",
       "    </tr>\n",
       "  </thead>\n",
       "  <tbody>\n",
       "    <tr>\n",
       "      <th>0</th>\n",
       "      <td>2.0</td>\n",
       "      <td>NaN</td>\n",
       "      <td>NaN</td>\n",
       "    </tr>\n",
       "    <tr>\n",
       "      <th>3</th>\n",
       "      <td>NaN</td>\n",
       "      <td>5.0</td>\n",
       "      <td>NaN</td>\n",
       "    </tr>\n",
       "    <tr>\n",
       "      <th>6</th>\n",
       "      <td>NaN</td>\n",
       "      <td>NaN</td>\n",
       "      <td>8.0</td>\n",
       "    </tr>\n",
       "  </tbody>\n",
       "</table>\n",
       "</div>"
      ],
      "text/plain": [
       "b    1    4    7\n",
       "a               \n",
       "0  2.0  NaN  NaN\n",
       "3  NaN  5.0  NaN\n",
       "6  NaN  NaN  8.0"
      ]
     },
     "execution_count": 21,
     "metadata": {},
     "output_type": "execute_result"
    }
   ],
   "source": [
    "df_pt"
   ]
  },
  {
   "cell_type": "markdown",
   "metadata": {},
   "source": [
    "## pivot_table"
   ]
  },
  {
   "cell_type": "code",
   "execution_count": 24,
   "metadata": {},
   "outputs": [],
   "source": [
    "df_ptt = df1.pivot_table(index=\"a\", columns='b', values='c')"
   ]
  },
  {
   "cell_type": "code",
   "execution_count": 25,
   "metadata": {},
   "outputs": [
    {
     "data": {
      "text/html": [
       "<div>\n",
       "<style scoped>\n",
       "    .dataframe tbody tr th:only-of-type {\n",
       "        vertical-align: middle;\n",
       "    }\n",
       "\n",
       "    .dataframe tbody tr th {\n",
       "        vertical-align: top;\n",
       "    }\n",
       "\n",
       "    .dataframe thead th {\n",
       "        text-align: right;\n",
       "    }\n",
       "</style>\n",
       "<table border=\"1\" class=\"dataframe\">\n",
       "  <thead>\n",
       "    <tr style=\"text-align: right;\">\n",
       "      <th>b</th>\n",
       "      <th>1</th>\n",
       "      <th>4</th>\n",
       "      <th>7</th>\n",
       "    </tr>\n",
       "    <tr>\n",
       "      <th>a</th>\n",
       "      <th></th>\n",
       "      <th></th>\n",
       "      <th></th>\n",
       "    </tr>\n",
       "  </thead>\n",
       "  <tbody>\n",
       "    <tr>\n",
       "      <th>0</th>\n",
       "      <td>2.0</td>\n",
       "      <td>NaN</td>\n",
       "      <td>NaN</td>\n",
       "    </tr>\n",
       "    <tr>\n",
       "      <th>3</th>\n",
       "      <td>NaN</td>\n",
       "      <td>5.0</td>\n",
       "      <td>NaN</td>\n",
       "    </tr>\n",
       "    <tr>\n",
       "      <th>6</th>\n",
       "      <td>NaN</td>\n",
       "      <td>NaN</td>\n",
       "      <td>8.0</td>\n",
       "    </tr>\n",
       "  </tbody>\n",
       "</table>\n",
       "</div>"
      ],
      "text/plain": [
       "b    1    4    7\n",
       "a               \n",
       "0  2.0  NaN  NaN\n",
       "3  NaN  5.0  NaN\n",
       "6  NaN  NaN  8.0"
      ]
     },
     "execution_count": 25,
     "metadata": {},
     "output_type": "execute_result"
    }
   ],
   "source": [
    "df_ptt"
   ]
  },
  {
   "cell_type": "markdown",
   "metadata": {},
   "source": [
    "# 3. wide to long\n",
    "\n",
    "            - 칼럼을 행의 인덱스로 변경할 때 사용\n",
    "            - 열의 패턴을 구성할 때 이를 분리해서 처리 함 "
   ]
  },
  {
   "cell_type": "code",
   "execution_count": null,
   "metadata": {},
   "outputs": [],
   "source": []
  },
  {
   "cell_type": "code",
   "execution_count": 29,
   "metadata": {},
   "outputs": [],
   "source": [
    "df = pd.DataFrame({\"A1970\" : {0 : \"a\", 1 : \"b\", 2 : \"c\"},\n",
    "                          \"A1980\" : {0 : \"d\", 1 : \"e\", 2 : \"f\"},  \n",
    "                          \"B1970\" : {0 : 2.5, 1 : 1.2, 2 : .7},\n",
    "                          \"B1980\" : {0 : 3.2, 1 : 1.3, 2 : .1},\n",
    "                           \"X\"     : dict(zip(range(3), np.random.randn(3)))\n",
    "               })"
   ]
  },
  {
   "cell_type": "code",
   "execution_count": 30,
   "metadata": {},
   "outputs": [],
   "source": [
    "df[\"id\"] = df.index"
   ]
  },
  {
   "cell_type": "code",
   "execution_count": 31,
   "metadata": {},
   "outputs": [
    {
     "data": {
      "text/html": [
       "<div>\n",
       "<style scoped>\n",
       "    .dataframe tbody tr th:only-of-type {\n",
       "        vertical-align: middle;\n",
       "    }\n",
       "\n",
       "    .dataframe tbody tr th {\n",
       "        vertical-align: top;\n",
       "    }\n",
       "\n",
       "    .dataframe thead th {\n",
       "        text-align: right;\n",
       "    }\n",
       "</style>\n",
       "<table border=\"1\" class=\"dataframe\">\n",
       "  <thead>\n",
       "    <tr style=\"text-align: right;\">\n",
       "      <th></th>\n",
       "      <th>A1970</th>\n",
       "      <th>A1980</th>\n",
       "      <th>B1970</th>\n",
       "      <th>B1980</th>\n",
       "      <th>X</th>\n",
       "      <th>id</th>\n",
       "    </tr>\n",
       "  </thead>\n",
       "  <tbody>\n",
       "    <tr>\n",
       "      <th>0</th>\n",
       "      <td>a</td>\n",
       "      <td>d</td>\n",
       "      <td>2.5</td>\n",
       "      <td>3.2</td>\n",
       "      <td>-0.777348</td>\n",
       "      <td>0</td>\n",
       "    </tr>\n",
       "    <tr>\n",
       "      <th>1</th>\n",
       "      <td>b</td>\n",
       "      <td>e</td>\n",
       "      <td>1.2</td>\n",
       "      <td>1.3</td>\n",
       "      <td>-0.129006</td>\n",
       "      <td>1</td>\n",
       "    </tr>\n",
       "    <tr>\n",
       "      <th>2</th>\n",
       "      <td>c</td>\n",
       "      <td>f</td>\n",
       "      <td>0.7</td>\n",
       "      <td>0.1</td>\n",
       "      <td>-0.199700</td>\n",
       "      <td>2</td>\n",
       "    </tr>\n",
       "  </tbody>\n",
       "</table>\n",
       "</div>"
      ],
      "text/plain": [
       "  A1970 A1980  B1970  B1980         X  id\n",
       "0     a     d    2.5    3.2 -0.777348   0\n",
       "1     b     e    1.2    1.3 -0.129006   1\n",
       "2     c     f    0.7    0.1 -0.199700   2"
      ]
     },
     "execution_count": 31,
     "metadata": {},
     "output_type": "execute_result"
    }
   ],
   "source": [
    "df"
   ]
  },
  {
   "cell_type": "markdown",
   "metadata": {},
   "source": [
    "### 열의 이름이 분리될 경우  행의 인덱스를 조정하기 "
   ]
  },
  {
   "cell_type": "code",
   "execution_count": 33,
   "metadata": {},
   "outputs": [
    {
     "data": {
      "text/html": [
       "<div>\n",
       "<style scoped>\n",
       "    .dataframe tbody tr th:only-of-type {\n",
       "        vertical-align: middle;\n",
       "    }\n",
       "\n",
       "    .dataframe tbody tr th {\n",
       "        vertical-align: top;\n",
       "    }\n",
       "\n",
       "    .dataframe thead th {\n",
       "        text-align: right;\n",
       "    }\n",
       "</style>\n",
       "<table border=\"1\" class=\"dataframe\">\n",
       "  <thead>\n",
       "    <tr style=\"text-align: right;\">\n",
       "      <th></th>\n",
       "      <th></th>\n",
       "      <th>X</th>\n",
       "      <th>A</th>\n",
       "      <th>B</th>\n",
       "    </tr>\n",
       "    <tr>\n",
       "      <th>id</th>\n",
       "      <th>year</th>\n",
       "      <th></th>\n",
       "      <th></th>\n",
       "      <th></th>\n",
       "    </tr>\n",
       "  </thead>\n",
       "  <tbody>\n",
       "    <tr>\n",
       "      <th>0</th>\n",
       "      <th>1970</th>\n",
       "      <td>-0.777348</td>\n",
       "      <td>a</td>\n",
       "      <td>2.5</td>\n",
       "    </tr>\n",
       "    <tr>\n",
       "      <th>1</th>\n",
       "      <th>1970</th>\n",
       "      <td>-0.129006</td>\n",
       "      <td>b</td>\n",
       "      <td>1.2</td>\n",
       "    </tr>\n",
       "    <tr>\n",
       "      <th>2</th>\n",
       "      <th>1970</th>\n",
       "      <td>-0.199700</td>\n",
       "      <td>c</td>\n",
       "      <td>0.7</td>\n",
       "    </tr>\n",
       "    <tr>\n",
       "      <th>0</th>\n",
       "      <th>1980</th>\n",
       "      <td>-0.777348</td>\n",
       "      <td>d</td>\n",
       "      <td>3.2</td>\n",
       "    </tr>\n",
       "    <tr>\n",
       "      <th>1</th>\n",
       "      <th>1980</th>\n",
       "      <td>-0.129006</td>\n",
       "      <td>e</td>\n",
       "      <td>1.3</td>\n",
       "    </tr>\n",
       "    <tr>\n",
       "      <th>2</th>\n",
       "      <th>1980</th>\n",
       "      <td>-0.199700</td>\n",
       "      <td>f</td>\n",
       "      <td>0.1</td>\n",
       "    </tr>\n",
       "  </tbody>\n",
       "</table>\n",
       "</div>"
      ],
      "text/plain": [
       "                X  A    B\n",
       "id year                  \n",
       "0  1970 -0.777348  a  2.5\n",
       "1  1970 -0.129006  b  1.2\n",
       "2  1970 -0.199700  c  0.7\n",
       "0  1980 -0.777348  d  3.2\n",
       "1  1980 -0.129006  e  1.3\n",
       "2  1980 -0.199700  f  0.1"
      ]
     },
     "execution_count": 33,
     "metadata": {},
     "output_type": "execute_result"
    }
   ],
   "source": [
    "pd.wide_to_long(df,stubnames= [\"A\", \"B\"], i=\"id\", j=\"year\")"
   ]
  },
  {
   "cell_type": "code",
   "execution_count": 28,
   "metadata": {},
   "outputs": [
    {
     "name": "stdout",
     "output_type": "stream",
     "text": [
      "Help on function wide_to_long in module pandas.core.reshape.melt:\n",
      "\n",
      "wide_to_long(df, stubnames, i, j, sep='', suffix='\\\\d+')\n",
      "    Wide panel to long format. Less flexible but more user-friendly than melt.\n",
      "    \n",
      "    With stubnames ['A', 'B'], this function expects to find one or more\n",
      "    group of columns with format\n",
      "    A-suffix1, A-suffix2,..., B-suffix1, B-suffix2,...\n",
      "    You specify what you want to call this suffix in the resulting long format\n",
      "    with `j` (for example `j='year'`)\n",
      "    \n",
      "    Each row of these wide variables are assumed to be uniquely identified by\n",
      "    `i` (can be a single column name or a list of column names)\n",
      "    \n",
      "    All remaining variables in the data frame are left intact.\n",
      "    \n",
      "    Parameters\n",
      "    ----------\n",
      "    df : DataFrame\n",
      "        The wide-format DataFrame\n",
      "    stubnames : str or list-like\n",
      "        The stub name(s). The wide format variables are assumed to\n",
      "        start with the stub names.\n",
      "    i : str or list-like\n",
      "        Column(s) to use as id variable(s)\n",
      "    j : str\n",
      "        The name of the sub-observation variable. What you wish to name your\n",
      "        suffix in the long format.\n",
      "    sep : str, default \"\"\n",
      "        A character indicating the separation of the variable names\n",
      "        in the wide format, to be stripped from the names in the long format.\n",
      "        For example, if your column names are A-suffix1, A-suffix2, you\n",
      "        can strip the hyphen by specifying `sep='-'`\n",
      "    \n",
      "        .. versionadded:: 0.20.0\n",
      "    \n",
      "    suffix : str, default '\\\\d+'\n",
      "        A regular expression capturing the wanted suffixes. '\\\\d+' captures\n",
      "        numeric suffixes. Suffixes with no numbers could be specified with the\n",
      "        negated character class '\\\\D+'. You can also further disambiguate\n",
      "        suffixes, for example, if your wide variables are of the form\n",
      "        A-one, B-two,.., and you have an unrelated column A-rating, you can\n",
      "        ignore the last one by specifying `suffix='(!?one|two)'`\n",
      "    \n",
      "        .. versionadded:: 0.20.0\n",
      "    \n",
      "        .. versionchanged:: 0.23.0\n",
      "            When all suffixes are numeric, they are cast to int64/float64.\n",
      "    \n",
      "    Returns\n",
      "    -------\n",
      "    DataFrame\n",
      "        A DataFrame that contains each stub name as a variable, with new index\n",
      "        (i, j)\n",
      "    \n",
      "    Notes\n",
      "    -----\n",
      "    All extra variables are left untouched. This simply uses\n",
      "    `pandas.melt` under the hood, but is hard-coded to \"do the right thing\"\n",
      "    in a typical case.\n",
      "    \n",
      "    Examples\n",
      "    --------\n",
      "    >>> np.random.seed(123)\n",
      "    >>> df = pd.DataFrame({\"A1970\" : {0 : \"a\", 1 : \"b\", 2 : \"c\"},\n",
      "    ...                    \"A1980\" : {0 : \"d\", 1 : \"e\", 2 : \"f\"},\n",
      "    ...                    \"B1970\" : {0 : 2.5, 1 : 1.2, 2 : .7},\n",
      "    ...                    \"B1980\" : {0 : 3.2, 1 : 1.3, 2 : .1},\n",
      "    ...                    \"X\"     : dict(zip(range(3), np.random.randn(3)))\n",
      "    ...                   })\n",
      "    >>> df[\"id\"] = df.index\n",
      "    >>> df\n",
      "      A1970 A1980  B1970  B1980         X  id\n",
      "    0     a     d    2.5    3.2 -1.085631   0\n",
      "    1     b     e    1.2    1.3  0.997345   1\n",
      "    2     c     f    0.7    0.1  0.282978   2\n",
      "    >>> pd.wide_to_long(df, [\"A\", \"B\"], i=\"id\", j=\"year\")\n",
      "    ... # doctest: +NORMALIZE_WHITESPACE\n",
      "                    X  A    B\n",
      "    id year\n",
      "    0  1970 -1.085631  a  2.5\n",
      "    1  1970  0.997345  b  1.2\n",
      "    2  1970  0.282978  c  0.7\n",
      "    0  1980 -1.085631  d  3.2\n",
      "    1  1980  0.997345  e  1.3\n",
      "    2  1980  0.282978  f  0.1\n",
      "    \n",
      "    With multiple id columns\n",
      "    \n",
      "    >>> df = pd.DataFrame({\n",
      "    ...     'famid': [1, 1, 1, 2, 2, 2, 3, 3, 3],\n",
      "    ...     'birth': [1, 2, 3, 1, 2, 3, 1, 2, 3],\n",
      "    ...     'ht1': [2.8, 2.9, 2.2, 2, 1.8, 1.9, 2.2, 2.3, 2.1],\n",
      "    ...     'ht2': [3.4, 3.8, 2.9, 3.2, 2.8, 2.4, 3.3, 3.4, 2.9]\n",
      "    ... })\n",
      "    >>> df\n",
      "       birth  famid  ht1  ht2\n",
      "    0      1      1  2.8  3.4\n",
      "    1      2      1  2.9  3.8\n",
      "    2      3      1  2.2  2.9\n",
      "    3      1      2  2.0  3.2\n",
      "    4      2      2  1.8  2.8\n",
      "    5      3      2  1.9  2.4\n",
      "    6      1      3  2.2  3.3\n",
      "    7      2      3  2.3  3.4\n",
      "    8      3      3  2.1  2.9\n",
      "    >>> l = pd.wide_to_long(df, stubnames='ht', i=['famid', 'birth'], j='age')\n",
      "    >>> l\n",
      "    ... # doctest: +NORMALIZE_WHITESPACE\n",
      "                      ht\n",
      "    famid birth age\n",
      "    1     1     1    2.8\n",
      "                2    3.4\n",
      "          2     1    2.9\n",
      "                2    3.8\n",
      "          3     1    2.2\n",
      "                2    2.9\n",
      "    2     1     1    2.0\n",
      "                2    3.2\n",
      "          2     1    1.8\n",
      "                2    2.8\n",
      "          3     1    1.9\n",
      "                2    2.4\n",
      "    3     1     1    2.2\n",
      "                2    3.3\n",
      "          2     1    2.3\n",
      "                2    3.4\n",
      "          3     1    2.1\n",
      "                2    2.9\n",
      "    \n",
      "    Going from long back to wide just takes some creative use of `unstack`\n",
      "    \n",
      "    >>> w = l.unstack()\n",
      "    >>> w.columns = w.columns.map('{0[0]}{0[1]}'.format)\n",
      "    >>> w.reset_index()\n",
      "       famid  birth  ht1  ht2\n",
      "    0      1      1  2.8  3.4\n",
      "    1      1      2  2.9  3.8\n",
      "    2      1      3  2.2  2.9\n",
      "    3      2      1  2.0  3.2\n",
      "    4      2      2  1.8  2.8\n",
      "    5      2      3  1.9  2.4\n",
      "    6      3      1  2.2  3.3\n",
      "    7      3      2  2.3  3.4\n",
      "    8      3      3  2.1  2.9\n",
      "    \n",
      "    Less wieldy column names are also handled\n",
      "    \n",
      "    >>> np.random.seed(0)\n",
      "    >>> df = pd.DataFrame({'A(quarterly)-2010': np.random.rand(3),\n",
      "    ...                    'A(quarterly)-2011': np.random.rand(3),\n",
      "    ...                    'B(quarterly)-2010': np.random.rand(3),\n",
      "    ...                    'B(quarterly)-2011': np.random.rand(3),\n",
      "    ...                    'X' : np.random.randint(3, size=3)})\n",
      "    >>> df['id'] = df.index\n",
      "    >>> df # doctest: +NORMALIZE_WHITESPACE, +ELLIPSIS\n",
      "       A(quarterly)-2010  A(quarterly)-2011  B(quarterly)-2010  ...\n",
      "    0           0.548814           0.544883           0.437587  ...\n",
      "    1           0.715189           0.423655           0.891773  ...\n",
      "    2           0.602763           0.645894           0.963663  ...\n",
      "       X  id\n",
      "    0  0   0\n",
      "    1  1   1\n",
      "    2  1   2\n",
      "    \n",
      "    >>> pd.wide_to_long(df, ['A(quarterly)', 'B(quarterly)'], i='id',\n",
      "    ...                 j='year', sep='-')\n",
      "    ... # doctest: +NORMALIZE_WHITESPACE\n",
      "             X  A(quarterly)  B(quarterly)\n",
      "    id year\n",
      "    0  2010  0      0.548814     0.437587\n",
      "    1  2010  1      0.715189     0.891773\n",
      "    2  2010  1      0.602763     0.963663\n",
      "    0  2011  0      0.544883     0.383442\n",
      "    1  2011  1      0.423655     0.791725\n",
      "    2  2011  1      0.645894     0.528895\n",
      "    \n",
      "    If we have many columns, we could also use a regex to find our\n",
      "    stubnames and pass that list on to wide_to_long\n",
      "    \n",
      "    >>> stubnames = sorted(\n",
      "    ...     set([match[0] for match in df.columns.str.findall(\n",
      "    ...         r'[A-B]\\(.*\\)').values if match != [] ])\n",
      "    ... )\n",
      "    >>> list(stubnames)\n",
      "    ['A(quarterly)', 'B(quarterly)']\n",
      "    \n",
      "    All of the above examples have integers as suffixes. It is possible to\n",
      "    have non-integers as suffixes.\n",
      "    \n",
      "    >>> df = pd.DataFrame({\n",
      "    ...     'famid': [1, 1, 1, 2, 2, 2, 3, 3, 3],\n",
      "    ...     'birth': [1, 2, 3, 1, 2, 3, 1, 2, 3],\n",
      "    ...     'ht_one': [2.8, 2.9, 2.2, 2, 1.8, 1.9, 2.2, 2.3, 2.1],\n",
      "    ...     'ht_two': [3.4, 3.8, 2.9, 3.2, 2.8, 2.4, 3.3, 3.4, 2.9]\n",
      "    ... })\n",
      "    >>> df\n",
      "       birth  famid  ht_one  ht_two\n",
      "    0      1      1     2.8     3.4\n",
      "    1      2      1     2.9     3.8\n",
      "    2      3      1     2.2     2.9\n",
      "    3      1      2     2.0     3.2\n",
      "    4      2      2     1.8     2.8\n",
      "    5      3      2     1.9     2.4\n",
      "    6      1      3     2.2     3.3\n",
      "    7      2      3     2.3     3.4\n",
      "    8      3      3     2.1     2.9\n",
      "    \n",
      "    >>> l = pd.wide_to_long(df, stubnames='ht', i=['famid', 'birth'], j='age',\n",
      "                            sep='_', suffix='\\w')\n",
      "    >>> l\n",
      "    ... # doctest: +NORMALIZE_WHITESPACE\n",
      "                      ht\n",
      "    famid birth age\n",
      "    1     1     one  2.8\n",
      "                two  3.4\n",
      "          2     one  2.9\n",
      "                two  3.8\n",
      "          3     one  2.2\n",
      "                two  2.9\n",
      "    2     1     one  2.0\n",
      "                two  3.2\n",
      "          2     one  1.8\n",
      "                two  2.8\n",
      "          3     one  1.9\n",
      "                two  2.4\n",
      "    3     1     one  2.2\n",
      "                two  3.3\n",
      "          2     one  2.3\n",
      "                two  3.4\n",
      "          3     one  2.1\n",
      "                two  2.9\n",
      "\n"
     ]
    }
   ],
   "source": [
    "help(pd.wide_to_long)"
   ]
  },
  {
   "cell_type": "code",
   "execution_count": null,
   "metadata": {},
   "outputs": [],
   "source": []
  }
 ],
 "metadata": {
  "kernelspec": {
   "display_name": "Python 3",
   "language": "python",
   "name": "python3"
  },
  "language_info": {
   "codemirror_mode": {
    "name": "ipython",
    "version": 3
   },
   "file_extension": ".py",
   "mimetype": "text/x-python",
   "name": "python",
   "nbconvert_exporter": "python",
   "pygments_lexer": "ipython3",
   "version": "3.7.3"
  }
 },
 "nbformat": 4,
 "nbformat_minor": 2
}
