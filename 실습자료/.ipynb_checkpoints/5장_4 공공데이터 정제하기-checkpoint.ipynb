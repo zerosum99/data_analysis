{
 "cells": [
  {
   "cell_type": "code",
   "execution_count": 1,
   "metadata": {},
   "outputs": [],
   "source": [
    "import sys"
   ]
  },
  {
   "cell_type": "code",
   "execution_count": 2,
   "metadata": {},
   "outputs": [
    {
     "data": {
      "text/plain": [
       "sys.version_info(major=3, minor=7, micro=3, releaselevel='final', serial=0)"
      ]
     },
     "execution_count": 2,
     "metadata": {},
     "output_type": "execute_result"
    }
   ],
   "source": [
    "sys.version_info"
   ]
  },
  {
   "cell_type": "code",
   "execution_count": 3,
   "metadata": {},
   "outputs": [
    {
     "name": "stdout",
     "output_type": "stream",
     "text": [
      " Windows \n"
     ]
    }
   ],
   "source": [
    "if sys.platform == 'darwin' :\n",
    "    print(\" Mac OS \")\n",
    "else :\n",
    "    print(' Windows ')"
   ]
  },
  {
   "cell_type": "markdown",
   "metadata": {},
   "source": [
    "## 공공테이터로 정제하기 "
   ]
  },
  {
   "cell_type": "code",
   "execution_count": null,
   "metadata": {},
   "outputs": [],
   "source": []
  },
  {
   "cell_type": "code",
   "execution_count": 5,
   "metadata": {},
   "outputs": [],
   "source": [
    "import pandas as pd\n",
    "import numpy as np\n",
    "import matplotlib.pyplot as plt\n",
    "%matplotlib inline\n",
    "from IPython.display import display # learer display of pandas tables upon printing\n",
    "from warnings import filterwarnings\n",
    "import seaborn as sns"
   ]
  },
  {
   "cell_type": "code",
   "execution_count": 6,
   "metadata": {},
   "outputs": [],
   "source": [
    "from matplotlib import font_manager, rc\n",
    "import sys\n",
    "\n",
    "if sys.platform == 'darwin' :\n",
    "    rc('font', family='AppleGothic')\n",
    "\n",
    "    plt.rcParams['axes.unicode_minus'] = False\n",
    "else :\n",
    "    \n",
    "    font_name = font_manager.FontProperties(fname=\"c:/Windows/Fonts/malgun.ttf\").get_name()\n",
    "    rc('font', family=font_name)"
   ]
  },
  {
   "cell_type": "markdown",
   "metadata": {},
   "source": [
    "## 정보 읽어오기"
   ]
  },
  {
   "cell_type": "code",
   "execution_count": 10,
   "metadata": {},
   "outputs": [],
   "source": [
    "df = pd.read_csv(r\"./data/NHIS_OPEN_GJ_2014.m1.csv\")"
   ]
  },
  {
   "cell_type": "code",
   "execution_count": 11,
   "metadata": {},
   "outputs": [
    {
     "data": {
      "text/plain": [
       "Index(['가입자일련번호', '기준년도', '성별코드', '연령대코드(5세단위)', '시도코드', '신장(5Cm단위)',\n",
       "       '체중(5Kg 단위)', '허리둘레', '시력(좌)', '시력(우)', '청력(좌)', '청력(우)', '수축기혈압',\n",
       "       '이완기혈압', '식전혈당(공복혈당)', '총콜레스테롤', '트리글리세라이드', 'HDL콜레스테롤', 'LDL콜레스테롤',\n",
       "       '혈색소', '요단백', '혈청크레아티닌', '(혈청지오티)AST', '(혈청지오티)ALT', '감마지티피', '흡연상태',\n",
       "       '음주여부', '구강검진 수검여부', '치아우식증유무', '치석유무', '데이터 기준일자'],\n",
       "      dtype='object')"
      ]
     },
     "execution_count": 11,
     "metadata": {},
     "output_type": "execute_result"
    }
   ],
   "source": [
    "df.columns"
   ]
  },
  {
   "cell_type": "code",
   "execution_count": 12,
   "metadata": {},
   "outputs": [
    {
     "name": "stdout",
     "output_type": "stream",
     "text": [
      "<class 'pandas.core.frame.DataFrame'>\n",
      "RangeIndex: 232549 entries, 0 to 232548\n",
      "Data columns (total 31 columns):\n",
      "가입자일련번호        232549 non-null int64\n",
      "기준년도           232549 non-null int64\n",
      "성별코드           232549 non-null int64\n",
      "연령대코드(5세단위)    232549 non-null int64\n",
      "시도코드           232549 non-null int64\n",
      "신장(5Cm단위)      232549 non-null int64\n",
      "체중(5Kg 단위)     232549 non-null int64\n",
      "허리둘레           232549 non-null int64\n",
      "시력(좌)          232502 non-null float64\n",
      "시력(우)          232502 non-null float64\n",
      "청력(좌)          232509 non-null float64\n",
      "청력(우)          232512 non-null float64\n",
      "수축기혈압          232549 non-null int64\n",
      "이완기혈압          232549 non-null int64\n",
      "식전혈당(공복혈당)     232549 non-null int64\n",
      "총콜레스테롤         232549 non-null int64\n",
      "트리글리세라이드       232549 non-null int64\n",
      "HDL콜레스테롤       232549 non-null int64\n",
      "LDL콜레스테롤       231631 non-null float64\n",
      "혈색소            232549 non-null float64\n",
      "요단백            231659 non-null float64\n",
      "혈청크레아티닌        232549 non-null float64\n",
      "(혈청지오티)AST     232549 non-null int64\n",
      "(혈청지오티)ALT     232549 non-null int64\n",
      "감마지티피          232549 non-null int64\n",
      "흡연상태           232327 non-null float64\n",
      "음주여부           232183 non-null float64\n",
      "구강검진 수검여부      232549 non-null int64\n",
      "치아우식증유무        28460 non-null float64\n",
      "치석유무           91057 non-null float64\n",
      "데이터 기준일자       232549 non-null int64\n",
      "dtypes: float64(12), int64(19)\n",
      "memory usage: 55.0 MB\n"
     ]
    }
   ],
   "source": [
    "df.info()"
   ]
  },
  {
   "cell_type": "markdown",
   "metadata": {},
   "source": [
    "## 숫자 타입의 바이트 수 조정하기"
   ]
  },
  {
   "cell_type": "code",
   "execution_count": 13,
   "metadata": {},
   "outputs": [
    {
     "name": "stdout",
     "output_type": "stream",
     "text": [
      "가입자일련번호\n",
      "int64\n",
      "기준년도\n",
      "int64\n",
      "성별코드\n",
      "int64\n",
      "연령대코드(5세단위)\n",
      "int64\n",
      "시도코드\n",
      "int64\n",
      "신장(5Cm단위)\n",
      "int64\n",
      "체중(5Kg 단위)\n",
      "int64\n",
      "허리둘레\n",
      "int64\n",
      "시력(좌)\n",
      "float64\n",
      "시력(우)\n",
      "float64\n",
      "청력(좌)\n",
      "float64\n",
      "청력(우)\n",
      "float64\n",
      "수축기혈압\n",
      "int64\n",
      "이완기혈압\n",
      "int64\n",
      "식전혈당(공복혈당)\n",
      "int64\n",
      "총콜레스테롤\n",
      "int64\n",
      "트리글리세라이드\n",
      "int64\n",
      "HDL콜레스테롤\n",
      "int64\n",
      "LDL콜레스테롤\n",
      "float64\n",
      "혈색소\n",
      "float64\n",
      "요단백\n",
      "float64\n",
      "혈청크레아티닌\n",
      "float64\n",
      "(혈청지오티)AST\n",
      "int64\n",
      "(혈청지오티)ALT\n",
      "int64\n",
      "감마지티피\n",
      "int64\n",
      "흡연상태\n",
      "float64\n",
      "음주여부\n",
      "float64\n",
      "구강검진 수검여부\n",
      "int64\n",
      "치아우식증유무\n",
      "float64\n",
      "치석유무\n",
      "float64\n",
      "데이터 기준일자\n",
      "int64\n"
     ]
    }
   ],
   "source": [
    "for i in  df.columns :\n",
    "    print(i)\n",
    "    print(df[i].dtype)\n",
    "    if df[i].dtype == np.int64 :\n",
    "        df[i] = df[i].astype(np.int16)\n",
    "    if df[i].dtype == np.float64 :\n",
    "        df[i] = df[i].astype(np.float32)"
   ]
  },
  {
   "cell_type": "markdown",
   "metadata": {},
   "source": [
    "### 데이터 사용 메모리 절감"
   ]
  },
  {
   "cell_type": "code",
   "execution_count": 14,
   "metadata": {},
   "outputs": [
    {
     "name": "stdout",
     "output_type": "stream",
     "text": [
      "<class 'pandas.core.frame.DataFrame'>\n",
      "RangeIndex: 232549 entries, 0 to 232548\n",
      "Data columns (total 31 columns):\n",
      "가입자일련번호        232549 non-null int16\n",
      "기준년도           232549 non-null int16\n",
      "성별코드           232549 non-null int16\n",
      "연령대코드(5세단위)    232549 non-null int16\n",
      "시도코드           232549 non-null int16\n",
      "신장(5Cm단위)      232549 non-null int16\n",
      "체중(5Kg 단위)     232549 non-null int16\n",
      "허리둘레           232549 non-null int16\n",
      "시력(좌)          232502 non-null float32\n",
      "시력(우)          232502 non-null float32\n",
      "청력(좌)          232509 non-null float32\n",
      "청력(우)          232512 non-null float32\n",
      "수축기혈압          232549 non-null int16\n",
      "이완기혈압          232549 non-null int16\n",
      "식전혈당(공복혈당)     232549 non-null int16\n",
      "총콜레스테롤         232549 non-null int16\n",
      "트리글리세라이드       232549 non-null int16\n",
      "HDL콜레스테롤       232549 non-null int16\n",
      "LDL콜레스테롤       231631 non-null float32\n",
      "혈색소            232549 non-null float32\n",
      "요단백            231659 non-null float32\n",
      "혈청크레아티닌        232549 non-null float32\n",
      "(혈청지오티)AST     232549 non-null int16\n",
      "(혈청지오티)ALT     232549 non-null int16\n",
      "감마지티피          232549 non-null int16\n",
      "흡연상태           232327 non-null float32\n",
      "음주여부           232183 non-null float32\n",
      "구강검진 수검여부      232549 non-null int16\n",
      "치아우식증유무        28460 non-null float32\n",
      "치석유무           91057 non-null float32\n",
      "데이터 기준일자       232549 non-null int16\n",
      "dtypes: float32(12), int16(19)\n",
      "memory usage: 19.1 MB\n"
     ]
    }
   ],
   "source": [
    "df.info()"
   ]
  },
  {
   "cell_type": "code",
   "execution_count": 7,
   "metadata": {},
   "outputs": [
    {
     "data": {
      "text/plain": [
       "(232549, 31)"
      ]
     },
     "execution_count": 7,
     "metadata": {},
     "output_type": "execute_result"
    }
   ],
   "source": [
    "df.shape"
   ]
  },
  {
   "cell_type": "markdown",
   "metadata": {},
   "source": [
    "## 결측값 제거 "
   ]
  },
  {
   "cell_type": "code",
   "execution_count": 15,
   "metadata": {},
   "outputs": [
    {
     "data": {
      "text/html": [
       "<div>\n",
       "<style scoped>\n",
       "    .dataframe tbody tr th:only-of-type {\n",
       "        vertical-align: middle;\n",
       "    }\n",
       "\n",
       "    .dataframe tbody tr th {\n",
       "        vertical-align: top;\n",
       "    }\n",
       "\n",
       "    .dataframe thead th {\n",
       "        text-align: right;\n",
       "    }\n",
       "</style>\n",
       "<table border=\"1\" class=\"dataframe\">\n",
       "  <thead>\n",
       "    <tr style=\"text-align: right;\">\n",
       "      <th></th>\n",
       "      <th>가입자일련번호</th>\n",
       "      <th>기준년도</th>\n",
       "      <th>성별코드</th>\n",
       "      <th>연령대코드(5세단위)</th>\n",
       "      <th>시도코드</th>\n",
       "      <th>신장(5Cm단위)</th>\n",
       "      <th>체중(5Kg 단위)</th>\n",
       "      <th>허리둘레</th>\n",
       "      <th>시력(좌)</th>\n",
       "      <th>시력(우)</th>\n",
       "      <th>...</th>\n",
       "      <th>혈청크레아티닌</th>\n",
       "      <th>(혈청지오티)AST</th>\n",
       "      <th>(혈청지오티)ALT</th>\n",
       "      <th>감마지티피</th>\n",
       "      <th>흡연상태</th>\n",
       "      <th>음주여부</th>\n",
       "      <th>구강검진 수검여부</th>\n",
       "      <th>치아우식증유무</th>\n",
       "      <th>치석유무</th>\n",
       "      <th>데이터 기준일자</th>\n",
       "    </tr>\n",
       "  </thead>\n",
       "  <tbody>\n",
       "    <tr>\n",
       "      <th>0</th>\n",
       "      <td>2</td>\n",
       "      <td>2014</td>\n",
       "      <td>2</td>\n",
       "      <td>18</td>\n",
       "      <td>41</td>\n",
       "      <td>150</td>\n",
       "      <td>65</td>\n",
       "      <td>79</td>\n",
       "      <td>0.1</td>\n",
       "      <td>0.1</td>\n",
       "      <td>...</td>\n",
       "      <td>0.8</td>\n",
       "      <td>11</td>\n",
       "      <td>4</td>\n",
       "      <td>15</td>\n",
       "      <td>1.0</td>\n",
       "      <td>1.0</td>\n",
       "      <td>0</td>\n",
       "      <td>NaN</td>\n",
       "      <td>NaN</td>\n",
       "      <td>-23868</td>\n",
       "    </tr>\n",
       "    <tr>\n",
       "      <th>1</th>\n",
       "      <td>3</td>\n",
       "      <td>2014</td>\n",
       "      <td>1</td>\n",
       "      <td>12</td>\n",
       "      <td>41</td>\n",
       "      <td>170</td>\n",
       "      <td>70</td>\n",
       "      <td>95</td>\n",
       "      <td>0.8</td>\n",
       "      <td>1.0</td>\n",
       "      <td>...</td>\n",
       "      <td>0.6</td>\n",
       "      <td>138</td>\n",
       "      <td>73</td>\n",
       "      <td>112</td>\n",
       "      <td>3.0</td>\n",
       "      <td>1.0</td>\n",
       "      <td>1</td>\n",
       "      <td>0.0</td>\n",
       "      <td>1.0</td>\n",
       "      <td>-23868</td>\n",
       "    </tr>\n",
       "    <tr>\n",
       "      <th>2</th>\n",
       "      <td>4</td>\n",
       "      <td>2014</td>\n",
       "      <td>2</td>\n",
       "      <td>11</td>\n",
       "      <td>41</td>\n",
       "      <td>165</td>\n",
       "      <td>80</td>\n",
       "      <td>104</td>\n",
       "      <td>0.8</td>\n",
       "      <td>0.2</td>\n",
       "      <td>...</td>\n",
       "      <td>0.9</td>\n",
       "      <td>19</td>\n",
       "      <td>14</td>\n",
       "      <td>21</td>\n",
       "      <td>1.0</td>\n",
       "      <td>0.0</td>\n",
       "      <td>1</td>\n",
       "      <td>0.0</td>\n",
       "      <td>1.0</td>\n",
       "      <td>-23868</td>\n",
       "    </tr>\n",
       "    <tr>\n",
       "      <th>3</th>\n",
       "      <td>8</td>\n",
       "      <td>2014</td>\n",
       "      <td>2</td>\n",
       "      <td>11</td>\n",
       "      <td>41</td>\n",
       "      <td>145</td>\n",
       "      <td>55</td>\n",
       "      <td>93</td>\n",
       "      <td>0.9</td>\n",
       "      <td>0.9</td>\n",
       "      <td>...</td>\n",
       "      <td>1.2</td>\n",
       "      <td>34</td>\n",
       "      <td>16</td>\n",
       "      <td>175</td>\n",
       "      <td>1.0</td>\n",
       "      <td>1.0</td>\n",
       "      <td>0</td>\n",
       "      <td>NaN</td>\n",
       "      <td>NaN</td>\n",
       "      <td>-23868</td>\n",
       "    </tr>\n",
       "    <tr>\n",
       "      <th>4</th>\n",
       "      <td>9</td>\n",
       "      <td>2014</td>\n",
       "      <td>2</td>\n",
       "      <td>18</td>\n",
       "      <td>41</td>\n",
       "      <td>140</td>\n",
       "      <td>35</td>\n",
       "      <td>78</td>\n",
       "      <td>0.2</td>\n",
       "      <td>0.1</td>\n",
       "      <td>...</td>\n",
       "      <td>0.5</td>\n",
       "      <td>30</td>\n",
       "      <td>10</td>\n",
       "      <td>10</td>\n",
       "      <td>1.0</td>\n",
       "      <td>1.0</td>\n",
       "      <td>0</td>\n",
       "      <td>NaN</td>\n",
       "      <td>NaN</td>\n",
       "      <td>-23868</td>\n",
       "    </tr>\n",
       "  </tbody>\n",
       "</table>\n",
       "<p>5 rows × 31 columns</p>\n",
       "</div>"
      ],
      "text/plain": [
       "   가입자일련번호  기준년도  성별코드  연령대코드(5세단위)  시도코드  신장(5Cm단위)  체중(5Kg 단위)  허리둘레  시력(좌)  \\\n",
       "0        2  2014     2           18    41        150          65    79    0.1   \n",
       "1        3  2014     1           12    41        170          70    95    0.8   \n",
       "2        4  2014     2           11    41        165          80   104    0.8   \n",
       "3        8  2014     2           11    41        145          55    93    0.9   \n",
       "4        9  2014     2           18    41        140          35    78    0.2   \n",
       "\n",
       "   시력(우)  ...  혈청크레아티닌  (혈청지오티)AST  (혈청지오티)ALT  감마지티피  흡연상태  음주여부  구강검진 수검여부  \\\n",
       "0    0.1  ...      0.8          11           4     15   1.0   1.0          0   \n",
       "1    1.0  ...      0.6         138          73    112   3.0   1.0          1   \n",
       "2    0.2  ...      0.9          19          14     21   1.0   0.0          1   \n",
       "3    0.9  ...      1.2          34          16    175   1.0   1.0          0   \n",
       "4    0.1  ...      0.5          30          10     10   1.0   1.0          0   \n",
       "\n",
       "   치아우식증유무  치석유무  데이터 기준일자  \n",
       "0      NaN   NaN    -23868  \n",
       "1      0.0   1.0    -23868  \n",
       "2      0.0   1.0    -23868  \n",
       "3      NaN   NaN    -23868  \n",
       "4      NaN   NaN    -23868  \n",
       "\n",
       "[5 rows x 31 columns]"
      ]
     },
     "execution_count": 15,
     "metadata": {},
     "output_type": "execute_result"
    }
   ],
   "source": [
    "df.head()"
   ]
  },
  {
   "cell_type": "markdown",
   "metadata": {},
   "source": [
    "### 결측값 확인"
   ]
  },
  {
   "cell_type": "code",
   "execution_count": 21,
   "metadata": {},
   "outputs": [],
   "source": [
    "d1 = df.isna()"
   ]
  },
  {
   "cell_type": "code",
   "execution_count": 22,
   "metadata": {},
   "outputs": [
    {
     "data": {
      "text/plain": [
       "0"
      ]
     },
     "execution_count": 22,
     "metadata": {},
     "output_type": "execute_result"
    }
   ],
   "source": [
    "d1.sum().sum()"
   ]
  },
  {
   "cell_type": "code",
   "execution_count": 23,
   "metadata": {},
   "outputs": [],
   "source": [
    "df = df.fillna(0)"
   ]
  },
  {
   "cell_type": "code",
   "execution_count": 24,
   "metadata": {},
   "outputs": [],
   "source": [
    "d = df.isna()"
   ]
  },
  {
   "cell_type": "code",
   "execution_count": 25,
   "metadata": {},
   "outputs": [
    {
     "data": {
      "text/plain": [
       "0"
      ]
     },
     "execution_count": 25,
     "metadata": {},
     "output_type": "execute_result"
    }
   ],
   "source": [
    "d.sum().sum()"
   ]
  },
  {
   "cell_type": "code",
   "execution_count": 26,
   "metadata": {},
   "outputs": [
    {
     "data": {
      "text/html": [
       "<div>\n",
       "<style scoped>\n",
       "    .dataframe tbody tr th:only-of-type {\n",
       "        vertical-align: middle;\n",
       "    }\n",
       "\n",
       "    .dataframe tbody tr th {\n",
       "        vertical-align: top;\n",
       "    }\n",
       "\n",
       "    .dataframe thead th {\n",
       "        text-align: right;\n",
       "    }\n",
       "</style>\n",
       "<table border=\"1\" class=\"dataframe\">\n",
       "  <thead>\n",
       "    <tr style=\"text-align: right;\">\n",
       "      <th></th>\n",
       "      <th>가입자일련번호</th>\n",
       "      <th>기준년도</th>\n",
       "      <th>성별코드</th>\n",
       "      <th>연령대코드(5세단위)</th>\n",
       "      <th>시도코드</th>\n",
       "      <th>신장(5Cm단위)</th>\n",
       "      <th>체중(5Kg 단위)</th>\n",
       "      <th>허리둘레</th>\n",
       "      <th>시력(좌)</th>\n",
       "      <th>시력(우)</th>\n",
       "      <th>...</th>\n",
       "      <th>혈청크레아티닌</th>\n",
       "      <th>(혈청지오티)AST</th>\n",
       "      <th>(혈청지오티)ALT</th>\n",
       "      <th>감마지티피</th>\n",
       "      <th>흡연상태</th>\n",
       "      <th>음주여부</th>\n",
       "      <th>구강검진 수검여부</th>\n",
       "      <th>치아우식증유무</th>\n",
       "      <th>치석유무</th>\n",
       "      <th>데이터 기준일자</th>\n",
       "    </tr>\n",
       "  </thead>\n",
       "  <tbody>\n",
       "    <tr>\n",
       "      <th>0</th>\n",
       "      <td>2</td>\n",
       "      <td>2014</td>\n",
       "      <td>2</td>\n",
       "      <td>18</td>\n",
       "      <td>41</td>\n",
       "      <td>150</td>\n",
       "      <td>65</td>\n",
       "      <td>79</td>\n",
       "      <td>0.1</td>\n",
       "      <td>0.1</td>\n",
       "      <td>...</td>\n",
       "      <td>0.8</td>\n",
       "      <td>11</td>\n",
       "      <td>4</td>\n",
       "      <td>15</td>\n",
       "      <td>1.0</td>\n",
       "      <td>1.0</td>\n",
       "      <td>0</td>\n",
       "      <td>0.0</td>\n",
       "      <td>0.0</td>\n",
       "      <td>-23868</td>\n",
       "    </tr>\n",
       "    <tr>\n",
       "      <th>1</th>\n",
       "      <td>3</td>\n",
       "      <td>2014</td>\n",
       "      <td>1</td>\n",
       "      <td>12</td>\n",
       "      <td>41</td>\n",
       "      <td>170</td>\n",
       "      <td>70</td>\n",
       "      <td>95</td>\n",
       "      <td>0.8</td>\n",
       "      <td>1.0</td>\n",
       "      <td>...</td>\n",
       "      <td>0.6</td>\n",
       "      <td>138</td>\n",
       "      <td>73</td>\n",
       "      <td>112</td>\n",
       "      <td>3.0</td>\n",
       "      <td>1.0</td>\n",
       "      <td>1</td>\n",
       "      <td>0.0</td>\n",
       "      <td>1.0</td>\n",
       "      <td>-23868</td>\n",
       "    </tr>\n",
       "    <tr>\n",
       "      <th>2</th>\n",
       "      <td>4</td>\n",
       "      <td>2014</td>\n",
       "      <td>2</td>\n",
       "      <td>11</td>\n",
       "      <td>41</td>\n",
       "      <td>165</td>\n",
       "      <td>80</td>\n",
       "      <td>104</td>\n",
       "      <td>0.8</td>\n",
       "      <td>0.2</td>\n",
       "      <td>...</td>\n",
       "      <td>0.9</td>\n",
       "      <td>19</td>\n",
       "      <td>14</td>\n",
       "      <td>21</td>\n",
       "      <td>1.0</td>\n",
       "      <td>0.0</td>\n",
       "      <td>1</td>\n",
       "      <td>0.0</td>\n",
       "      <td>1.0</td>\n",
       "      <td>-23868</td>\n",
       "    </tr>\n",
       "    <tr>\n",
       "      <th>3</th>\n",
       "      <td>8</td>\n",
       "      <td>2014</td>\n",
       "      <td>2</td>\n",
       "      <td>11</td>\n",
       "      <td>41</td>\n",
       "      <td>145</td>\n",
       "      <td>55</td>\n",
       "      <td>93</td>\n",
       "      <td>0.9</td>\n",
       "      <td>0.9</td>\n",
       "      <td>...</td>\n",
       "      <td>1.2</td>\n",
       "      <td>34</td>\n",
       "      <td>16</td>\n",
       "      <td>175</td>\n",
       "      <td>1.0</td>\n",
       "      <td>1.0</td>\n",
       "      <td>0</td>\n",
       "      <td>0.0</td>\n",
       "      <td>0.0</td>\n",
       "      <td>-23868</td>\n",
       "    </tr>\n",
       "    <tr>\n",
       "      <th>4</th>\n",
       "      <td>9</td>\n",
       "      <td>2014</td>\n",
       "      <td>2</td>\n",
       "      <td>18</td>\n",
       "      <td>41</td>\n",
       "      <td>140</td>\n",
       "      <td>35</td>\n",
       "      <td>78</td>\n",
       "      <td>0.2</td>\n",
       "      <td>0.1</td>\n",
       "      <td>...</td>\n",
       "      <td>0.5</td>\n",
       "      <td>30</td>\n",
       "      <td>10</td>\n",
       "      <td>10</td>\n",
       "      <td>1.0</td>\n",
       "      <td>1.0</td>\n",
       "      <td>0</td>\n",
       "      <td>0.0</td>\n",
       "      <td>0.0</td>\n",
       "      <td>-23868</td>\n",
       "    </tr>\n",
       "  </tbody>\n",
       "</table>\n",
       "<p>5 rows × 31 columns</p>\n",
       "</div>"
      ],
      "text/plain": [
       "   가입자일련번호  기준년도  성별코드  연령대코드(5세단위)  시도코드  신장(5Cm단위)  체중(5Kg 단위)  허리둘레  시력(좌)  \\\n",
       "0        2  2014     2           18    41        150          65    79    0.1   \n",
       "1        3  2014     1           12    41        170          70    95    0.8   \n",
       "2        4  2014     2           11    41        165          80   104    0.8   \n",
       "3        8  2014     2           11    41        145          55    93    0.9   \n",
       "4        9  2014     2           18    41        140          35    78    0.2   \n",
       "\n",
       "   시력(우)  ...  혈청크레아티닌  (혈청지오티)AST  (혈청지오티)ALT  감마지티피  흡연상태  음주여부  구강검진 수검여부  \\\n",
       "0    0.1  ...      0.8          11           4     15   1.0   1.0          0   \n",
       "1    1.0  ...      0.6         138          73    112   3.0   1.0          1   \n",
       "2    0.2  ...      0.9          19          14     21   1.0   0.0          1   \n",
       "3    0.9  ...      1.2          34          16    175   1.0   1.0          0   \n",
       "4    0.1  ...      0.5          30          10     10   1.0   1.0          0   \n",
       "\n",
       "   치아우식증유무  치석유무  데이터 기준일자  \n",
       "0      0.0   0.0    -23868  \n",
       "1      0.0   1.0    -23868  \n",
       "2      0.0   1.0    -23868  \n",
       "3      0.0   0.0    -23868  \n",
       "4      0.0   0.0    -23868  \n",
       "\n",
       "[5 rows x 31 columns]"
      ]
     },
     "execution_count": 26,
     "metadata": {},
     "output_type": "execute_result"
    }
   ],
   "source": [
    "df.head()"
   ]
  },
  {
   "cell_type": "markdown",
   "metadata": {},
   "source": [
    "## 특정 열로 새로운 구조 만들기 "
   ]
  },
  {
   "cell_type": "code",
   "execution_count": 27,
   "metadata": {},
   "outputs": [],
   "source": [
    "import numpy as np"
   ]
  },
  {
   "cell_type": "code",
   "execution_count": 28,
   "metadata": {},
   "outputs": [],
   "source": [
    "d_ = df [['성별코드','신장(5Cm단위)']]"
   ]
  },
  {
   "cell_type": "code",
   "execution_count": 29,
   "metadata": {},
   "outputs": [
    {
     "data": {
      "text/plain": [
       "(232549, 2)"
      ]
     },
     "execution_count": 29,
     "metadata": {},
     "output_type": "execute_result"
    }
   ],
   "source": [
    "d_.shape"
   ]
  },
  {
   "cell_type": "markdown",
   "metadata": {},
   "source": [
    "### 계산할 열 추가 "
   ]
  },
  {
   "cell_type": "code",
   "execution_count": 32,
   "metadata": {},
   "outputs": [],
   "source": [
    "d_.loc[:,\"count\"] = 1"
   ]
  },
  {
   "cell_type": "code",
   "execution_count": 33,
   "metadata": {},
   "outputs": [
    {
     "data": {
      "text/plain": [
       "RangeIndex(start=0, stop=232549, step=1)"
      ]
     },
     "execution_count": 33,
     "metadata": {},
     "output_type": "execute_result"
    }
   ],
   "source": [
    "d_.index"
   ]
  },
  {
   "cell_type": "code",
   "execution_count": 34,
   "metadata": {},
   "outputs": [],
   "source": [
    "d_c = pd.pivot_table(d_,  index=['신장(5Cm단위)'],columns=['성별코드'], values=\"count\"\n",
    "                    , aggfunc= np.sum)"
   ]
  },
  {
   "cell_type": "code",
   "execution_count": 36,
   "metadata": {},
   "outputs": [
    {
     "data": {
      "text/html": [
       "<div>\n",
       "<style scoped>\n",
       "    .dataframe tbody tr th:only-of-type {\n",
       "        vertical-align: middle;\n",
       "    }\n",
       "\n",
       "    .dataframe tbody tr th {\n",
       "        vertical-align: top;\n",
       "    }\n",
       "\n",
       "    .dataframe thead th {\n",
       "        text-align: right;\n",
       "    }\n",
       "</style>\n",
       "<table border=\"1\" class=\"dataframe\">\n",
       "  <thead>\n",
       "    <tr style=\"text-align: right;\">\n",
       "      <th>성별코드</th>\n",
       "      <th>1</th>\n",
       "      <th>2</th>\n",
       "    </tr>\n",
       "    <tr>\n",
       "      <th>신장(5Cm단위)</th>\n",
       "      <th></th>\n",
       "      <th></th>\n",
       "    </tr>\n",
       "  </thead>\n",
       "  <tbody>\n",
       "    <tr>\n",
       "      <th>130</th>\n",
       "      <td>NaN</td>\n",
       "      <td>3.0</td>\n",
       "    </tr>\n",
       "    <tr>\n",
       "      <th>135</th>\n",
       "      <td>NaN</td>\n",
       "      <td>61.0</td>\n",
       "    </tr>\n",
       "    <tr>\n",
       "      <th>140</th>\n",
       "      <td>4.0</td>\n",
       "      <td>433.0</td>\n",
       "    </tr>\n",
       "    <tr>\n",
       "      <th>145</th>\n",
       "      <td>6.0</td>\n",
       "      <td>2431.0</td>\n",
       "    </tr>\n",
       "    <tr>\n",
       "      <th>150</th>\n",
       "      <td>145.0</td>\n",
       "      <td>10544.0</td>\n",
       "    </tr>\n",
       "    <tr>\n",
       "      <th>155</th>\n",
       "      <td>1114.0</td>\n",
       "      <td>25595.0</td>\n",
       "    </tr>\n",
       "    <tr>\n",
       "      <th>160</th>\n",
       "      <td>6286.0</td>\n",
       "      <td>33263.0</td>\n",
       "    </tr>\n",
       "    <tr>\n",
       "      <th>165</th>\n",
       "      <td>19600.0</td>\n",
       "      <td>21844.0</td>\n",
       "    </tr>\n",
       "    <tr>\n",
       "      <th>170</th>\n",
       "      <td>35416.0</td>\n",
       "      <td>7645.0</td>\n",
       "    </tr>\n",
       "    <tr>\n",
       "      <th>175</th>\n",
       "      <td>36888.0</td>\n",
       "      <td>1301.0</td>\n",
       "    </tr>\n",
       "    <tr>\n",
       "      <th>180</th>\n",
       "      <td>21646.0</td>\n",
       "      <td>94.0</td>\n",
       "    </tr>\n",
       "    <tr>\n",
       "      <th>185</th>\n",
       "      <td>6876.0</td>\n",
       "      <td>NaN</td>\n",
       "    </tr>\n",
       "    <tr>\n",
       "      <th>190</th>\n",
       "      <td>1239.0</td>\n",
       "      <td>NaN</td>\n",
       "    </tr>\n",
       "    <tr>\n",
       "      <th>195</th>\n",
       "      <td>115.0</td>\n",
       "      <td>NaN</td>\n",
       "    </tr>\n",
       "  </tbody>\n",
       "</table>\n",
       "</div>"
      ],
      "text/plain": [
       "성별코드             1        2\n",
       "신장(5Cm단위)                  \n",
       "130            NaN      3.0\n",
       "135            NaN     61.0\n",
       "140            4.0    433.0\n",
       "145            6.0   2431.0\n",
       "150          145.0  10544.0\n",
       "155         1114.0  25595.0\n",
       "160         6286.0  33263.0\n",
       "165        19600.0  21844.0\n",
       "170        35416.0   7645.0\n",
       "175        36888.0   1301.0\n",
       "180        21646.0     94.0\n",
       "185         6876.0      NaN\n",
       "190         1239.0      NaN\n",
       "195          115.0      NaN"
      ]
     },
     "execution_count": 36,
     "metadata": {},
     "output_type": "execute_result"
    }
   ],
   "source": [
    "d_c"
   ]
  },
  {
   "cell_type": "code",
   "execution_count": 37,
   "metadata": {},
   "outputs": [],
   "source": [
    "d_c = d_c.fillna(0)"
   ]
  },
  {
   "cell_type": "code",
   "execution_count": 38,
   "metadata": {},
   "outputs": [
    {
     "data": {
      "text/html": [
       "<div>\n",
       "<style scoped>\n",
       "    .dataframe tbody tr th:only-of-type {\n",
       "        vertical-align: middle;\n",
       "    }\n",
       "\n",
       "    .dataframe tbody tr th {\n",
       "        vertical-align: top;\n",
       "    }\n",
       "\n",
       "    .dataframe thead th {\n",
       "        text-align: right;\n",
       "    }\n",
       "</style>\n",
       "<table border=\"1\" class=\"dataframe\">\n",
       "  <thead>\n",
       "    <tr style=\"text-align: right;\">\n",
       "      <th>성별코드</th>\n",
       "      <th>1</th>\n",
       "      <th>2</th>\n",
       "    </tr>\n",
       "    <tr>\n",
       "      <th>신장(5Cm단위)</th>\n",
       "      <th></th>\n",
       "      <th></th>\n",
       "    </tr>\n",
       "  </thead>\n",
       "  <tbody>\n",
       "    <tr>\n",
       "      <th>130</th>\n",
       "      <td>0.0</td>\n",
       "      <td>3.0</td>\n",
       "    </tr>\n",
       "    <tr>\n",
       "      <th>135</th>\n",
       "      <td>0.0</td>\n",
       "      <td>61.0</td>\n",
       "    </tr>\n",
       "    <tr>\n",
       "      <th>140</th>\n",
       "      <td>4.0</td>\n",
       "      <td>433.0</td>\n",
       "    </tr>\n",
       "    <tr>\n",
       "      <th>145</th>\n",
       "      <td>6.0</td>\n",
       "      <td>2431.0</td>\n",
       "    </tr>\n",
       "    <tr>\n",
       "      <th>150</th>\n",
       "      <td>145.0</td>\n",
       "      <td>10544.0</td>\n",
       "    </tr>\n",
       "    <tr>\n",
       "      <th>155</th>\n",
       "      <td>1114.0</td>\n",
       "      <td>25595.0</td>\n",
       "    </tr>\n",
       "    <tr>\n",
       "      <th>160</th>\n",
       "      <td>6286.0</td>\n",
       "      <td>33263.0</td>\n",
       "    </tr>\n",
       "    <tr>\n",
       "      <th>165</th>\n",
       "      <td>19600.0</td>\n",
       "      <td>21844.0</td>\n",
       "    </tr>\n",
       "    <tr>\n",
       "      <th>170</th>\n",
       "      <td>35416.0</td>\n",
       "      <td>7645.0</td>\n",
       "    </tr>\n",
       "    <tr>\n",
       "      <th>175</th>\n",
       "      <td>36888.0</td>\n",
       "      <td>1301.0</td>\n",
       "    </tr>\n",
       "    <tr>\n",
       "      <th>180</th>\n",
       "      <td>21646.0</td>\n",
       "      <td>94.0</td>\n",
       "    </tr>\n",
       "    <tr>\n",
       "      <th>185</th>\n",
       "      <td>6876.0</td>\n",
       "      <td>0.0</td>\n",
       "    </tr>\n",
       "    <tr>\n",
       "      <th>190</th>\n",
       "      <td>1239.0</td>\n",
       "      <td>0.0</td>\n",
       "    </tr>\n",
       "    <tr>\n",
       "      <th>195</th>\n",
       "      <td>115.0</td>\n",
       "      <td>0.0</td>\n",
       "    </tr>\n",
       "  </tbody>\n",
       "</table>\n",
       "</div>"
      ],
      "text/plain": [
       "성별코드             1        2\n",
       "신장(5Cm단위)                  \n",
       "130            0.0      3.0\n",
       "135            0.0     61.0\n",
       "140            4.0    433.0\n",
       "145            6.0   2431.0\n",
       "150          145.0  10544.0\n",
       "155         1114.0  25595.0\n",
       "160         6286.0  33263.0\n",
       "165        19600.0  21844.0\n",
       "170        35416.0   7645.0\n",
       "175        36888.0   1301.0\n",
       "180        21646.0     94.0\n",
       "185         6876.0      0.0\n",
       "190         1239.0      0.0\n",
       "195          115.0      0.0"
      ]
     },
     "execution_count": 38,
     "metadata": {},
     "output_type": "execute_result"
    }
   ],
   "source": [
    "d_c"
   ]
  },
  {
   "cell_type": "code",
   "execution_count": 31,
   "metadata": {},
   "outputs": [
    {
     "data": {
      "text/plain": [
       "Int64Index([1, 2], dtype='int64', name='성별코드')"
      ]
     },
     "execution_count": 31,
     "metadata": {},
     "output_type": "execute_result"
    }
   ],
   "source": [
    "d_c.columns"
   ]
  },
  {
   "cell_type": "code",
   "execution_count": 35,
   "metadata": {},
   "outputs": [
    {
     "data": {
      "text/plain": [
       "Int64Index([130, 135, 140, 145, 150, 155, 160, 165, 170, 175, 180, 185, 190,\n",
       "            195],\n",
       "           dtype='int64', name='신장(5Cm단위)')"
      ]
     },
     "execution_count": 35,
     "metadata": {},
     "output_type": "execute_result"
    }
   ],
   "source": [
    "d_c.index"
   ]
  },
  {
   "cell_type": "markdown",
   "metadata": {},
   "source": [
    "### 통계량 확인"
   ]
  },
  {
   "cell_type": "code",
   "execution_count": 40,
   "metadata": {},
   "outputs": [
    {
     "data": {
      "text/html": [
       "<div>\n",
       "<style scoped>\n",
       "    .dataframe tbody tr th:only-of-type {\n",
       "        vertical-align: middle;\n",
       "    }\n",
       "\n",
       "    .dataframe tbody tr th {\n",
       "        vertical-align: top;\n",
       "    }\n",
       "\n",
       "    .dataframe thead th {\n",
       "        text-align: right;\n",
       "    }\n",
       "</style>\n",
       "<table border=\"1\" class=\"dataframe\">\n",
       "  <thead>\n",
       "    <tr style=\"text-align: right;\">\n",
       "      <th>성별코드</th>\n",
       "      <th>1</th>\n",
       "      <th>2</th>\n",
       "    </tr>\n",
       "  </thead>\n",
       "  <tbody>\n",
       "    <tr>\n",
       "      <th>count</th>\n",
       "      <td>14.000000</td>\n",
       "      <td>14.000000</td>\n",
       "    </tr>\n",
       "    <tr>\n",
       "      <th>mean</th>\n",
       "      <td>9238.214286</td>\n",
       "      <td>7372.428571</td>\n",
       "    </tr>\n",
       "    <tr>\n",
       "      <th>std</th>\n",
       "      <td>13480.772810</td>\n",
       "      <td>11283.678020</td>\n",
       "    </tr>\n",
       "    <tr>\n",
       "      <th>min</th>\n",
       "      <td>0.000000</td>\n",
       "      <td>0.000000</td>\n",
       "    </tr>\n",
       "    <tr>\n",
       "      <th>25%</th>\n",
       "      <td>33.250000</td>\n",
       "      <td>17.500000</td>\n",
       "    </tr>\n",
       "    <tr>\n",
       "      <th>50%</th>\n",
       "      <td>1176.500000</td>\n",
       "      <td>867.000000</td>\n",
       "    </tr>\n",
       "    <tr>\n",
       "      <th>75%</th>\n",
       "      <td>16419.000000</td>\n",
       "      <td>9819.250000</td>\n",
       "    </tr>\n",
       "    <tr>\n",
       "      <th>max</th>\n",
       "      <td>36888.000000</td>\n",
       "      <td>33263.000000</td>\n",
       "    </tr>\n",
       "  </tbody>\n",
       "</table>\n",
       "</div>"
      ],
      "text/plain": [
       "성별코드              1             2\n",
       "count     14.000000     14.000000\n",
       "mean    9238.214286   7372.428571\n",
       "std    13480.772810  11283.678020\n",
       "min        0.000000      0.000000\n",
       "25%       33.250000     17.500000\n",
       "50%     1176.500000    867.000000\n",
       "75%    16419.000000   9819.250000\n",
       "max    36888.000000  33263.000000"
      ]
     },
     "execution_count": 40,
     "metadata": {},
     "output_type": "execute_result"
    }
   ],
   "source": [
    "d_c.describe()"
   ]
  },
  {
   "cell_type": "markdown",
   "metadata": {},
   "source": [
    "## 박스 그래프 그리기 "
   ]
  },
  {
   "cell_type": "code",
   "execution_count": 49,
   "metadata": {},
   "outputs": [
    {
     "data": {
      "image/png": "[encoded data removed]",
      "text/plain": [
       "<Figure size 432x288 with 1 Axes>"
      ]
     },
     "metadata": {
      "needs_background": "light"
     },
     "output_type": "display_data"
    }
   ],
   "source": [
    "plt.boxplot(d_c)\n",
    "plt.show()"
   ]
  },
  {
   "cell_type": "markdown",
   "metadata": {},
   "source": [
    "### 박스그래프 내의 xtick 변경하기"
   ]
  },
  {
   "cell_type": "code",
   "execution_count": 48,
   "metadata": {},
   "outputs": [
    {
     "data": {
      "image/png": "[encoded data removed]",
      "text/plain": [
       "<Figure size 432x288 with 1 Axes>"
      ]
     },
     "metadata": {
      "needs_background": "light"
     },
     "output_type": "display_data"
    }
   ],
   "source": [
    "plt.boxplot(d_c)\n",
    "plt.xticks([x+1 for x in range(0, d_c.index.shape[0] )], [x for x in d_c.index])\n",
    "plt.show()"
   ]
  },
  {
   "cell_type": "code",
   "execution_count": null,
   "metadata": {},
   "outputs": [],
   "source": []
  },
  {
   "cell_type": "markdown",
   "metadata": {},
   "source": [
    "## 키별 분포 확인 "
   ]
  },
  {
   "cell_type": "code",
   "execution_count": 48,
   "metadata": {},
   "outputs": [
    {
     "data": {
      "text/plain": [
       "<matplotlib.legend.Legend at 0x11a9f59e8>"
      ]
     },
     "execution_count": 48,
     "metadata": {},
     "output_type": "execute_result"
    },
    {
     "data": {
      "image/png": "[encoded data removed]",
      "text/plain": [
       "<Figure size 432x288 with 1 Axes>"
      ]
     },
     "metadata": {
      "needs_background": "light"
     },
     "output_type": "display_data"
    }
   ],
   "source": [
    "plt.bar(d_c.index, d_c[1], color='r',label='male')\n",
    "plt.bar(d_c.index + 0.9, d_c[2],color='g',label='female')\n",
    "plt.legend()\n"
   ]
  },
  {
   "cell_type": "code",
   "execution_count": 49,
   "metadata": {},
   "outputs": [
    {
     "data": {
      "text/plain": [
       "<BarContainer object of 14 artists>"
      ]
     },
     "execution_count": 49,
     "metadata": {},
     "output_type": "execute_result"
    },
    {
     "data": {
      "image/png": "[encoded data removed]",
      "text/plain": [
       "<Figure size 432x288 with 1 Axes>"
      ]
     },
     "metadata": {
      "needs_background": "light"
     },
     "output_type": "display_data"
    }
   ],
   "source": [
    "plt.bar(d_c.index, d_c[1], color='r',label='male')"
   ]
  },
  {
   "cell_type": "code",
   "execution_count": 51,
   "metadata": {},
   "outputs": [
    {
     "data": {
      "text/plain": [
       "<BarContainer object of 14 artists>"
      ]
     },
     "execution_count": 51,
     "metadata": {},
     "output_type": "execute_result"
    },
    {
     "data": {
      "image/png": "[encoded data removed]",
      "text/plain": [
       "<Figure size 432x288 with 1 Axes>"
      ]
     },
     "metadata": {
      "needs_background": "light"
     },
     "output_type": "display_data"
    }
   ],
   "source": [
    "plt.bar(d_c.index + 0.9, d_c[2],color='g',label='female')"
   ]
  },
  {
   "cell_type": "code",
   "execution_count": null,
   "metadata": {},
   "outputs": [],
   "source": []
  }
 ],
 "metadata": {
  "kernelspec": {
   "display_name": "Python 3",
   "language": "python",
   "name": "python3"
  },
  "language_info": {
   "codemirror_mode": {
    "name": "ipython",
    "version": 3
   },
   "file_extension": ".py",
   "mimetype": "text/x-python",
   "name": "python",
   "nbconvert_exporter": "python",
   "pygments_lexer": "ipython3",
   "version": "3.7.3"
  }
 },
 "nbformat": 4,
 "nbformat_minor": 2
}
