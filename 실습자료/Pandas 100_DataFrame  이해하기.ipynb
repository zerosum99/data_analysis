{
 "cells": [
  {
   "cell_type": "markdown",
   "metadata": {},
   "source": [
    "# DataFrame \n"
   ]
  },
  {
   "cell_type": "code",
   "execution_count": 3,
   "metadata": {
    "collapsed": true
   },
   "outputs": [],
   "source": [
    "import pandas as pd"
   ]
  },
  {
   "cell_type": "markdown",
   "metadata": {},
   "source": [
    "## 내부 속성과 메소드 확인하기"
   ]
  },
  {
   "cell_type": "markdown",
   "metadata": {},
   "source": [
    "### Series와 DataFrame에 공통으로 있는 속성과 메소드\n"
   ]
  },
  {
   "cell_type": "code",
   "execution_count": 4,
   "metadata": {},
   "outputs": [
    {
     "name": "stdout",
     "output_type": "stream",
     "text": [
      "aggregate corr kurtosis lt sum cumprod eq set_value to_string to_dict hist radd to_csv swaplevel mod rsub transform var product ge idxmax iteritems le sem expanding get_value round subtract rpow min nsmallest skew fillna reindex any sortlevel duplicated drop_duplicates shift to_timestamp rmod rolling axes rmul to_sparse mad median all apply rename dot div reindex_axis ewm prod sub unstack to_excel ne std diff dropna idxmin mul compound isin combine pow sort_values agg multiply mode append kurt rtruediv from_csv cov mean gt cummax first_valid_index count rdiv add cummin last_valid_index rfloordiv cumsum divide truediv floordiv quantile items reset_index reorder_levels sort_index align to_period combine_first plot memory_usage update index nlargest max "
     ]
    }
   ],
   "source": [
    "a = set(pd.Series.__dict__)\n",
    "b = set(pd.DataFrame.__dict__)\n",
    "\n",
    "ab = a & b\n",
    "for i in list(ab) :\n",
    "    if i.startswith(\"_\") :\n",
    "        pass\n",
    "    else :\n",
    "        print(i,end = \" \")"
   ]
  },
  {
   "cell_type": "markdown",
   "metadata": {},
   "source": [
    "### 데이터 프레임에만 있는 속성과 메소드"
   ]
  },
  {
   "cell_type": "code",
   "execution_count": 5,
   "metadata": {},
   "outputs": [
    {
     "name": "stdout",
     "output_type": "stream",
     "text": [
      "transpose from_records columns to_stata applymap boxplot query pivot to_records itertuples T shape iterrows to_feather join from_items eval info set_index insert to_html to_latex stack pivot_table lookup select_dtypes to_gbq from_dict nunique assign style merge to_panel melt corrwith "
     ]
    }
   ],
   "source": [
    "b_a = b-a\n",
    "\n",
    "for i in list(b_a) :\n",
    "    if i.startswith(\"_\") :\n",
    "        pass\n",
    "    else :\n",
    "        print(i,end = \" \")"
   ]
  },
  {
   "cell_type": "markdown",
   "metadata": {},
   "source": [
    "## dataframe 생성\n",
    "\n"
   ]
  },
  {
   "cell_type": "markdown",
   "metadata": {},
   "source": [
    "### 1차원 리스트로 생성하기"
   ]
  },
  {
   "cell_type": "code",
   "execution_count": 8,
   "metadata": {},
   "outputs": [
    {
     "name": "stdout",
     "output_type": "stream",
     "text": [
      "   0\n",
      "0  0\n",
      "1  1\n",
      "2  2\n",
      "3  3\n",
      "4  4\n",
      "5  5\n",
      "6  6\n",
      "7  7\n",
      "8  8\n",
      "9  9\n"
     ]
    }
   ],
   "source": [
    "import pandas as pd\n",
    "\n",
    "# Our small data set\n",
    "d = [0,1,2,3,4,5,6,7,8,9]\n",
    "\n",
    "# Create dataframe\n",
    "df = pd.DataFrame(d)\n",
    "print(df)\n"
   ]
  },
  {
   "cell_type": "code",
   "execution_count": 9,
   "metadata": {},
   "outputs": [
    {
     "data": {
      "text/plain": [
       "0    0\n",
       "1    1\n",
       "2    2\n",
       "3    3\n",
       "4    4\n",
       "5    5\n",
       "6    6\n",
       "7    7\n",
       "8    8\n",
       "9    9\n",
       "Name: 0, dtype: int64"
      ]
     },
     "execution_count": 9,
     "metadata": {},
     "output_type": "execute_result"
    }
   ],
   "source": [
    "df[0]"
   ]
  },
  {
   "cell_type": "markdown",
   "metadata": {},
   "source": [
    "### 데이터 프레임 출력된 결과가 Series로 나오는 것을 볼 수 있다,"
   ]
  },
  {
   "cell_type": "code",
   "execution_count": 10,
   "metadata": {},
   "outputs": [
    {
     "data": {
      "text/plain": [
       "pandas.core.series.Series"
      ]
     },
     "execution_count": 10,
     "metadata": {},
     "output_type": "execute_result"
    }
   ],
   "source": [
    "type(df[0])"
   ]
  },
  {
   "cell_type": "markdown",
   "metadata": {},
   "source": [
    "## 2차원 리스트로 생성하기"
   ]
  },
  {
   "cell_type": "markdown",
   "metadata": {},
   "source": [
    "### 2차원 리스트로 판다스 생성하기"
   ]
  },
  {
   "cell_type": "code",
   "execution_count": 2,
   "metadata": {},
   "outputs": [
    {
     "name": "stdout",
     "output_type": "stream",
     "text": [
      "   0  1  2\n",
      "0  0  1  2\n",
      "1  3  4  5\n",
      "2  6  7  8\n"
     ]
    }
   ],
   "source": [
    "import pandas as pd\n",
    "\n",
    "# Our small data set\n",
    "d = [[0,1,2],[3,4,5],[6,7,8]]\n",
    "\n",
    "# Create dataframe\n",
    "df = pd.DataFrame(d)\n",
    "print(df)"
   ]
  },
  {
   "cell_type": "code",
   "execution_count": 3,
   "metadata": {},
   "outputs": [
    {
     "data": {
      "text/plain": [
       "pandas.core.series.Series"
      ]
     },
     "execution_count": 3,
     "metadata": {},
     "output_type": "execute_result"
    }
   ],
   "source": [
    "type(df[0])"
   ]
  },
  {
   "cell_type": "code",
   "execution_count": 4,
   "metadata": {},
   "outputs": [
    {
     "data": {
      "text/plain": [
       "RangeIndex(start=0, stop=3, step=1)"
      ]
     },
     "execution_count": 4,
     "metadata": {},
     "output_type": "execute_result"
    }
   ],
   "source": [
    "df.index"
   ]
  },
  {
   "cell_type": "code",
   "execution_count": 5,
   "metadata": {},
   "outputs": [
    {
     "data": {
      "text/plain": [
       "RangeIndex(start=0, stop=3, step=1)"
      ]
     },
     "execution_count": 5,
     "metadata": {},
     "output_type": "execute_result"
    }
   ],
   "source": [
    "df.columns"
   ]
  },
  {
   "cell_type": "markdown",
   "metadata": {},
   "source": [
    "### 내부의 원소를 문자열로 처리하기. "
   ]
  },
  {
   "cell_type": "code",
   "execution_count": 1,
   "metadata": {},
   "outputs": [
    {
     "name": "stdout",
     "output_type": "stream",
     "text": [
      "     0\n",
      "0  aaa\n",
      "1  bbb\n",
      "2  ccc\n",
      "3  ddd\n",
      "4  eee\n",
      "<pandas.core.strings.StringMethods object at 0x0000000004A220B8>\n",
      "0    3\n",
      "1    3\n",
      "2    3\n",
      "3    3\n",
      "4    3\n",
      "Name: 0, dtype: int64\n"
     ]
    }
   ],
   "source": [
    "import pandas as pd\n",
    "import numpy as np\n",
    "\n",
    "a = pd.DataFrame([\"aaa\",\"bbb\",\"ccc\",\"ddd\",\"eee\"])\n",
    "print(a)\n",
    "print(a[0].str)\n",
    "print(a[0].str.len())"
   ]
  },
  {
   "cell_type": "markdown",
   "metadata": {},
   "source": [
    "## 딕셔너리로 데이터 프레임 생성"
   ]
  },
  {
   "cell_type": "markdown",
   "metadata": {},
   "source": [
    "### 딕셔너리로 생성하기 \n",
    "\n",
    "    딕셔너리의 키는 칼럼으로 가고 딕셔너리 내의 리스트 값은 실제 데이터로 간다.\n",
    "    "
   ]
  },
  {
   "cell_type": "code",
   "execution_count": 50,
   "metadata": {},
   "outputs": [
    {
     "name": "stdout",
     "output_type": "stream",
     "text": [
      "   BBB  CCC  AAA\n",
      "0   10  100    4\n",
      "1   20   50    5\n",
      "2   30  -30    6\n",
      "3   40  -50    7\n"
     ]
    }
   ],
   "source": [
    "import pandas as pd\n",
    "\n",
    "data = {'AAA' : [4,5,6,7], \n",
    "        'BBB' : [10,20,30,40],\n",
    "        'CCC' : [100,50,-30,-50]}\n",
    "df = pd.DataFrame(data, columns=['BBB','CCC','AAA'])\n",
    "print(df)"
   ]
  },
  {
   "cell_type": "markdown",
   "metadata": {},
   "source": [
    "### 복합 딕셔너리로 생성 \n",
    "\n",
    "        칼럼과 index를 구성하는 2차원 시리즈이므로 딕셔너리에서는 이중 딕셔너리로 구성해서 생성이 가능\n",
    "    "
   ]
  },
  {
   "cell_type": "code",
   "execution_count": 24,
   "metadata": {},
   "outputs": [
    {
     "name": "stdout",
     "output_type": "stream",
     "text": [
      "   AAA  BBB  CCC\n",
      "a    4   10  100\n",
      "b    5   20   50\n",
      "c    6   30  -30\n",
      "d    7   40  -50\n"
     ]
    }
   ],
   "source": [
    "import pandas as pd\n",
    "import numpy as np\n",
    "\n",
    "data = {'AAA' : {'a' : 4,'b':5, 'c':6, 'd':7}, \n",
    "        'BBB' : {'a': 10, 'b' : 20, 'c':30, 'd': 40},\n",
    "        'CCC' : {'a':100, 'b': 50, 'c': -30, 'd': -50} }\n",
    "df = pd.DataFrame(data)\n",
    "print(df)"
   ]
  },
  {
   "cell_type": "markdown",
   "metadata": {},
   "source": [
    "##  튜플원소를 가지는 리스트로 데이터 프레임 생성하기  "
   ]
  },
  {
   "cell_type": "markdown",
   "metadata": {},
   "source": [
    "### zip으로 튜플의 원소인 리스트를 이용해서 생성하기 \n"
   ]
  },
  {
   "cell_type": "code",
   "execution_count": 7,
   "metadata": {},
   "outputs": [
    {
     "name": "stdout",
     "output_type": "stream",
     "text": [
      "[('Bob', 968), ('Jessica', 155), ('Mary', 77), ('John', 578), ('Mel', 973)]\n"
     ]
    }
   ],
   "source": [
    "import pandas as pd\n",
    "\n",
    "names = ['Bob','Jessica','Mary','John','Mel']\n",
    "births = [968, 155, 77, 578, 973]\n",
    "BabyDataSet = list(zip(names,births))\n",
    "\n",
    "\n",
    "print(BabyDataSet)\n"
   ]
  },
  {
   "cell_type": "code",
   "execution_count": 8,
   "metadata": {},
   "outputs": [
    {
     "data": {
      "text/plain": [
       "{'Bob': 968, 'Jessica': 155, 'John': 578, 'Mary': 77, 'Mel': 973}"
      ]
     },
     "execution_count": 8,
     "metadata": {},
     "output_type": "execute_result"
    }
   ],
   "source": [
    "dict(BabyDataSet)"
   ]
  },
  {
   "cell_type": "code",
   "execution_count": 9,
   "metadata": {},
   "outputs": [
    {
     "name": "stdout",
     "output_type": "stream",
     "text": [
      "     Names  Births\n",
      "0      Bob     968\n",
      "1  Jessica     155\n",
      "2     Mary      77\n",
      "3     John     578\n",
      "4      Mel     973\n"
     ]
    }
   ],
   "source": [
    "df = pd.DataFrame(data = BabyDataSet, columns=['Names', 'Births'])\n",
    "print(df)"
   ]
  },
  {
   "cell_type": "markdown",
   "metadata": {},
   "source": [
    "### 딕셔너리 타입으로 처리할 때는 예외가 발생함"
   ]
  },
  {
   "cell_type": "code",
   "execution_count": 12,
   "metadata": {},
   "outputs": [
    {
     "ename": "ValueError",
     "evalue": "If using all scalar values, you must pass an index",
     "output_type": "error",
     "traceback": [
      "\u001b[0;31m---------------------------------------------------------------------------\u001b[0m",
      "\u001b[0;31mValueError\u001b[0m                                Traceback (most recent call last)",
      "\u001b[0;32m<ipython-input-12-09caec5de5ee>\u001b[0m in \u001b[0;36m<module>\u001b[0;34m()\u001b[0m\n\u001b[0;32m----> 1\u001b[0;31m \u001b[0mdf1\u001b[0m \u001b[0;34m=\u001b[0m \u001b[0mpd\u001b[0m\u001b[0;34m.\u001b[0m\u001b[0mDataFrame\u001b[0m\u001b[0;34m(\u001b[0m\u001b[0mdata\u001b[0m \u001b[0;34m=\u001b[0m \u001b[0mdict\u001b[0m\u001b[0;34m(\u001b[0m\u001b[0mBabyDataSet\u001b[0m\u001b[0;34m)\u001b[0m\u001b[0;34m,\u001b[0m \u001b[0mcolumns\u001b[0m\u001b[0;34m=\u001b[0m\u001b[0;34m[\u001b[0m\u001b[0;34m'Names'\u001b[0m\u001b[0;34m,\u001b[0m \u001b[0;34m'Births'\u001b[0m\u001b[0;34m]\u001b[0m\u001b[0;34m)\u001b[0m\u001b[0;34m\u001b[0m\u001b[0m\n\u001b[0m\u001b[1;32m      2\u001b[0m \u001b[0mprint\u001b[0m\u001b[0;34m(\u001b[0m\u001b[0mdf1\u001b[0m\u001b[0;34m)\u001b[0m\u001b[0;34m\u001b[0m\u001b[0m\n",
      "\u001b[0;32m~/anaconda/lib/python3.6/site-packages/pandas/core/frame.py\u001b[0m in \u001b[0;36m__init__\u001b[0;34m(self, data, index, columns, dtype, copy)\u001b[0m\n\u001b[1;32m    328\u001b[0m                                  dtype=dtype, copy=copy)\n\u001b[1;32m    329\u001b[0m         \u001b[0;32melif\u001b[0m \u001b[0misinstance\u001b[0m\u001b[0;34m(\u001b[0m\u001b[0mdata\u001b[0m\u001b[0;34m,\u001b[0m \u001b[0mdict\u001b[0m\u001b[0;34m)\u001b[0m\u001b[0;34m:\u001b[0m\u001b[0;34m\u001b[0m\u001b[0m\n\u001b[0;32m--> 330\u001b[0;31m             \u001b[0mmgr\u001b[0m \u001b[0;34m=\u001b[0m \u001b[0mself\u001b[0m\u001b[0;34m.\u001b[0m\u001b[0m_init_dict\u001b[0m\u001b[0;34m(\u001b[0m\u001b[0mdata\u001b[0m\u001b[0;34m,\u001b[0m \u001b[0mindex\u001b[0m\u001b[0;34m,\u001b[0m \u001b[0mcolumns\u001b[0m\u001b[0;34m,\u001b[0m \u001b[0mdtype\u001b[0m\u001b[0;34m=\u001b[0m\u001b[0mdtype\u001b[0m\u001b[0;34m)\u001b[0m\u001b[0;34m\u001b[0m\u001b[0m\n\u001b[0m\u001b[1;32m    331\u001b[0m         \u001b[0;32melif\u001b[0m \u001b[0misinstance\u001b[0m\u001b[0;34m(\u001b[0m\u001b[0mdata\u001b[0m\u001b[0;34m,\u001b[0m \u001b[0mma\u001b[0m\u001b[0;34m.\u001b[0m\u001b[0mMaskedArray\u001b[0m\u001b[0;34m)\u001b[0m\u001b[0;34m:\u001b[0m\u001b[0;34m\u001b[0m\u001b[0m\n\u001b[1;32m    332\u001b[0m             \u001b[0;32mimport\u001b[0m \u001b[0mnumpy\u001b[0m\u001b[0;34m.\u001b[0m\u001b[0mma\u001b[0m\u001b[0;34m.\u001b[0m\u001b[0mmrecords\u001b[0m \u001b[0;32mas\u001b[0m \u001b[0mmrecords\u001b[0m\u001b[0;34m\u001b[0m\u001b[0m\n",
      "\u001b[0;32m~/anaconda/lib/python3.6/site-packages/pandas/core/frame.py\u001b[0m in \u001b[0;36m_init_dict\u001b[0;34m(self, data, index, columns, dtype)\u001b[0m\n\u001b[1;32m    417\u001b[0m             \u001b[0;31m# raise ValueError if only scalars in dict\u001b[0m\u001b[0;34m\u001b[0m\u001b[0;34m\u001b[0m\u001b[0m\n\u001b[1;32m    418\u001b[0m             \u001b[0;32mif\u001b[0m \u001b[0mindex\u001b[0m \u001b[0;32mis\u001b[0m \u001b[0;32mNone\u001b[0m\u001b[0;34m:\u001b[0m\u001b[0;34m\u001b[0m\u001b[0m\n\u001b[0;32m--> 419\u001b[0;31m                 \u001b[0mextract_index\u001b[0m\u001b[0;34m(\u001b[0m\u001b[0mlist\u001b[0m\u001b[0;34m(\u001b[0m\u001b[0mdata\u001b[0m\u001b[0;34m.\u001b[0m\u001b[0mvalues\u001b[0m\u001b[0;34m(\u001b[0m\u001b[0;34m)\u001b[0m\u001b[0;34m)\u001b[0m\u001b[0;34m)\u001b[0m\u001b[0;34m\u001b[0m\u001b[0m\n\u001b[0m\u001b[1;32m    420\u001b[0m \u001b[0;34m\u001b[0m\u001b[0m\n\u001b[1;32m    421\u001b[0m             \u001b[0;31m# prefilter if columns passed\u001b[0m\u001b[0;34m\u001b[0m\u001b[0;34m\u001b[0m\u001b[0m\n",
      "\u001b[0;32m~/anaconda/lib/python3.6/site-packages/pandas/core/frame.py\u001b[0m in \u001b[0;36mextract_index\u001b[0;34m(data)\u001b[0m\n\u001b[1;32m   6167\u001b[0m \u001b[0;34m\u001b[0m\u001b[0m\n\u001b[1;32m   6168\u001b[0m         \u001b[0;32mif\u001b[0m \u001b[0;32mnot\u001b[0m \u001b[0mindexes\u001b[0m \u001b[0;32mand\u001b[0m \u001b[0;32mnot\u001b[0m \u001b[0mraw_lengths\u001b[0m\u001b[0;34m:\u001b[0m\u001b[0;34m\u001b[0m\u001b[0m\n\u001b[0;32m-> 6169\u001b[0;31m             raise ValueError('If using all scalar values, you must pass'\n\u001b[0m\u001b[1;32m   6170\u001b[0m                              ' an index')\n\u001b[1;32m   6171\u001b[0m \u001b[0;34m\u001b[0m\u001b[0m\n",
      "\u001b[0;31mValueError\u001b[0m: If using all scalar values, you must pass an index"
     ]
    }
   ],
   "source": [
    "df1 = pd.DataFrame(data = dict(BabyDataSet), columns=['Names', 'Births'])\n",
    "print(df1)"
   ]
  },
  {
   "cell_type": "markdown",
   "metadata": {},
   "source": [
    "## 속성 이해하기 \n"
   ]
  },
  {
   "cell_type": "markdown",
   "metadata": {},
   "source": [
    "### 타입과 모양, 행(index), 열(columns), 행렬에 대한 메타정보(axes)\n"
   ]
  },
  {
   "cell_type": "code",
   "execution_count": 17,
   "metadata": {},
   "outputs": [
    {
     "name": "stdout",
     "output_type": "stream",
     "text": [
      "     Names  Births\n",
      "0      Bob     968\n",
      "1  Jessica     155\n",
      "2     Mary      77\n",
      "3     John     578\n",
      "4      Mel     973\n",
      "(5, 2)\n"
     ]
    }
   ],
   "source": [
    "import pandas as pd\n",
    "\n",
    "names = ['Bob','Jessica','Mary','John','Mel']\n",
    "births = [968, 155, 77, 578, 973]\n",
    "BabyDataSet = list(zip(names,births))\n",
    "\n",
    "df = pd.DataFrame(data = BabyDataSet, columns=['Names', 'Births'])\n",
    "print(df)\n",
    "print(df.shape)\n",
    "\n"
   ]
  },
  {
   "cell_type": "markdown",
   "metadata": {},
   "source": [
    "### 인덱스와 칼럼에 대한 정보 확인하기 "
   ]
  },
  {
   "cell_type": "code",
   "execution_count": 18,
   "metadata": {},
   "outputs": [
    {
     "name": "stdout",
     "output_type": "stream",
     "text": [
      "RangeIndex(start=0, stop=5, step=1)\n",
      "Index(['Names', 'Births'], dtype='object')\n",
      "[RangeIndex(start=0, stop=5, step=1), Index(['Names', 'Births'], dtype='object')]\n"
     ]
    }
   ],
   "source": [
    "print(df.index)  # 행에 대한 부분\n",
    "print(df.columns)  #칼럼에 대한 부분\n",
    "print(df.axes)        # 행렬에 대한 축"
   ]
  },
  {
   "cell_type": "markdown",
   "metadata": {},
   "source": [
    "###  차원에 대한 정보를 확인한다"
   ]
  },
  {
   "cell_type": "code",
   "execution_count": 89,
   "metadata": {},
   "outputs": [
    {
     "name": "stdout",
     "output_type": "stream",
     "text": [
      "Names     object\n",
      "Births     int64\n",
      "dtype: object\n",
      "{'name': 'at', 'ndim': 2, 'obj':      Names  Births\n",
      "0      Bob     968\n",
      "1  Jessica     155\n",
      "2     Mary      77\n",
      "3     John     578\n",
      "4      Mel     973}\n",
      "scalar accessor  Bob\n",
      "2 <class 'int'>\n"
     ]
    }
   ],
   "source": [
    "import pandas as pd\n",
    "\n",
    "names = ['Bob','Jessica','Mary','John','Mel']\n",
    "births = [968, 155, 77, 578, 973]\n",
    "BabyDataSet = list(zip(names,births))\n",
    "\n",
    "df = pd.DataFrame(data = BabyDataSet, columns=['Names', 'Births'])\n",
    "\n",
    "print(df.dtypes)\n",
    "print(df.at.__dict__)\n",
    "print(\"scalar accessor \",df.at[0,'Names'])\n",
    "print(df.ndim, type(df.ndim))\n"
   ]
  },
  {
   "cell_type": "markdown",
   "metadata": {},
   "source": [
    "### T(행과 열을 전환), size(원소갯수), values(값을numpy로 전환),loc(lable로 검색)을 이용해서 검색\n",
    "\n"
   ]
  },
  {
   "cell_type": "code",
   "execution_count": 92,
   "metadata": {},
   "outputs": [
    {
     "name": "stdout",
     "output_type": "stream",
     "text": [
      "          0        1     2     3    4\n",
      "Names   Bob  Jessica  Mary  John  Mel\n",
      "Births  968      155    77   578  973\n",
      "10\n",
      "[['Bob' 968]\n",
      " ['Jessica' 155]\n",
      " ['Mary' 77]\n",
      " ['John' 578]\n",
      " ['Mel' 973]]\n",
      "Bob\n"
     ]
    }
   ],
   "source": [
    "import pandas as pd\n",
    "\n",
    "names = ['Bob','Jessica','Mary','John','Mel']\n",
    "births = [968, 155, 77, 578, 973]\n",
    "BabyDataSet = list(zip(names,births))\n",
    "\n",
    "df = pd.DataFrame(data = BabyDataSet, columns=['Names', 'Births'])\n",
    "\n",
    "print(df.T)\n",
    "print(df.size)\n",
    "print(df.values)\n",
    "print(df.loc[0,'Names'])\n"
   ]
  },
  {
   "cell_type": "markdown",
   "metadata": {},
   "source": [
    "## 내부의 데이터를 뷰로 보기"
   ]
  },
  {
   "cell_type": "markdown",
   "metadata": {},
   "source": [
    "### blocks 속성으로 내부 데이터에 대한 정보를 조회"
   ]
  },
  {
   "cell_type": "code",
   "execution_count": 21,
   "metadata": {},
   "outputs": [
    {
     "name": "stdout",
     "output_type": "stream",
     "text": [
      "{'int64':    Births\n",
      "0     968\n",
      "1     155\n",
      "2      77\n",
      "3     578\n",
      "4     973, 'object':      Names\n",
      "0      Bob\n",
      "1  Jessica\n",
      "2     Mary\n",
      "3     John\n",
      "4      Mel}\n",
      "<class 'dict'>\n"
     ]
    }
   ],
   "source": [
    "import pandas as pd\n",
    "\n",
    "names = ['Bob','Jessica','Mary','John','Mel']\n",
    "births = [968, 155, 77, 578, 973]\n",
    "BabyDataSet = list(zip(names,births))\n",
    "\n",
    "df = pd.DataFrame(data = BabyDataSet, columns=['Names', 'Births'])\n",
    "\n",
    "print(df.blocks)\n",
    "print(type(df.blocks))\n",
    "\n"
   ]
  },
  {
   "cell_type": "code",
   "execution_count": 22,
   "metadata": {},
   "outputs": [
    {
     "name": "stdout",
     "output_type": "stream",
     "text": [
      "     Names\n",
      "0      Bob\n",
      "1  Jessica\n",
      "2     Mary\n",
      "3     John\n",
      "4      Mel\n",
      "   Births\n",
      "0     968\n",
      "1     155\n",
      "2      77\n",
      "3     578\n",
      "4     973\n"
     ]
    }
   ],
   "source": [
    "print(df.blocks['object'])\n",
    "print(df.blocks['int64'])\n"
   ]
  },
  {
   "cell_type": "markdown",
   "metadata": {},
   "source": [
    "### Empty, ftypes, iat(행과열 숫자위치), iloc(행), ix(행) 등을 이용해서 검색\n"
   ]
  },
  {
   "cell_type": "code",
   "execution_count": 13,
   "metadata": {},
   "outputs": [
    {
     "name": "stdout",
     "output_type": "stream",
     "text": [
      "False\n",
      "Names     object:dense\n",
      "Births     int64:dense\n",
      "dtype: object\n"
     ]
    }
   ],
   "source": [
    "import pandas as pd\n",
    "\n",
    "names = ['Bob','Jessica','Mary','John','Mel']\n",
    "births = [968, 155, 77, 578, 973]\n",
    "BabyDataSet = list(zip(names,births))\n",
    "\n",
    "df = pd.DataFrame(data = BabyDataSet, columns=['Names', 'Births'])\n",
    "\n",
    "print(df.empty)\n",
    "print(df.ftypes)\n",
    "\n"
   ]
  },
  {
   "cell_type": "markdown",
   "metadata": {},
   "source": [
    "### 암묵적인 인덱스를 처리해서 정보를 조회하기"
   ]
  },
  {
   "cell_type": "code",
   "execution_count": 14,
   "metadata": {},
   "outputs": [
    {
     "name": "stdout",
     "output_type": "stream",
     "text": [
      "{'obj':      Names  Births\n",
      "0      Bob     968\n",
      "1  Jessica     155\n",
      "2     Mary      77\n",
      "3     John     578\n",
      "4      Mel     973, 'ndim': 2, 'name': 'iat'}\n",
      "scalar accessor  968\n",
      "{'obj':      Names  Births\n",
      "0      Bob     968\n",
      "1  Jessica     155\n",
      "2     Mary      77\n",
      "3     John     578\n",
      "4      Mel     973, 'ndim': 2, 'name': 'iloc'}\n",
      "Names     Bob\n",
      "Births    968\n",
      "Name: 0, dtype: object\n",
      "Names     Bob\n",
      "Births    968\n",
      "Name: 0, dtype: object\n"
     ]
    },
    {
     "name": "stderr",
     "output_type": "stream",
     "text": [
      "/Users/dahlmoon/anaconda/lib/python3.6/site-packages/ipykernel_launcher.py:5: DeprecationWarning: \n",
      ".ix is deprecated. Please use\n",
      ".loc for label based indexing or\n",
      ".iloc for positional indexing\n",
      "\n",
      "See the documentation here:\n",
      "http://pandas.pydata.org/pandas-docs/stable/indexing.html#ix-indexer-is-deprecated\n",
      "  \"\"\"\n"
     ]
    }
   ],
   "source": [
    "print(df.iat.__dict__)\n",
    "print(\"scalar accessor \",df.iat[0,1])\n",
    "print(df.iloc.__dict__)\n",
    "print(df.iloc[0])\n",
    "print(df.ix[0])"
   ]
  },
  {
   "cell_type": "markdown",
   "metadata": {},
   "source": [
    "## 생성방법 알아보기"
   ]
  },
  {
   "cell_type": "markdown",
   "metadata": {},
   "source": [
    "### 칼럼 명 추가 및 Series를 이용한 DataFrame 생성\n"
   ]
  },
  {
   "cell_type": "code",
   "execution_count": 24,
   "metadata": {},
   "outputs": [
    {
     "name": "stdout",
     "output_type": "stream",
     "text": [
      "[[1]\n",
      " [2]\n",
      " [3]\n",
      " [4]]\n",
      "<class 'numpy.ndarray'>\n",
      "<class 'pandas.core.frame.DataFrame'>\n",
      "0    1\n",
      "1    2\n",
      "2    3\n",
      "3    4\n",
      "Name: ser1, dtype: int64\n"
     ]
    }
   ],
   "source": [
    "import pandas as pd\n",
    "\n",
    "s = pd.Series([1,2,3,4], name=\"ser1\")\n",
    "p = pd.DataFrame(s)\n",
    "print(p.values)\n",
    "print(type(p.values))\n",
    "print(type(p))\n",
    "print(s)\n"
   ]
  },
  {
   "cell_type": "markdown",
   "metadata": {},
   "source": [
    "###  닷연산으로 속성을 확인하기\n",
    "\n",
    "    시리즈로 만들 때 이름을 부여하면 이 이름을 가지고 내부의 칼럼정보를 확인할 수 있다."
   ]
  },
  {
   "cell_type": "code",
   "execution_count": 25,
   "metadata": {},
   "outputs": [
    {
     "name": "stdout",
     "output_type": "stream",
     "text": [
      "0    1\n",
      "1    2\n",
      "2    3\n",
      "3    4\n",
      "Name: ser1, dtype: int64\n",
      "<class 'pandas.core.series.Series'>\n"
     ]
    }
   ],
   "source": [
    "print(p.ser1)\n",
    "print(type(p.ser1))"
   ]
  },
  {
   "cell_type": "markdown",
   "metadata": {},
   "source": [
    "### 리스트를 가자고 데이터프레임을 만들기"
   ]
  },
  {
   "cell_type": "code",
   "execution_count": 26,
   "metadata": {},
   "outputs": [
    {
     "name": "stdout",
     "output_type": "stream",
     "text": [
      "   0\n",
      "0  0\n",
      "1  1\n",
      "2  2\n",
      "3  3\n",
      "4  4\n",
      "5  5\n",
      "6  6\n",
      "7  7\n",
      "8  8\n",
      "9  9\n"
     ]
    }
   ],
   "source": [
    "import pandas as pd\n",
    "\n",
    "# Our small data set\n",
    "d = [0,1,2,3,4,5,6,7,8,9]\n",
    "\n",
    "# Create dataframe\n",
    "df = pd.DataFrame(d)\n",
    "print(df)\n"
   ]
  },
  {
   "cell_type": "markdown",
   "metadata": {},
   "source": [
    "### 칼럼을 추가하기"
   ]
  },
  {
   "cell_type": "code",
   "execution_count": 27,
   "metadata": {},
   "outputs": [
    {
     "name": "stdout",
     "output_type": "stream",
     "text": [
      "   Rev\n",
      "0    0\n",
      "1    1\n",
      "2    2\n",
      "3    3\n",
      "4    4\n",
      "5    5\n",
      "6    6\n",
      "7    7\n",
      "8    8\n",
      "9    9\n"
     ]
    }
   ],
   "source": [
    "df.columns = ['Rev']\n",
    "print(df)"
   ]
  },
  {
   "cell_type": "code",
   "execution_count": 28,
   "metadata": {},
   "outputs": [
    {
     "data": {
      "text/html": [
       "<div>\n",
       "<style>\n",
       "    .dataframe thead tr:only-child th {\n",
       "        text-align: right;\n",
       "    }\n",
       "\n",
       "    .dataframe thead th {\n",
       "        text-align: left;\n",
       "    }\n",
       "\n",
       "    .dataframe tbody tr th {\n",
       "        vertical-align: top;\n",
       "    }\n",
       "</style>\n",
       "<table border=\"1\" class=\"dataframe\">\n",
       "  <thead>\n",
       "    <tr style=\"text-align: right;\">\n",
       "      <th></th>\n",
       "      <th>Rev</th>\n",
       "    </tr>\n",
       "  </thead>\n",
       "  <tbody>\n",
       "    <tr>\n",
       "      <th>0</th>\n",
       "      <td>0</td>\n",
       "    </tr>\n",
       "    <tr>\n",
       "      <th>1</th>\n",
       "      <td>1</td>\n",
       "    </tr>\n",
       "    <tr>\n",
       "      <th>2</th>\n",
       "      <td>2</td>\n",
       "    </tr>\n",
       "    <tr>\n",
       "      <th>3</th>\n",
       "      <td>3</td>\n",
       "    </tr>\n",
       "    <tr>\n",
       "      <th>4</th>\n",
       "      <td>4</td>\n",
       "    </tr>\n",
       "    <tr>\n",
       "      <th>5</th>\n",
       "      <td>5</td>\n",
       "    </tr>\n",
       "    <tr>\n",
       "      <th>6</th>\n",
       "      <td>6</td>\n",
       "    </tr>\n",
       "    <tr>\n",
       "      <th>7</th>\n",
       "      <td>7</td>\n",
       "    </tr>\n",
       "    <tr>\n",
       "      <th>8</th>\n",
       "      <td>8</td>\n",
       "    </tr>\n",
       "    <tr>\n",
       "      <th>9</th>\n",
       "      <td>9</td>\n",
       "    </tr>\n",
       "  </tbody>\n",
       "</table>\n",
       "</div>"
      ],
      "text/plain": [
       "   Rev\n",
       "0    0\n",
       "1    1\n",
       "2    2\n",
       "3    3\n",
       "4    4\n",
       "5    5\n",
       "6    6\n",
       "7    7\n",
       "8    8\n",
       "9    9"
      ]
     },
     "execution_count": 28,
     "metadata": {},
     "output_type": "execute_result"
    }
   ],
   "source": [
    "df"
   ]
  },
  {
   "cell_type": "markdown",
   "metadata": {},
   "source": [
    "### 칼럼의 이름을 실제 시리즈의 name 속성과 동일한 결과이다."
   ]
  },
  {
   "cell_type": "code",
   "execution_count": 30,
   "metadata": {},
   "outputs": [
    {
     "data": {
      "text/plain": [
       "0    0\n",
       "1    1\n",
       "2    2\n",
       "3    3\n",
       "4    4\n",
       "5    5\n",
       "6    6\n",
       "7    7\n",
       "8    8\n",
       "9    9\n",
       "Name: Rev, dtype: int64"
      ]
     },
     "execution_count": 30,
     "metadata": {},
     "output_type": "execute_result"
    }
   ],
   "source": [
    "df.Rev"
   ]
  },
  {
   "cell_type": "markdown",
   "metadata": {},
   "source": [
    "### 칼럼 추가 및 원소 값 추가\n",
    "\n",
    "    스칼라로 넣으면 브로드 캐스팅되어 생성됨\n",
    "    "
   ]
  },
  {
   "cell_type": "code",
   "execution_count": 58,
   "metadata": {},
   "outputs": [
    {
     "name": "stdout",
     "output_type": "stream",
     "text": [
      "   Rev  NewCol\n",
      "0    0       5\n",
      "1    1       5\n",
      "2    2       5\n",
      "3    3       5\n",
      "4    4       5\n",
      "5    5       5\n",
      "6    6       5\n",
      "7    7       5\n",
      "8    8       5\n",
      "9    9       5\n"
     ]
    }
   ],
   "source": [
    "import pandas as pd\n",
    "\n",
    "# Our small data set\n",
    "d = [0,1,2,3,4,5,6,7,8,9]\n",
    "\n",
    "# Create dataframe\n",
    "df = pd.DataFrame(d)\n",
    "df.columns = ['Rev']\n",
    "df['NewCol'] = 5\n",
    "print(df)\n"
   ]
  },
  {
   "cell_type": "markdown",
   "metadata": {},
   "source": [
    "###  내부 원소 변경하기 \n"
   ]
  },
  {
   "cell_type": "code",
   "execution_count": 8,
   "metadata": {},
   "outputs": [
    {
     "name": "stdout",
     "output_type": "stream",
     "text": [
      "   ser1\n",
      "0     1\n",
      "1     2\n",
      "2     3\n",
      "3     4\n",
      "   ser1\n",
      "0    99\n",
      "1     2\n",
      "2     3\n",
      "3     4\n"
     ]
    }
   ],
   "source": [
    "import pandas as pd\n",
    "\n",
    "s = pd.Series([1,2,3,4], name=\"ser1\")\n",
    "\n",
    "p = pd.DataFrame(s)\n",
    "\n",
    "print(p)\n",
    "p['ser1'][0] = 99\n",
    "print(p)"
   ]
  },
  {
   "cell_type": "markdown",
   "metadata": {},
   "source": [
    "### 칼럼 내의 원소 값 변경 "
   ]
  },
  {
   "cell_type": "code",
   "execution_count": 61,
   "metadata": {},
   "outputs": [
    {
     "name": "stdout",
     "output_type": "stream",
     "text": [
      "   Rev  NewCol\n",
      "0    0       6\n",
      "1    1       6\n",
      "2    2       6\n",
      "3    3       6\n",
      "4    4       6\n",
      "5    5       6\n",
      "6    6       6\n",
      "7    7       6\n",
      "8    8       6\n",
      "9    9       6\n"
     ]
    }
   ],
   "source": [
    "import pandas as pd\n",
    "\n",
    "# Our small data set\n",
    "d = [0,1,2,3,4,5,6,7,8,9]\n",
    "\n",
    "# Create dataframe\n",
    "df = pd.DataFrame(d)\n",
    "df.columns = ['Rev']\n",
    "df['NewCol'] = 5\n",
    "df['NewCol'] = df['NewCol'] + 1\n",
    "print(df)\n"
   ]
  },
  {
   "cell_type": "markdown",
   "metadata": {},
   "source": [
    "### 칼럼 삭제 "
   ]
  },
  {
   "cell_type": "code",
   "execution_count": 62,
   "metadata": {},
   "outputs": [
    {
     "name": "stdout",
     "output_type": "stream",
     "text": [
      "   Rev\n",
      "0    0\n",
      "1    1\n",
      "2    2\n",
      "3    3\n",
      "4    4\n",
      "5    5\n",
      "6    6\n",
      "7    7\n",
      "8    8\n",
      "9    9\n"
     ]
    }
   ],
   "source": [
    "import pandas as pd\n",
    "\n",
    "# Our small data set\n",
    "d = [0,1,2,3,4,5,6,7,8,9]\n",
    "\n",
    "# Create dataframe\n",
    "df = pd.DataFrame(d)\n",
    "df.columns = ['Rev']\n",
    "df['NewCol'] = 5\n",
    "df['NewCol'] = df['NewCol'] + 1\n",
    "del df['NewCol']\n",
    "print(df)\n"
   ]
  },
  {
   "cell_type": "markdown",
   "metadata": {},
   "source": [
    "### 여러 개의 Series를 하나의 DataFrame에 추가하기\n",
    "\n"
   ]
  },
  {
   "cell_type": "code",
   "execution_count": 15,
   "metadata": {},
   "outputs": [],
   "source": [
    "import pandas as pd\n",
    "\n",
    "\n",
    "c1 = pd.Series([603105,-405885,283715,365410, 302876, 393534], name='foreigner')\n",
    "c2= pd.Series([69.15, 68.99, 69.09, 69.02, 68.93, 68.85], name='sratio')\n",
    "\n",
    "data = { ser.name : ser.values for ser in [c1,c2]}\n"
   ]
  },
  {
   "cell_type": "markdown",
   "metadata": {},
   "source": [
    "#### 시리즈를 반드시 하나의 딕셔너리에 넣고 처리해야 시르지의 결과가 칼럼으로 간다"
   ]
  },
  {
   "cell_type": "code",
   "execution_count": 16,
   "metadata": {},
   "outputs": [
    {
     "data": {
      "text/plain": [
       "{'foreigner': array([ 603105, -405885,  283715,  365410,  302876,  393534]),\n",
       " 'sratio': array([ 69.15,  68.99,  69.09,  69.02,  68.93,  68.85])}"
      ]
     },
     "execution_count": 16,
     "metadata": {},
     "output_type": "execute_result"
    }
   ],
   "source": [
    "data"
   ]
  },
  {
   "cell_type": "code",
   "execution_count": 17,
   "metadata": {},
   "outputs": [
    {
     "name": "stdout",
     "output_type": "stream",
     "text": [
      "   foreigner  sratio\n",
      "0     603105   69.15\n",
      "1    -405885   68.99\n",
      "2     283715   69.09\n",
      "3     365410   69.02\n",
      "4     302876   68.93\n",
      "5     393534   68.85\n"
     ]
    }
   ],
   "source": [
    "d = pd.DataFrame(data)\n",
    "print(d)"
   ]
  },
  {
   "cell_type": "code",
   "execution_count": 12,
   "metadata": {},
   "outputs": [
    {
     "name": "stdout",
     "output_type": "stream",
     "text": [
      "{'is_copy': None, '_data': BlockManager\n",
      "Items: Index(['series 1'], dtype='object')\n",
      "Axis 1: Index(['a', 'b', 'c', 'd'], dtype='object')\n",
      "IntBlock: slice(0, 1, 1), 1 x 4, dtype: int64, '_item_cache': {}}\n",
      "   series 1\n",
      "a         1\n",
      "b         2\n",
      "c         3\n",
      "d         4\n"
     ]
    }
   ],
   "source": [
    "import pandas as pd\n",
    "d = {'a':1, 'b':2, 'c':3, 'd':4}\n",
    "\n",
    "obj1 = pd.Series(d, name=\"series 1\")\n",
    "obj2 = pd.Series(d, name=\"series 2\")\n",
    "\n",
    "\n",
    "df1 = pd.DataFrame(obj1)\n",
    "print(df1.__dict__)\n",
    "print(df1)\n"
   ]
  },
  {
   "cell_type": "markdown",
   "metadata": {},
   "source": [
    "###  시리즈를 배열로 묶어서 데이터 프레임을 만들면 행으로 들어간다"
   ]
  },
  {
   "cell_type": "code",
   "execution_count": 13,
   "metadata": {},
   "outputs": [
    {
     "name": "stdout",
     "output_type": "stream",
     "text": [
      "{'is_copy': None, '_data': BlockManager\n",
      "Items: Index(['a', 'b', 'c', 'd'], dtype='object')\n",
      "Axis 1: Index(['series 1', 'series 2'], dtype='object')\n",
      "IntBlock: slice(0, 4, 1), 4 x 2, dtype: int64, '_item_cache': {}}\n",
      "          a  b  c  d\n",
      "series 1  1  2  3  4\n",
      "series 2  1  2  3  4\n"
     ]
    }
   ],
   "source": [
    "import pandas as pd\n",
    "d = {'a':1, 'b':2, 'c':3, 'd':4}\n",
    "\n",
    "obj1 = pd.Series(d, name=\"series 1\")\n",
    "obj2 = pd.Series(d, name=\"series 2\")\n",
    "\n",
    "df2 = pd.DataFrame([obj1,obj2])\n",
    "print(df2.__dict__)\n",
    "print(df2)"
   ]
  },
  {
   "cell_type": "markdown",
   "metadata": {},
   "source": [
    "## 인덱싱 처리 \n",
    "\n",
    "    기존 칼럼명을 조회해서 새로운 칼럼 추가\n"
   ]
  },
  {
   "cell_type": "markdown",
   "metadata": {},
   "source": [
    "### 데이터 프레임에 하나의 칼럼명을 할당"
   ]
  },
  {
   "cell_type": "code",
   "execution_count": 18,
   "metadata": {},
   "outputs": [],
   "source": [
    "import pandas as pd\n",
    "\n",
    "# Our small data set\n",
    "d = [0,1,2,3,4,5,6,7,8,9]\n",
    "\n",
    "# Create dataframe\n",
    "df = pd.DataFrame(d)\n",
    "df.columns = ['Rev']\n",
    "\n"
   ]
  },
  {
   "cell_type": "code",
   "execution_count": 19,
   "metadata": {},
   "outputs": [
    {
     "data": {
      "text/plain": [
       "Index(['Rev'], dtype='object')"
      ]
     },
     "execution_count": 19,
     "metadata": {},
     "output_type": "execute_result"
    }
   ],
   "source": [
    "df.columns"
   ]
  },
  {
   "cell_type": "markdown",
   "metadata": {},
   "source": [
    "### 인덱싱을 통해 하나의 칼럼을 추기"
   ]
  },
  {
   "cell_type": "code",
   "execution_count": 20,
   "metadata": {},
   "outputs": [
    {
     "name": "stdout",
     "output_type": "stream",
     "text": [
      "   Rev  col\n",
      "0    0    0\n",
      "1    1    1\n",
      "2    2    2\n",
      "3    3    3\n",
      "4    4    4\n",
      "5    5    5\n",
      "6    6    6\n",
      "7    7    7\n",
      "8    8    8\n",
      "9    9    9\n"
     ]
    }
   ],
   "source": [
    "df['col'] = df['Rev']\n",
    "print(df)\n",
    "\n"
   ]
  },
  {
   "cell_type": "markdown",
   "metadata": {},
   "source": [
    "### 인덱스 즉 행의 명칭 추가 \n"
   ]
  },
  {
   "cell_type": "code",
   "execution_count": 21,
   "metadata": {},
   "outputs": [
    {
     "name": "stdout",
     "output_type": "stream",
     "text": [
      "   Rev  col\n",
      "a    0    0\n",
      "b    1    1\n",
      "c    2    2\n",
      "d    3    3\n",
      "e    4    4\n",
      "f    5    5\n",
      "g    6    6\n",
      "h    7    7\n",
      "i    8    8\n",
      "j    9    9\n"
     ]
    }
   ],
   "source": [
    "import pandas as pd\n",
    "\n",
    "# Our small data set\n",
    "d = [0,1,2,3,4,5,6,7,8,9]\n",
    "\n",
    "# Create dataframe\n",
    "df = pd.DataFrame(d)\n",
    "df.columns = ['Rev']\n",
    "df['col'] = df['Rev']\n",
    "i = ['a','b','c','d','e','f','g','h','i','j']\n",
    "df.index = i\n",
    "print(df)\n"
   ]
  },
  {
   "cell_type": "markdown",
   "metadata": {},
   "source": [
    "### 칼럼과 인덱스 조회하기 \n"
   ]
  },
  {
   "cell_type": "code",
   "execution_count": 14,
   "metadata": {},
   "outputs": [
    {
     "name": "stdout",
     "output_type": "stream",
     "text": [
      "{'is_copy': None, '_data': BlockManager\n",
      "Items: Index(['a', 'b', 'c', 'd'], dtype='object')\n",
      "Axis 1: Index(['series 1', 'series 2'], dtype='object')\n",
      "IntBlock: slice(0, 4, 1), 4 x 2, dtype: int64, '_item_cache': {}}\n",
      "Index(['series 1', 'series 2'], dtype='object')\n",
      "Index(['series 1', 'series 2'], dtype='object')\n",
      "Index(['a', 'b', 'c', 'd'], dtype='object')\n",
      "Index(['a', 'b', 'c', 'd'], dtype='object')\n"
     ]
    }
   ],
   "source": [
    "import pandas as pd\n",
    "d = {'a':1, 'b':2, 'c':3, 'd':4}\n",
    "\n",
    "obj1 = pd.Series(d, name=\"series 1\")\n",
    "obj2 = pd.Series(d, name=\"series 2\")\n",
    "\n",
    "df2 = pd.DataFrame([obj1,obj2])\n",
    "print(df2.__dict__)\n",
    "print(df2.axes[0])\n",
    "print(df2.index)\n",
    "print(df2.axes[1])\n",
    "print(df2.columns)"
   ]
  },
  {
   "cell_type": "markdown",
   "metadata": {},
   "source": [
    "## 검색하기 \n",
    "\n",
    "    dataframe은 기본으로 칼럼 단위로 조회를 한다.\n",
    "    행단위로 조회하기 위해서는 별도의 방식으로 조회가 필요해서 속성들을 이용해서 검색해야한다.\n",
    "    \n",
    "    "
   ]
  },
  {
   "cell_type": "markdown",
   "metadata": {},
   "source": [
    "###  일반 열(칼럼) 검색하기\n",
    "\n"
   ]
  },
  {
   "cell_type": "code",
   "execution_count": 66,
   "metadata": {},
   "outputs": [
    {
     "name": "stdout",
     "output_type": "stream",
     "text": [
      "a    0\n",
      "b    1\n",
      "c    2\n",
      "d    3\n",
      "e    4\n",
      "f    5\n",
      "g    6\n",
      "h    7\n",
      "i    8\n",
      "j    9\n",
      "Name: Rev, dtype: int64\n"
     ]
    }
   ],
   "source": [
    "import pandas as pd\n",
    "\n",
    "# Our small data set\n",
    "d = [0,1,2,3,4,5,6,7,8,9]\n",
    "\n",
    "# Create dataframe\n",
    "df = pd.DataFrame(d)\n",
    "df.columns = ['Rev']\n",
    "df['col'] = df['Rev']\n",
    "i = ['a','b','c','d','e','f','g','h','i','j']\n",
    "df.index = i\n",
    "print(df['Rev'])\n"
   ]
  },
  {
   "cell_type": "markdown",
   "metadata": {},
   "source": [
    "### 일반 열의 이름을 나열해서 멀티 칼럼 조회하기 \n"
   ]
  },
  {
   "cell_type": "code",
   "execution_count": 67,
   "metadata": {},
   "outputs": [
    {
     "name": "stdout",
     "output_type": "stream",
     "text": [
      "   Rev  col\n",
      "a    0    0\n",
      "b    1    1\n",
      "c    2    2\n",
      "d    3    3\n",
      "e    4    4\n",
      "f    5    5\n",
      "g    6    6\n",
      "h    7    7\n",
      "i    8    8\n",
      "j    9    9\n"
     ]
    }
   ],
   "source": [
    "import pandas as pd\n",
    "\n",
    "# Our small data set\n",
    "d = [0,1,2,3,4,5,6,7,8,9]\n",
    "\n",
    "# Create dataframe\n",
    "df = pd.DataFrame(d)\n",
    "df.columns = ['Rev']\n",
    "df['col'] = df['Rev']\n",
    "i = ['a','b','c','d','e','f','g','h','i','j']\n",
    "df.index = i\n",
    "print(df[['Rev', 'col']])\n"
   ]
  },
  {
   "cell_type": "markdown",
   "metadata": {},
   "source": [
    "###  loc 속성을 이용해서 행단위(index) 로 조회하기\n",
    "\n",
    "    인덱스의 정보를 가지고 행단위로 조회할 수 있다."
   ]
  },
  {
   "cell_type": "code",
   "execution_count": 64,
   "metadata": {},
   "outputs": [
    {
     "name": "stdout",
     "output_type": "stream",
     "text": [
      "Rev    0\n",
      "col    0\n",
      "Name: a, dtype: int64\n"
     ]
    }
   ],
   "source": [
    "import pandas as pd\n",
    "\n",
    "# Our small data set\n",
    "d = [0,1,2,3,4,5,6,7,8,9]\n",
    "\n",
    "# Create dataframe\n",
    "df = pd.DataFrame(d)\n",
    "df.columns = ['Rev']\n",
    "df['col'] = df['Rev']\n",
    "i = ['a','b','c','d','e','f','g','h','i','j']\n",
    "df.index = i\n",
    "print(df.loc['a'])\n"
   ]
  },
  {
   "cell_type": "markdown",
   "metadata": {},
   "source": [
    "### 멀티 행을 조회하기 위해서는 슬라이싱을 이용해서 처리한다."
   ]
  },
  {
   "cell_type": "code",
   "execution_count": 65,
   "metadata": {},
   "outputs": [
    {
     "name": "stdout",
     "output_type": "stream",
     "text": [
      "   Rev  col\n",
      "a    0    0\n",
      "b    1    1\n",
      "c    2    2\n"
     ]
    }
   ],
   "source": [
    "import pandas as pd\n",
    "\n",
    "# Our small data set\n",
    "d = [0,1,2,3,4,5,6,7,8,9]\n",
    "\n",
    "# Create dataframe\n",
    "df = pd.DataFrame(d)\n",
    "df.columns = ['Rev']\n",
    "df['col'] = df['Rev']\n",
    "i = ['a','b','c','d','e','f','g','h','i','j']\n",
    "df.index = i\n",
    "print(df.loc['a':'c'])\n"
   ]
  },
  {
   "cell_type": "markdown",
   "metadata": {},
   "source": [
    "###  loc 속성을 이용해서 칼럼과 인덱스 명으로 검색\n",
    "\n",
    "    칼럼명과 인덱스 명을 넣어서 행과 열을 조회한다.\n"
   ]
  },
  {
   "cell_type": "code",
   "execution_count": 16,
   "metadata": {},
   "outputs": [
    {
     "name": "stdout",
     "output_type": "stream",
     "text": [
      "          a  b  c  d\n",
      "series 1  1  2  3  4\n",
      "series 2  1  2  3  4\n",
      "a    1\n",
      "b    2\n",
      "c    3\n",
      "d    4\n",
      "Name: series 1, dtype: int64\n",
      "<class 'pandas.core.series.Series'>\n",
      "1\n",
      "<class 'numpy.int64'>\n"
     ]
    }
   ],
   "source": [
    "import pandas as pd\n",
    "d = {'a':1, 'b':2, 'c':3, 'd':4}\n",
    "\n",
    "obj1 = pd.Series(d, name=\"series 1\")\n",
    "obj2 = pd.Series(d, name=\"series 2\")\n",
    "\n",
    "df2 = pd.DataFrame([obj1,obj2])\n",
    "print(df2)\n",
    "print(df2.loc[\"series 1\"])\n",
    "print(type(df2.loc[\"series 1\"]))\n",
    "print(df2.loc[\"series 1\",'a'])\n",
    "print(type(df2.loc[\"series 1\",'a']))"
   ]
  },
  {
   "cell_type": "markdown",
   "metadata": {},
   "source": [
    "### at 속성을 이용해서 칼람명과 index에 의해 조회\n"
   ]
  },
  {
   "cell_type": "code",
   "execution_count": 15,
   "metadata": {},
   "outputs": [
    {
     "name": "stdout",
     "output_type": "stream",
     "text": [
      "          a  b  c  d\n",
      "series 1  1  2  3  4\n",
      "series 2  1  2  3  4\n",
      "1\n",
      "<class 'numpy.int64'>\n"
     ]
    }
   ],
   "source": [
    "import pandas as pd\n",
    "d = {'a':1, 'b':2, 'c':3, 'd':4}\n",
    "\n",
    "obj1 = pd.Series(d, name=\"series 1\")\n",
    "obj2 = pd.Series(d, name=\"series 2\")\n",
    "\n",
    "df2 = pd.DataFrame([obj1,obj2])\n",
    "print(df2)\n",
    "print(df2.at[\"series 1\",'a'])\n",
    "print(type(df2.at[\"series 1\",'a']))"
   ]
  },
  {
   "cell_type": "markdown",
   "metadata": {},
   "source": [
    "### ix 속성을 이용해서 정수로 검색\n"
   ]
  },
  {
   "cell_type": "markdown",
   "metadata": {},
   "source": [
    "####  행을 조회하기 \n",
    "\n",
    "    숫자를 넣어 행의 정보를 조회한다."
   ]
  },
  {
   "cell_type": "code",
   "execution_count": 74,
   "metadata": {},
   "outputs": [
    {
     "name": "stdout",
     "output_type": "stream",
     "text": [
      "          a  b  c  d\n",
      "series 1  1  2  3  4\n",
      "series 2  1  2  3  4\n",
      "a    1\n",
      "b    2\n",
      "c    3\n",
      "d    4\n",
      "Name: series 1, dtype: int64\n",
      "<class 'pandas.core.series.Series'>\n"
     ]
    }
   ],
   "source": [
    "import pandas as pd\n",
    "d = {'a':1, 'b':2, 'c':3, 'd':4}\n",
    "\n",
    "obj1 = pd.Series(d, name=\"series 1\")\n",
    "obj2 = pd.Series(d, name=\"series 2\")\n",
    "\n",
    "df2 = pd.DataFrame([obj1,obj2])\n",
    "print(df2)\n",
    "print(df2.ix[0])\n",
    "print(type(df2.ix[0]))\n"
   ]
  },
  {
   "cell_type": "markdown",
   "metadata": {},
   "source": [
    "####  실제 행을 중심으로 열의 값을 조회해서 값을 검색한다.\n"
   ]
  },
  {
   "cell_type": "code",
   "execution_count": 75,
   "metadata": {},
   "outputs": [
    {
     "name": "stdout",
     "output_type": "stream",
     "text": [
      "2\n",
      "<class 'numpy.int64'>\n"
     ]
    }
   ],
   "source": [
    "print(df2.ix[0,1])\n",
    "print(type(df2.ix[0,1]))"
   ]
  },
  {
   "cell_type": "markdown",
   "metadata": {},
   "source": [
    "####  슬라이스로 조회시 행으로 검색한다.\n",
    "\n",
    "    ix로 조회시도 마지막도 조회된다."
   ]
  },
  {
   "cell_type": "code",
   "execution_count": 79,
   "metadata": {},
   "outputs": [
    {
     "name": "stdout",
     "output_type": "stream",
     "text": [
      "       A      B                         C\n",
      "0    one  start  [47, 59, 55, 31, 91, 23]\n",
      "1    one    end  [47, 59, 55, 31, 91, 23]\n",
      "2    two  start  [47, 59, 55, 31, 91, 23]\n",
      "3    two    end  [47, 59, 55, 31, 91, 23]\n",
      "4  three  start  [47, 59, 55, 31, 91, 23]\n",
      "5  three    end  [47, 59, 55, 31, 91, 23]\n",
      ".....      A      B                         C\n",
      "0  one  start  [47, 59, 55, 31, 91, 23]\n",
      "1  one    end  [47, 59, 55, 31, 91, 23]\n",
      ".....      A      B                         C\n",
      "0  one  start  [47, 59, 55, 31, 91, 23]\n"
     ]
    }
   ],
   "source": [
    "\n",
    "import numpy as np\n",
    "import pandas as pd\n",
    "\n",
    "A = np.array(['one', 'one', 'two', 'two', 'three', 'three'])\n",
    "B = np.array(['start', 'end']*3)\n",
    "C = [np.random.randint(10, 99, 6)]*6\n",
    "\n",
    "df = pd.DataFrame(list(zip(A, B, C)), columns=['A', 'B', 'C'])\n",
    "print(df)\n",
    "\n",
    "print(\".....\",df.ix[0:1])\n",
    "print(\".....\", df[0:1])\n"
   ]
  },
  {
   "cell_type": "markdown",
   "metadata": {},
   "source": [
    "#### ix를 이용해서 행과 열을 조회\n",
    "\n",
    "    정수나 슬라이스로 행을 주고 칼럼명을 주어 열을 조회하면 행과열에 대한 정보를 조회한다.\n",
    "    "
   ]
  },
  {
   "cell_type": "code",
   "execution_count": 68,
   "metadata": {},
   "outputs": [
    {
     "name": "stdout",
     "output_type": "stream",
     "text": [
      "a    0\n",
      "b    1\n",
      "c    2\n",
      "Name: Rev, dtype: int64\n"
     ]
    }
   ],
   "source": [
    "import pandas as pd\n",
    "\n",
    "# Our small data set\n",
    "d = [0,1,2,3,4,5,6,7,8,9]\n",
    "\n",
    "# Create dataframe\n",
    "df = pd.DataFrame(d)\n",
    "df.columns = ['Rev']\n",
    "df['col'] = df['Rev']\n",
    "i = ['a','b','c','d','e','f','g','h','i','j']\n",
    "df.index = i\n",
    "print(df.ix[0:3,'Rev'])\n"
   ]
  },
  {
   "cell_type": "markdown",
   "metadata": {},
   "source": [
    "####  ix를 이용해서 멀티 열 조회하기\n",
    "\n",
    "    멀티 열에 대한 정보를 배열로 제공하면 행과 열에 대한 검색이 가능하다."
   ]
  },
  {
   "cell_type": "code",
   "execution_count": 69,
   "metadata": {},
   "outputs": [
    {
     "name": "stdout",
     "output_type": "stream",
     "text": [
      "   col  Rev\n",
      "a    0    0\n",
      "b    1    1\n",
      "c    2    2\n"
     ]
    }
   ],
   "source": [
    "import pandas as pd\n",
    "\n",
    "# Our small data set\n",
    "d = [0,1,2,3,4,5,6,7,8,9]\n",
    "\n",
    "# Create dataframe\n",
    "df = pd.DataFrame(d)\n",
    "df.columns = ['Rev']\n",
    "df['col'] = df['Rev']\n",
    "i = ['a','b','c','d','e','f','g','h','i','j']\n",
    "df.index = i\n",
    "print(df.ix[:3,['col', 'Rev']])\n"
   ]
  },
  {
   "cell_type": "markdown",
   "metadata": {},
   "source": [
    "### 논리 검색 후 갱신하기\n",
    "\n"
   ]
  },
  {
   "cell_type": "code",
   "execution_count": 18,
   "metadata": {},
   "outputs": [
    {
     "name": "stdout",
     "output_type": "stream",
     "text": [
      "   AAA  BBB  CCC\n",
      "0    4   10  100\n",
      "1    5   20   50\n",
      "2    6   30  -30\n",
      "3    7   40  -50\n",
      "   AAA  BBB  CCC\n",
      "0    4   10  100\n",
      "1    5   -1   50\n",
      "2    6   -1  -30\n",
      "3    7   -1  -50\n",
      "   AAA  BBB  CCC\n",
      "0    4   10  100\n",
      "1    5  555  555\n",
      "2    6  555  555\n",
      "3    7  555  555\n"
     ]
    }
   ],
   "source": [
    "import pandas as pd\n",
    "\n",
    "data = {'AAA' : [4,5,6,7], \n",
    "        'BBB' : [10,20,30,40],\n",
    "        'CCC' : [100,50,-30,-50]}\n",
    "df = pd.DataFrame(data)\n",
    "\n",
    "print(df)\n",
    "df.ix[df.AAA >= 5,'BBB'] = -1\n",
    "print(df)\n",
    "df.ix[df.AAA >= 5,['BBB','CCC']] = 555\n",
    "print(df)"
   ]
  },
  {
   "cell_type": "code",
   "execution_count": 20,
   "metadata": {},
   "outputs": [
    {
     "name": "stdout",
     "output_type": "stream",
     "text": [
      "   CCC  BBB  AAA\n",
      "a  100   10    4\n",
      "b   50   20    5\n",
      "c  -30   30    6\n",
      "d  -50   40    7\n",
      "a    4\n",
      "b    5\n",
      "c    6\n",
      "d    7\n",
      "Name: AAA, dtype: int64\n",
      "a    10\n",
      "b    20\n",
      "c    30\n",
      "d    40\n",
      "Name: BBB, dtype: int64\n",
      "a    100\n",
      "b     50\n",
      "c    -30\n",
      "d    -50\n",
      "Name: CCC, dtype: int64\n"
     ]
    }
   ],
   "source": [
    "import pandas as pd\n",
    "\n",
    "data = {'AAA' : [4,5,6,7], \n",
    "        'BBB' : [10,20,30,40],\n",
    "        'CCC' : [100,50,-30,-50]}\n",
    "df = pd.DataFrame(data, \n",
    "                  index=['a','b','c','d'], \n",
    "                  columns=list(data.keys()))\n",
    "print(df)\n",
    "#column 명으로 조회\n",
    "print(df.AAA)\n",
    "print(df.BBB)\n",
    "print(df.CCC)\n"
   ]
  },
  {
   "cell_type": "markdown",
   "metadata": {},
   "source": [
    "### 칼럼명은 객체 접근 연산을 이용해서 처리 가능\n",
    "\n",
    "    객체 접근 처럼 칼럼단위로 조회 및 갱신 \n",
    "    "
   ]
  },
  {
   "cell_type": "code",
   "execution_count": 21,
   "metadata": {},
   "outputs": [
    {
     "name": "stdout",
     "output_type": "stream",
     "text": [
      "   CCC  BBB  AAA\n",
      "a  100   10    4\n",
      "b   50   20    5\n",
      "c  -30   30    6\n",
      "d  -50   40    7\n",
      "a    999\n",
      "b    999\n",
      "c    999\n",
      "d    999\n",
      "Name: AAA, dtype: int64\n"
     ]
    }
   ],
   "source": [
    "import pandas as pd\n",
    "\n",
    "data = {'AAA' : [4,5,6,7], \n",
    "        'BBB' : [10,20,30,40],\n",
    "        'CCC' : [100,50,-30,-50]}\n",
    "df = pd.DataFrame(data, \n",
    "                  index=['a','b','c','d'], \n",
    "                  columns=list(data.keys()))\n",
    "print(df)\n",
    "#column 단위 갱신 \n",
    "df.AAA = 999\n",
    "print(df.AAA)\n",
    "\n"
   ]
  },
  {
   "cell_type": "code",
   "execution_count": 22,
   "metadata": {},
   "outputs": [
    {
     "name": "stdout",
     "output_type": "stream",
     "text": [
      "   CCC  BBB  AAA\n",
      "a  100   10    4\n",
      "b   50   20    5\n",
      "c  -30   30    6\n",
      "d  -50   40    7\n",
      "a    0\n",
      "b    1\n",
      "c    2\n",
      "d    3\n",
      "Name: AAA, dtype: int32\n"
     ]
    }
   ],
   "source": [
    "import pandas as pd\n",
    "import numpy as np\n",
    "\n",
    "data = {'AAA' : [4,5,6,7], \n",
    "        'BBB' : [10,20,30,40],\n",
    "        'CCC' : [100,50,-30,-50]}\n",
    "df = pd.DataFrame(data, \n",
    "                  index=['a','b','c','d'], \n",
    "                  columns=list(data.keys()))\n",
    "print(df)\n",
    "#column 단위 갱신 \n",
    "df['AAA'] = np.arange(4)\n",
    "print(df.AAA)"
   ]
  },
  {
   "cell_type": "code",
   "execution_count": 23,
   "metadata": {},
   "outputs": [
    {
     "name": "stdout",
     "output_type": "stream",
     "text": [
      "   CCC  BBB  AAA\n",
      "a  100   10    4\n",
      "b   50   20    5\n",
      "c  -30   30    6\n",
      "d  -50   40    7\n",
      "   CCC  BBB  AAA    a\n",
      "a  100   10    4  999\n",
      "b   50   20    5  999\n",
      "c  -30   30    6  999\n",
      "d  -50   40    7  999\n"
     ]
    }
   ],
   "source": [
    "import pandas as pd\n",
    "import numpy as np\n",
    "\n",
    "data = {'AAA' : [4,5,6,7], \n",
    "        'BBB' : [10,20,30,40],\n",
    "        'CCC' : [100,50,-30,-50]}\n",
    "df = pd.DataFrame(data, \n",
    "                  index=['a','b','c','d'], \n",
    "                  columns=list(data.keys()))\n",
    "print(df)\n",
    "#column 단위 갱신 \n",
    "df['a'] = 999\n",
    "print(df)"
   ]
  },
  {
   "cell_type": "code",
   "execution_count": 25,
   "metadata": {},
   "outputs": [
    {
     "name": "stdout",
     "output_type": "stream",
     "text": [
      "   CCC  BBB  AAA\n",
      "a  100   10    4\n",
      "b   50   20    5\n",
      "c  -30   30    6\n",
      "d  -50   40    7\n"
     ]
    }
   ],
   "source": [
    "import pandas as pd\n",
    "import numpy as np\n",
    "\n",
    "data = {'AAA' : [4,5,6,7], \n",
    "        'BBB' : [10,20,30,40],\n",
    "        'CCC' : [100,50,-30,-50]}\n",
    "df = pd.DataFrame(data, \n",
    "                  index=['a','b','c','d'], \n",
    "                  columns=list(data.keys()))\n",
    "print(df)"
   ]
  },
  {
   "cell_type": "markdown",
   "metadata": {},
   "source": [
    "### index는 하나씩 변경은 불가하지만 전체를 대체할 수 있다.\n",
    "\n"
   ]
  },
  {
   "cell_type": "code",
   "execution_count": 26,
   "metadata": {},
   "outputs": [
    {
     "ename": "TypeError",
     "evalue": "Index does not support mutable operations",
     "output_type": "error",
     "traceback": [
      "\u001b[0;31m---------------------------------------------------------------------------\u001b[0m",
      "\u001b[0;31mTypeError\u001b[0m                                 Traceback (most recent call last)",
      "\u001b[0;32m<ipython-input-26-936b593c08d2>\u001b[0m in \u001b[0;36m<module>\u001b[0;34m()\u001b[0m\n\u001b[1;32m      9\u001b[0m                   columns=list(data.keys()))\n\u001b[1;32m     10\u001b[0m \u001b[1;33m\u001b[0m\u001b[0m\n\u001b[0;32m---> 11\u001b[0;31m \u001b[0mdf\u001b[0m\u001b[1;33m.\u001b[0m\u001b[0mindex\u001b[0m\u001b[1;33m[\u001b[0m\u001b[1;36m0\u001b[0m\u001b[1;33m]\u001b[0m \u001b[1;33m=\u001b[0m \u001b[1;34m'z'\u001b[0m\u001b[1;33m\u001b[0m\u001b[0m\n\u001b[0m",
      "\u001b[0;32mC:\\Program Files\\Anaconda3\\lib\\site-packages\\pandas\\indexes\\base.py\u001b[0m in \u001b[0;36m__setitem__\u001b[0;34m(self, key, value)\u001b[0m\n\u001b[1;32m   1243\u001b[0m \u001b[1;33m\u001b[0m\u001b[0m\n\u001b[1;32m   1244\u001b[0m     \u001b[1;32mdef\u001b[0m \u001b[0m__setitem__\u001b[0m\u001b[1;33m(\u001b[0m\u001b[0mself\u001b[0m\u001b[1;33m,\u001b[0m \u001b[0mkey\u001b[0m\u001b[1;33m,\u001b[0m \u001b[0mvalue\u001b[0m\u001b[1;33m)\u001b[0m\u001b[1;33m:\u001b[0m\u001b[1;33m\u001b[0m\u001b[0m\n\u001b[0;32m-> 1245\u001b[0;31m         \u001b[1;32mraise\u001b[0m \u001b[0mTypeError\u001b[0m\u001b[1;33m(\u001b[0m\u001b[1;34m\"Index does not support mutable operations\"\u001b[0m\u001b[1;33m)\u001b[0m\u001b[1;33m\u001b[0m\u001b[0m\n\u001b[0m\u001b[1;32m   1246\u001b[0m \u001b[1;33m\u001b[0m\u001b[0m\n\u001b[1;32m   1247\u001b[0m     \u001b[1;32mdef\u001b[0m \u001b[0m__getitem__\u001b[0m\u001b[1;33m(\u001b[0m\u001b[0mself\u001b[0m\u001b[1;33m,\u001b[0m \u001b[0mkey\u001b[0m\u001b[1;33m)\u001b[0m\u001b[1;33m:\u001b[0m\u001b[1;33m\u001b[0m\u001b[0m\n",
      "\u001b[0;31mTypeError\u001b[0m: Index does not support mutable operations"
     ]
    }
   ],
   "source": [
    "import pandas as pd\n",
    "import numpy as np\n",
    "\n",
    "data = {'AAA' : [4,5,6,7], \n",
    "        'BBB' : [10,20,30,40],\n",
    "        'CCC' : [100,50,-30,-50]}\n",
    "df = pd.DataFrame(data, \n",
    "                  index=['a','b','c','d'], \n",
    "                  columns=list(data.keys()))\n",
    "\n",
    "df.index[0] = 'z'"
   ]
  },
  {
   "cell_type": "code",
   "execution_count": 28,
   "metadata": {},
   "outputs": [
    {
     "name": "stdout",
     "output_type": "stream",
     "text": [
      "   CCC  BBB  AAA\n",
      "z  100   10    4\n",
      "y   50   20    5\n",
      "x  -30   30    6\n",
      "w  -50   40    7\n"
     ]
    }
   ],
   "source": [
    "import pandas as pd\n",
    "import numpy as np\n",
    "\n",
    "data = {'AAA' : [4,5,6,7], \n",
    "        'BBB' : [10,20,30,40],\n",
    "        'CCC' : [100,50,-30,-50]}\n",
    "df = pd.DataFrame(data, \n",
    "                  index=['a','b','c','d'], \n",
    "                  columns=list(data.keys()))\n",
    "\n",
    "df.index = ['z','y','x','w']\n",
    "print(df)"
   ]
  },
  {
   "cell_type": "code",
   "execution_count": 29,
   "metadata": {},
   "outputs": [
    {
     "name": "stdout",
     "output_type": "stream",
     "text": [
      "   CCC  BBB  AAA\n",
      "a  100   10    4\n",
      "b   50   20    5\n",
      "c  -30   30    6\n",
      "d  -50   40    7\n",
      "Index(['a', 'b', 'c', 'd'], dtype='object')\n",
      "   CCC  BBB  AAA\n",
      "z  100   10    4\n",
      "x   50   20    5\n",
      "y  -30   30    6\n",
      "t  -50   40    7\n",
      "Index(['z', 'x', 'y', 't'], dtype='object')\n"
     ]
    }
   ],
   "source": [
    "import pandas as pd\n",
    "import numpy as np\n",
    "\n",
    "data = {'AAA' : [4,5,6,7], \n",
    "        'BBB' : [10,20,30,40],\n",
    "        'CCC' : [100,50,-30,-50]}\n",
    "df = pd.DataFrame(data, \n",
    "                  index=['a','b','c','d'], \n",
    "                  columns=list(data.keys()))\n",
    "print(df)\n",
    "print(df.index)\n",
    "df.index = ['z','x','y','t']\n",
    "print(df)\n",
    "print(df.index)"
   ]
  },
  {
   "cell_type": "markdown",
   "metadata": {},
   "source": [
    "### reindex 처리 하기\n",
    "\n"
   ]
  },
  {
   "cell_type": "code",
   "execution_count": 6,
   "metadata": {},
   "outputs": [
    {
     "name": "stdout",
     "output_type": "stream",
     "text": [
      "Help on method reindex in module pandas.core.frame:\n",
      "\n",
      "reindex(index=None, columns=None, **kwargs) method of pandas.core.frame.DataFrame instance\n",
      "    Conform DataFrame to new index with optional filling logic, placing\n",
      "    NA/NaN in locations having no value in the previous index. A new object\n",
      "    is produced unless the new index is equivalent to the current one and\n",
      "    copy=False\n",
      "    \n",
      "    Parameters\n",
      "    ----------\n",
      "    index, columns : array-like, optional (can be specified in order, or as\n",
      "        keywords)\n",
      "        New labels / index to conform to. Preferably an Index object to\n",
      "        avoid duplicating data\n",
      "    method : {None, 'backfill'/'bfill', 'pad'/'ffill', 'nearest'}, optional\n",
      "        method to use for filling holes in reindexed DataFrame.\n",
      "        Please note: this is only  applicable to DataFrames/Series with a\n",
      "        monotonically increasing/decreasing index.\n",
      "    \n",
      "        * default: don't fill gaps\n",
      "        * pad / ffill: propagate last valid observation forward to next\n",
      "          valid\n",
      "        * backfill / bfill: use next valid observation to fill gap\n",
      "        * nearest: use nearest valid observations to fill gap\n",
      "    \n",
      "    copy : boolean, default True\n",
      "        Return a new object, even if the passed indexes are the same\n",
      "    level : int or name\n",
      "        Broadcast across a level, matching Index values on the\n",
      "        passed MultiIndex level\n",
      "    fill_value : scalar, default np.NaN\n",
      "        Value to use for missing values. Defaults to NaN, but can be any\n",
      "        \"compatible\" value\n",
      "    limit : int, default None\n",
      "        Maximum number of consecutive elements to forward or backward fill\n",
      "    tolerance : optional\n",
      "        Maximum distance between original and new labels for inexact\n",
      "        matches. The values of the index at the matching locations most\n",
      "        satisfy the equation ``abs(index[indexer] - target) <= tolerance``.\n",
      "    \n",
      "        .. versionadded:: 0.17.0\n",
      "    \n",
      "    Examples\n",
      "    --------\n",
      "    \n",
      "    Create a dataframe with some fictional data.\n",
      "    \n",
      "    >>> index = ['Firefox', 'Chrome', 'Safari', 'IE10', 'Konqueror']\n",
      "    >>> df = pd.DataFrame({\n",
      "    ...      'http_status': [200,200,404,404,301],\n",
      "    ...      'response_time': [0.04, 0.02, 0.07, 0.08, 1.0]},\n",
      "    ...       index=index)\n",
      "    >>> df\n",
      "                http_status  response_time\n",
      "    Firefox            200           0.04\n",
      "    Chrome             200           0.02\n",
      "    Safari             404           0.07\n",
      "    IE10               404           0.08\n",
      "    Konqueror          301           1.00\n",
      "    \n",
      "    Create a new index and reindex the dataframe. By default\n",
      "    values in the new index that do not have corresponding\n",
      "    records in the dataframe are assigned ``NaN``.\n",
      "    \n",
      "    >>> new_index= ['Safari', 'Iceweasel', 'Comodo Dragon', 'IE10',\n",
      "    ...             'Chrome']\n",
      "    >>> df.reindex(new_index)\n",
      "                   http_status  response_time\n",
      "    Safari                 404           0.07\n",
      "    Iceweasel              NaN            NaN\n",
      "    Comodo Dragon          NaN            NaN\n",
      "    IE10                   404           0.08\n",
      "    Chrome                 200           0.02\n",
      "    \n",
      "    We can fill in the missing values by passing a value to\n",
      "    the keyword ``fill_value``. Because the index is not monotonically\n",
      "    increasing or decreasing, we cannot use arguments to the keyword\n",
      "    ``method`` to fill the ``NaN`` values.\n",
      "    \n",
      "    >>> df.reindex(new_index, fill_value=0)\n",
      "                   http_status  response_time\n",
      "    Safari                 404           0.07\n",
      "    Iceweasel                0           0.00\n",
      "    Comodo Dragon            0           0.00\n",
      "    IE10                   404           0.08\n",
      "    Chrome                 200           0.02\n",
      "    \n",
      "    >>> df.reindex(new_index, fill_value='missing')\n",
      "                  http_status response_time\n",
      "    Safari                404          0.07\n",
      "    Iceweasel         missing       missing\n",
      "    Comodo Dragon     missing       missing\n",
      "    IE10                  404          0.08\n",
      "    Chrome                200          0.02\n",
      "    \n",
      "    To further illustrate the filling functionality in\n",
      "    ``reindex``, we will create a dataframe with a\n",
      "    monotonically increasing index (for example, a sequence\n",
      "    of dates).\n",
      "    \n",
      "    >>> date_index = pd.date_range('1/1/2010', periods=6, freq='D')\n",
      "    >>> df2 = pd.DataFrame({\"prices\": [100, 101, np.nan, 100, 89, 88]},\n",
      "    ...                    index=date_index)\n",
      "    >>> df2\n",
      "                prices\n",
      "    2010-01-01     100\n",
      "    2010-01-02     101\n",
      "    2010-01-03     NaN\n",
      "    2010-01-04     100\n",
      "    2010-01-05      89\n",
      "    2010-01-06      88\n",
      "    \n",
      "    Suppose we decide to expand the dataframe to cover a wider\n",
      "    date range.\n",
      "    \n",
      "    >>> date_index2 = pd.date_range('12/29/2009', periods=10, freq='D')\n",
      "    >>> df2.reindex(date_index2)\n",
      "                prices\n",
      "    2009-12-29     NaN\n",
      "    2009-12-30     NaN\n",
      "    2009-12-31     NaN\n",
      "    2010-01-01     100\n",
      "    2010-01-02     101\n",
      "    2010-01-03     NaN\n",
      "    2010-01-04     100\n",
      "    2010-01-05      89\n",
      "    2010-01-06      88\n",
      "    2010-01-07     NaN\n",
      "    \n",
      "    The index entries that did not have a value in the original data frame\n",
      "    (for example, '2009-12-29') are by default filled with ``NaN``.\n",
      "    If desired, we can fill in the missing values using one of several\n",
      "    options.\n",
      "    \n",
      "    For example, to backpropagate the last valid value to fill the ``NaN``\n",
      "    values, pass ``bfill`` as an argument to the ``method`` keyword.\n",
      "    \n",
      "    >>> df2.reindex(date_index2, method='bfill')\n",
      "                prices\n",
      "    2009-12-29     100\n",
      "    2009-12-30     100\n",
      "    2009-12-31     100\n",
      "    2010-01-01     100\n",
      "    2010-01-02     101\n",
      "    2010-01-03     NaN\n",
      "    2010-01-04     100\n",
      "    2010-01-05      89\n",
      "    2010-01-06      88\n",
      "    2010-01-07     NaN\n",
      "    \n",
      "    Please note that the ``NaN`` value present in the original dataframe\n",
      "    (at index value 2010-01-03) will not be filled by any of the\n",
      "    value propagation schemes. This is because filling while reindexing\n",
      "    does not look at dataframe values, but only compares the original and\n",
      "    desired indexes. If you do want to fill in the ``NaN`` values present\n",
      "    in the original dataframe, use the ``fillna()`` method.\n",
      "    \n",
      "    Returns\n",
      "    -------\n",
      "    reindexed : DataFrame\n",
      "\n"
     ]
    }
   ],
   "source": [
    "help(df.reindex)"
   ]
  },
  {
   "cell_type": "code",
   "execution_count": 4,
   "metadata": {},
   "outputs": [
    {
     "name": "stdout",
     "output_type": "stream",
     "text": [
      "   0\n",
      "0  1\n",
      "1  2\n",
      "2  3\n",
      "3  4\n",
      "4  5\n",
      "    0\n",
      "a NaN\n",
      "b NaN\n",
      "c NaN\n",
      "d NaN\n",
      "e NaN\n",
      "f NaN\n"
     ]
    }
   ],
   "source": [
    "import pandas as pd\n",
    "import numpy as np\n",
    "\n",
    "a = pd.DataFrame([1,2,3,4,5])\n",
    "print(a)\n",
    "b = a.reindex(index=['a','b','c','d','e','f'])\n",
    "print(b)"
   ]
  },
  {
   "cell_type": "code",
   "execution_count": 5,
   "metadata": {},
   "outputs": [
    {
     "name": "stdout",
     "output_type": "stream",
     "text": [
      "                   A         B         C         D\n",
      "2013-01-01 -1.288119  1.726930  0.608596 -0.607587\n",
      "2013-01-02 -0.771351 -0.438162 -1.615870  0.160002\n",
      "2013-01-03  0.945229 -0.586036 -1.100246 -0.371784\n",
      "2013-01-04  1.298379  0.124098  1.285135 -0.998753\n",
      "2013-01-05  0.713224  1.312088 -0.119689  2.069361\n",
      "2013-01-06 -0.092689 -0.830337 -0.737242 -0.689488\n",
      "                   A         B         C         D\n",
      "2013-01-01 -1.288119  1.726930  0.608596 -0.607587\n",
      "2013-01-02 -0.771351 -0.438162 -1.615870  0.160002\n",
      "2013-01-03  0.945229 -0.586036 -1.100246 -0.371784\n",
      "2013-01-04  1.298379  0.124098  1.285135 -0.998753\n",
      "2013-01-05  0.713224  1.312088 -0.119689  2.069361\n",
      "2013-01-06 -0.092689 -0.830337 -0.737242 -0.689488\n",
      "2013-01-07 -0.092689 -0.830337 -0.737242 -0.689488\n"
     ]
    }
   ],
   "source": [
    "import pandas as pd\n",
    "import numpy as np\n",
    "\n",
    "dates = pd.date_range('20130101', periods=6)\n",
    "date7 = pd.date_range('20130101', periods=7)\n",
    "df = pd.DataFrame(np.random.randn(6,4), index=dates, columns=list('ABCD'))\n",
    "print(df)\n",
    "print(df.reindex(index=date7,method='ffill'))"
   ]
  },
  {
   "cell_type": "code",
   "execution_count": 33,
   "metadata": {},
   "outputs": [
    {
     "name": "stdout",
     "output_type": "stream",
     "text": [
      "    f   g   h   i\n",
      "a   0   1   2   3\n",
      "b   4   5   6   7\n",
      "c   8   9  10  11\n",
      "d  12  13  14  15\n",
      "    f  c   g   h\n",
      "a   0  0   1   2\n",
      "b   4  0   5   6\n",
      "c   8  0   9  10\n",
      "d  12  0  13  14\n",
      "    f   g   h   i\n",
      "a   0   1   2   3\n",
      "c   8   9  10  11\n",
      "e   0   0   0   0\n",
      "d  12  13  14  15\n"
     ]
    }
   ],
   "source": [
    "import pandas as pd\n",
    "import numpy as np\n",
    "\n",
    "df = pd.DataFrame(np.arange(16).reshape(4,4), \n",
    "                  index=['a','b','c','d'],\n",
    "                  columns=['f','g','h','i'])\n",
    "print(df)\n",
    "print(df.reindex( columns=[\"f\",\"c\",\"g\",\"h\"],fill_value=0))\n",
    "print(df.reindex( index=[\"a\",\"c\",\"e\",\"d\"],fill_value=0))"
   ]
  },
  {
   "cell_type": "code",
   "execution_count": 32,
   "metadata": {},
   "outputs": [
    {
     "name": "stdout",
     "output_type": "stream",
     "text": [
      "    f   g   h   i\n",
      "d  12  13  14  15\n",
      "c   8   9  10  11\n",
      "b   4   5   6   7\n",
      "a   0   1   2   3\n",
      "e   0   0   0   0\n",
      "['d', 'c', 'b', 'a']\n",
      "    f   g   h   i\n",
      "d  12  13  14  15\n",
      "c   8   9  10  11\n",
      "b   4   5   6   7\n",
      "a   0   1   2   3\n"
     ]
    }
   ],
   "source": [
    "import pandas as pd\n",
    "import numpy as np\n",
    "\n",
    "df = pd.DataFrame(np.arange(16).reshape(4,4), \n",
    "                  index=['a','b','c','d'],\n",
    "                  columns=['f','g','h','i'])\n",
    "\n",
    "print(df.reindex([\"d\",\"c\",\"b\",\"a\",\"e\"], fill_value=0))\n",
    "lr = list(df.index)\n",
    "lr.reverse()\n",
    "print(lr)\n",
    "print(df.reindex(lr))"
   ]
  },
  {
   "cell_type": "markdown",
   "metadata": {},
   "source": [
    "### matplotlib으로 그래프 그리기\n"
   ]
  },
  {
   "cell_type": "code",
   "execution_count": 10,
   "metadata": {},
   "outputs": [
    {
     "name": "stdout",
     "output_type": "stream",
     "text": [
      "   ser1  ser2\n",
      "0     1     1\n",
      "1     2     2\n",
      "2     3     3\n",
      "3     4     4\n"
     ]
    },
    {
     "data": {
      "image/png": "[encoded data removed]",
      "text/plain": [
       "<matplotlib.figure.Figure at 0x91509b0>"
      ]
     },
     "metadata": {},
     "output_type": "display_data"
    }
   ],
   "source": [
    "%matplotlib inline\n",
    "import pandas as pd\n",
    "import matplotlib.pyplot as plt\n",
    "\n",
    "s = pd.Series([1,2,3,4], name=\"ser1\")\n",
    "\n",
    "s1 = pd.Series([1,2,3,4], name=\"ser2\")\n",
    "\n",
    "p = pd.DataFrame({'ser1':s, \"ser2\":s1})\n",
    "print(p)\n",
    "plt.plot(p[\"ser1\"],p[\"ser2\"])\n",
    "plt.show()"
   ]
  },
  {
   "cell_type": "code",
   "execution_count": 30,
   "metadata": {},
   "outputs": [
    {
     "name": "stdout",
     "output_type": "stream",
     "text": [
      "    f   g   h   i\n",
      "a   0   2   4   6\n",
      "b   8  10  12  14\n",
      "c  16  18  20  22\n",
      "d  24  26  28  30\n",
      "   f  g  h  i\n",
      "a  0  0  0  0\n",
      "b  0  0  0  0\n",
      "c  0  0  0  0\n",
      "d  0  0  0  0\n",
      "     f    g    h    i\n",
      "a    0    1    4    9\n",
      "b   16   25   36   49\n",
      "c   64   81  100  121\n",
      "d  144  169  196  225\n"
     ]
    }
   ],
   "source": [
    "import pandas as pd\n",
    "import numpy as np\n",
    "\n",
    "df = pd.DataFrame(np.arange(16).reshape(4,4), \n",
    "                  index=['a','b','c','d'],\n",
    "                  columns=['f','g','h','i'])\n",
    "    \n",
    "print(df.add(df))\n",
    "print(df.sub(df))\n",
    "print(df.mul(df))"
   ]
  },
  {
   "cell_type": "markdown",
   "metadata": {},
   "source": [
    "### 산술 연산 하기\n"
   ]
  },
  {
   "cell_type": "code",
   "execution_count": 31,
   "metadata": {},
   "outputs": [
    {
     "name": "stdout",
     "output_type": "stream",
     "text": [
      "     f    g    h    i\n",
      "a  NaN  1.0  1.0  1.0\n",
      "b  1.0  1.0  1.0  1.0\n",
      "c  1.0  1.0  1.0  1.0\n",
      "d  1.0  1.0  1.0  1.0\n",
      "     f    g    h    i\n",
      "a  NaN  1.0  1.0  1.0\n",
      "b  1.0  1.0  1.0  1.0\n",
      "c  1.0  1.0  1.0  1.0\n",
      "d  1.0  1.0  1.0  1.0\n",
      "     f    g    h    i\n",
      "a  NaN  0.0  0.0  0.0\n",
      "b  0.0  0.0  0.0  0.0\n",
      "c  0.0  0.0  0.0  0.0\n",
      "d  0.0  0.0  0.0  0.0\n"
     ]
    }
   ],
   "source": [
    "import pandas as pd\n",
    "import numpy as np\n",
    "\n",
    "df = pd.DataFrame(np.arange(16).reshape(4,4), \n",
    "                  index=['a','b','c','d'],\n",
    "                  columns=['f','g','h','i'])\n",
    "    \n",
    "print(df.truediv(df))\n",
    "print(df.floordiv(df))\n",
    "print(df.mod(df))"
   ]
  },
  {
   "cell_type": "markdown",
   "metadata": {},
   "source": [
    "## 인덱스 및 칼럼 제거하기 \n"
   ]
  },
  {
   "cell_type": "code",
   "execution_count": 52,
   "metadata": {},
   "outputs": [
    {
     "name": "stdout",
     "output_type": "stream",
     "text": [
      "    f   g   h   i\n",
      "a   0   1   2   3\n",
      "b   4   5   6   7\n",
      "c   8   9  10  11\n",
      "d  12  13  14  15\n",
      "    f   g   h   i\n",
      "c   8   9  10  11\n",
      "d  12  13  14  15\n"
     ]
    }
   ],
   "source": [
    "import pandas as pd\n",
    "import numpy as np\n",
    "\n",
    "df = pd.DataFrame(np.arange(16).reshape(4,4), \n",
    "                  index=['a','b','c','d'],\n",
    "                  columns=['f','g','h','i'])\n",
    "print(df)\n",
    "print(df.drop(['a','b']))\n"
   ]
  },
  {
   "cell_type": "markdown",
   "metadata": {},
   "source": [
    "#### 칼럼 제거"
   ]
  },
  {
   "cell_type": "code",
   "execution_count": 54,
   "metadata": {},
   "outputs": [
    {
     "name": "stdout",
     "output_type": "stream",
     "text": [
      "    h   i\n",
      "a   2   3\n",
      "b   6   7\n",
      "c  10  11\n",
      "d  14  15\n",
      "    f   g   h   i\n",
      "a   0   1   2   3\n",
      "b   4   5   6   7\n",
      "c   8   9  10  11\n",
      "d  12  13  14  15\n"
     ]
    }
   ],
   "source": [
    "print(df.drop(['f','g'],axis=1))\n",
    "print(df)"
   ]
  },
  {
   "cell_type": "markdown",
   "metadata": {},
   "source": [
    "### 없는 칼럼 조회 "
   ]
  },
  {
   "cell_type": "code",
   "execution_count": 39,
   "metadata": {},
   "outputs": [
    {
     "name": "stdout",
     "output_type": "stream",
     "text": [
      "    f   g   h   i\n",
      "0   0   1   2   3\n",
      "1   4   5   6   7\n",
      "2   8   9  10  11\n",
      "3  12  13  14  15\n"
     ]
    },
    {
     "ename": "KeyError",
     "evalue": "'a'",
     "output_type": "error",
     "traceback": [
      "\u001b[0;31m---------------------------------------------------------------------------\u001b[0m",
      "\u001b[0;31mKeyError\u001b[0m                                  Traceback (most recent call last)",
      "\u001b[0;32mC:\\Program Files\\Anaconda3\\lib\\site-packages\\pandas\\indexes\\base.py\u001b[0m in \u001b[0;36mget_loc\u001b[0;34m(self, key, method, tolerance)\u001b[0m\n\u001b[1;32m   1944\u001b[0m             \u001b[1;32mtry\u001b[0m\u001b[1;33m:\u001b[0m\u001b[1;33m\u001b[0m\u001b[0m\n\u001b[0;32m-> 1945\u001b[0;31m                 \u001b[1;32mreturn\u001b[0m \u001b[0mself\u001b[0m\u001b[1;33m.\u001b[0m\u001b[0m_engine\u001b[0m\u001b[1;33m.\u001b[0m\u001b[0mget_loc\u001b[0m\u001b[1;33m(\u001b[0m\u001b[0mkey\u001b[0m\u001b[1;33m)\u001b[0m\u001b[1;33m\u001b[0m\u001b[0m\n\u001b[0m\u001b[1;32m   1946\u001b[0m             \u001b[1;32mexcept\u001b[0m \u001b[0mKeyError\u001b[0m\u001b[1;33m:\u001b[0m\u001b[1;33m\u001b[0m\u001b[0m\n",
      "\u001b[0;32mpandas\\index.pyx\u001b[0m in \u001b[0;36mpandas.index.IndexEngine.get_loc (pandas\\index.c:4154)\u001b[0;34m()\u001b[0m\n",
      "\u001b[0;32mpandas\\index.pyx\u001b[0m in \u001b[0;36mpandas.index.IndexEngine.get_loc (pandas\\index.c:4018)\u001b[0;34m()\u001b[0m\n",
      "\u001b[0;32mpandas\\hashtable.pyx\u001b[0m in \u001b[0;36mpandas.hashtable.PyObjectHashTable.get_item (pandas\\hashtable.c:12368)\u001b[0;34m()\u001b[0m\n",
      "\u001b[0;32mpandas\\hashtable.pyx\u001b[0m in \u001b[0;36mpandas.hashtable.PyObjectHashTable.get_item (pandas\\hashtable.c:12322)\u001b[0;34m()\u001b[0m\n",
      "\u001b[0;31mKeyError\u001b[0m: 'a'",
      "\nDuring handling of the above exception, another exception occurred:\n",
      "\u001b[0;31mKeyError\u001b[0m                                  Traceback (most recent call last)",
      "\u001b[0;32m<ipython-input-39-f3779516a170>\u001b[0m in \u001b[0;36m<module>\u001b[0;34m()\u001b[0m\n\u001b[1;32m      5\u001b[0m                   columns=['f','g','h','i'])\n\u001b[1;32m      6\u001b[0m \u001b[0mprint\u001b[0m\u001b[1;33m(\u001b[0m\u001b[0mdf\u001b[0m\u001b[1;33m)\u001b[0m\u001b[1;33m\u001b[0m\u001b[0m\n\u001b[0;32m----> 7\u001b[0;31m \u001b[0mprint\u001b[0m\u001b[1;33m(\u001b[0m\u001b[0mdf\u001b[0m\u001b[1;33m[\u001b[0m\u001b[1;34m'a'\u001b[0m\u001b[1;33m]\u001b[0m\u001b[1;33m)\u001b[0m\u001b[1;33m\u001b[0m\u001b[0m\n\u001b[0m",
      "\u001b[0;32mC:\\Program Files\\Anaconda3\\lib\\site-packages\\pandas\\core\\frame.py\u001b[0m in \u001b[0;36m__getitem__\u001b[0;34m(self, key)\u001b[0m\n\u001b[1;32m   1995\u001b[0m             \u001b[1;32mreturn\u001b[0m \u001b[0mself\u001b[0m\u001b[1;33m.\u001b[0m\u001b[0m_getitem_multilevel\u001b[0m\u001b[1;33m(\u001b[0m\u001b[0mkey\u001b[0m\u001b[1;33m)\u001b[0m\u001b[1;33m\u001b[0m\u001b[0m\n\u001b[1;32m   1996\u001b[0m         \u001b[1;32melse\u001b[0m\u001b[1;33m:\u001b[0m\u001b[1;33m\u001b[0m\u001b[0m\n\u001b[0;32m-> 1997\u001b[0;31m             \u001b[1;32mreturn\u001b[0m \u001b[0mself\u001b[0m\u001b[1;33m.\u001b[0m\u001b[0m_getitem_column\u001b[0m\u001b[1;33m(\u001b[0m\u001b[0mkey\u001b[0m\u001b[1;33m)\u001b[0m\u001b[1;33m\u001b[0m\u001b[0m\n\u001b[0m\u001b[1;32m   1998\u001b[0m \u001b[1;33m\u001b[0m\u001b[0m\n\u001b[1;32m   1999\u001b[0m     \u001b[1;32mdef\u001b[0m \u001b[0m_getitem_column\u001b[0m\u001b[1;33m(\u001b[0m\u001b[0mself\u001b[0m\u001b[1;33m,\u001b[0m \u001b[0mkey\u001b[0m\u001b[1;33m)\u001b[0m\u001b[1;33m:\u001b[0m\u001b[1;33m\u001b[0m\u001b[0m\n",
      "\u001b[0;32mC:\\Program Files\\Anaconda3\\lib\\site-packages\\pandas\\core\\frame.py\u001b[0m in \u001b[0;36m_getitem_column\u001b[0;34m(self, key)\u001b[0m\n\u001b[1;32m   2002\u001b[0m         \u001b[1;31m# get column\u001b[0m\u001b[1;33m\u001b[0m\u001b[1;33m\u001b[0m\u001b[0m\n\u001b[1;32m   2003\u001b[0m         \u001b[1;32mif\u001b[0m \u001b[0mself\u001b[0m\u001b[1;33m.\u001b[0m\u001b[0mcolumns\u001b[0m\u001b[1;33m.\u001b[0m\u001b[0mis_unique\u001b[0m\u001b[1;33m:\u001b[0m\u001b[1;33m\u001b[0m\u001b[0m\n\u001b[0;32m-> 2004\u001b[0;31m             \u001b[1;32mreturn\u001b[0m \u001b[0mself\u001b[0m\u001b[1;33m.\u001b[0m\u001b[0m_get_item_cache\u001b[0m\u001b[1;33m(\u001b[0m\u001b[0mkey\u001b[0m\u001b[1;33m)\u001b[0m\u001b[1;33m\u001b[0m\u001b[0m\n\u001b[0m\u001b[1;32m   2005\u001b[0m \u001b[1;33m\u001b[0m\u001b[0m\n\u001b[1;32m   2006\u001b[0m         \u001b[1;31m# duplicate columns & possible reduce dimensionality\u001b[0m\u001b[1;33m\u001b[0m\u001b[1;33m\u001b[0m\u001b[0m\n",
      "\u001b[0;32mC:\\Program Files\\Anaconda3\\lib\\site-packages\\pandas\\core\\generic.py\u001b[0m in \u001b[0;36m_get_item_cache\u001b[0;34m(self, item)\u001b[0m\n\u001b[1;32m   1348\u001b[0m         \u001b[0mres\u001b[0m \u001b[1;33m=\u001b[0m \u001b[0mcache\u001b[0m\u001b[1;33m.\u001b[0m\u001b[0mget\u001b[0m\u001b[1;33m(\u001b[0m\u001b[0mitem\u001b[0m\u001b[1;33m)\u001b[0m\u001b[1;33m\u001b[0m\u001b[0m\n\u001b[1;32m   1349\u001b[0m         \u001b[1;32mif\u001b[0m \u001b[0mres\u001b[0m \u001b[1;32mis\u001b[0m \u001b[1;32mNone\u001b[0m\u001b[1;33m:\u001b[0m\u001b[1;33m\u001b[0m\u001b[0m\n\u001b[0;32m-> 1350\u001b[0;31m             \u001b[0mvalues\u001b[0m \u001b[1;33m=\u001b[0m \u001b[0mself\u001b[0m\u001b[1;33m.\u001b[0m\u001b[0m_data\u001b[0m\u001b[1;33m.\u001b[0m\u001b[0mget\u001b[0m\u001b[1;33m(\u001b[0m\u001b[0mitem\u001b[0m\u001b[1;33m)\u001b[0m\u001b[1;33m\u001b[0m\u001b[0m\n\u001b[0m\u001b[1;32m   1351\u001b[0m             \u001b[0mres\u001b[0m \u001b[1;33m=\u001b[0m \u001b[0mself\u001b[0m\u001b[1;33m.\u001b[0m\u001b[0m_box_item_values\u001b[0m\u001b[1;33m(\u001b[0m\u001b[0mitem\u001b[0m\u001b[1;33m,\u001b[0m \u001b[0mvalues\u001b[0m\u001b[1;33m)\u001b[0m\u001b[1;33m\u001b[0m\u001b[0m\n\u001b[1;32m   1352\u001b[0m             \u001b[0mcache\u001b[0m\u001b[1;33m[\u001b[0m\u001b[0mitem\u001b[0m\u001b[1;33m]\u001b[0m \u001b[1;33m=\u001b[0m \u001b[0mres\u001b[0m\u001b[1;33m\u001b[0m\u001b[0m\n",
      "\u001b[0;32mC:\\Program Files\\Anaconda3\\lib\\site-packages\\pandas\\core\\internals.py\u001b[0m in \u001b[0;36mget\u001b[0;34m(self, item, fastpath)\u001b[0m\n\u001b[1;32m   3288\u001b[0m \u001b[1;33m\u001b[0m\u001b[0m\n\u001b[1;32m   3289\u001b[0m             \u001b[1;32mif\u001b[0m \u001b[1;32mnot\u001b[0m \u001b[0misnull\u001b[0m\u001b[1;33m(\u001b[0m\u001b[0mitem\u001b[0m\u001b[1;33m)\u001b[0m\u001b[1;33m:\u001b[0m\u001b[1;33m\u001b[0m\u001b[0m\n\u001b[0;32m-> 3290\u001b[0;31m                 \u001b[0mloc\u001b[0m \u001b[1;33m=\u001b[0m \u001b[0mself\u001b[0m\u001b[1;33m.\u001b[0m\u001b[0mitems\u001b[0m\u001b[1;33m.\u001b[0m\u001b[0mget_loc\u001b[0m\u001b[1;33m(\u001b[0m\u001b[0mitem\u001b[0m\u001b[1;33m)\u001b[0m\u001b[1;33m\u001b[0m\u001b[0m\n\u001b[0m\u001b[1;32m   3291\u001b[0m             \u001b[1;32melse\u001b[0m\u001b[1;33m:\u001b[0m\u001b[1;33m\u001b[0m\u001b[0m\n\u001b[1;32m   3292\u001b[0m                 \u001b[0mindexer\u001b[0m \u001b[1;33m=\u001b[0m \u001b[0mnp\u001b[0m\u001b[1;33m.\u001b[0m\u001b[0marange\u001b[0m\u001b[1;33m(\u001b[0m\u001b[0mlen\u001b[0m\u001b[1;33m(\u001b[0m\u001b[0mself\u001b[0m\u001b[1;33m.\u001b[0m\u001b[0mitems\u001b[0m\u001b[1;33m)\u001b[0m\u001b[1;33m)\u001b[0m\u001b[1;33m[\u001b[0m\u001b[0misnull\u001b[0m\u001b[1;33m(\u001b[0m\u001b[0mself\u001b[0m\u001b[1;33m.\u001b[0m\u001b[0mitems\u001b[0m\u001b[1;33m)\u001b[0m\u001b[1;33m]\u001b[0m\u001b[1;33m\u001b[0m\u001b[0m\n",
      "\u001b[0;32mC:\\Program Files\\Anaconda3\\lib\\site-packages\\pandas\\indexes\\base.py\u001b[0m in \u001b[0;36mget_loc\u001b[0;34m(self, key, method, tolerance)\u001b[0m\n\u001b[1;32m   1945\u001b[0m                 \u001b[1;32mreturn\u001b[0m \u001b[0mself\u001b[0m\u001b[1;33m.\u001b[0m\u001b[0m_engine\u001b[0m\u001b[1;33m.\u001b[0m\u001b[0mget_loc\u001b[0m\u001b[1;33m(\u001b[0m\u001b[0mkey\u001b[0m\u001b[1;33m)\u001b[0m\u001b[1;33m\u001b[0m\u001b[0m\n\u001b[1;32m   1946\u001b[0m             \u001b[1;32mexcept\u001b[0m \u001b[0mKeyError\u001b[0m\u001b[1;33m:\u001b[0m\u001b[1;33m\u001b[0m\u001b[0m\n\u001b[0;32m-> 1947\u001b[0;31m                 \u001b[1;32mreturn\u001b[0m \u001b[0mself\u001b[0m\u001b[1;33m.\u001b[0m\u001b[0m_engine\u001b[0m\u001b[1;33m.\u001b[0m\u001b[0mget_loc\u001b[0m\u001b[1;33m(\u001b[0m\u001b[0mself\u001b[0m\u001b[1;33m.\u001b[0m\u001b[0m_maybe_cast_indexer\u001b[0m\u001b[1;33m(\u001b[0m\u001b[0mkey\u001b[0m\u001b[1;33m)\u001b[0m\u001b[1;33m)\u001b[0m\u001b[1;33m\u001b[0m\u001b[0m\n\u001b[0m\u001b[1;32m   1948\u001b[0m \u001b[1;33m\u001b[0m\u001b[0m\n\u001b[1;32m   1949\u001b[0m         \u001b[0mindexer\u001b[0m \u001b[1;33m=\u001b[0m \u001b[0mself\u001b[0m\u001b[1;33m.\u001b[0m\u001b[0mget_indexer\u001b[0m\u001b[1;33m(\u001b[0m\u001b[1;33m[\u001b[0m\u001b[0mkey\u001b[0m\u001b[1;33m]\u001b[0m\u001b[1;33m,\u001b[0m \u001b[0mmethod\u001b[0m\u001b[1;33m=\u001b[0m\u001b[0mmethod\u001b[0m\u001b[1;33m,\u001b[0m \u001b[0mtolerance\u001b[0m\u001b[1;33m=\u001b[0m\u001b[0mtolerance\u001b[0m\u001b[1;33m)\u001b[0m\u001b[1;33m\u001b[0m\u001b[0m\n",
      "\u001b[0;32mpandas\\index.pyx\u001b[0m in \u001b[0;36mpandas.index.IndexEngine.get_loc (pandas\\index.c:4154)\u001b[0;34m()\u001b[0m\n",
      "\u001b[0;32mpandas\\index.pyx\u001b[0m in \u001b[0;36mpandas.index.IndexEngine.get_loc (pandas\\index.c:4018)\u001b[0;34m()\u001b[0m\n",
      "\u001b[0;32mpandas\\hashtable.pyx\u001b[0m in \u001b[0;36mpandas.hashtable.PyObjectHashTable.get_item (pandas\\hashtable.c:12368)\u001b[0;34m()\u001b[0m\n",
      "\u001b[0;32mpandas\\hashtable.pyx\u001b[0m in \u001b[0;36mpandas.hashtable.PyObjectHashTable.get_item (pandas\\hashtable.c:12322)\u001b[0;34m()\u001b[0m\n",
      "\u001b[0;31mKeyError\u001b[0m: 'a'"
     ]
    }
   ],
   "source": [
    "import pandas as pd\n",
    "import numpy as np\n",
    "\n",
    "df = pd.DataFrame(np.arange(16).reshape(4,4), \n",
    "                  columns=['f','g','h','i'])\n",
    "print(df)\n",
    "print(df['a'])"
   ]
  },
  {
   "cell_type": "markdown",
   "metadata": {},
   "source": [
    "### get 메소드로 없는 인덱스 조회"
   ]
  },
  {
   "cell_type": "markdown",
   "metadata": {},
   "source": [
    "import pandas as pd\n",
    "import numpy as np\n",
    "\n",
    "df = pd.DataFrame(np.arange(16).reshape(4,4), \n",
    "                  columns=['f','g','h','i'])\n",
    "print(df)\n",
    "print(df.get('a'))\n",
    "print(df.get('b', np.nan))"
   ]
  },
  {
   "cell_type": "markdown",
   "metadata": {},
   "source": [
    "###  정렬하기"
   ]
  },
  {
   "cell_type": "code",
   "execution_count": 41,
   "metadata": {},
   "outputs": [
    {
     "name": "stdout",
     "output_type": "stream",
     "text": [
      "   c1  c2  c3  c4\n",
      "a   2   6   7   9\n",
      "b  10  11   0   1\n",
      "c   3   5   4   8\n",
      "   c1  c2  c3  c4\n",
      "a   2   6   7   9\n",
      "c   3   5   4   8\n",
      "b  10  11   0   1\n"
     ]
    }
   ],
   "source": [
    "import pandas as pd\n",
    "import numpy as np\n",
    "\n",
    "l= [2,6,7,9,10,11,0,1,3,5,4,8]\n",
    "nl = np.array(l).reshape(3,4)\n",
    "a = pd.DataFrame(nl,index=['a','b','c'],\n",
    "              columns=['c1','c2','c3','c4'],dtype=np.int_)\n",
    "print(a)\n",
    "print(a.sort_values(by='c1'))"
   ]
  },
  {
   "cell_type": "code",
   "execution_count": 42,
   "metadata": {},
   "outputs": [
    {
     "name": "stdout",
     "output_type": "stream",
     "text": [
      "                   A         B         C         D\n",
      "2013-01-01 -0.998039 -2.655716  0.946167  0.687842\n",
      "2013-01-02 -0.562302  1.139157 -1.298130 -0.708824\n",
      "2013-01-03  0.886908 -0.235875  0.425401  0.142060\n",
      "2013-01-04  0.898335 -0.502028  0.119585  0.716405\n",
      "2013-01-05 -1.293664  0.076078  0.252281 -0.367762\n",
      "2013-01-06  0.276196 -0.193636  0.082259  0.579642\n",
      "                   D         C         B         A\n",
      "2013-01-01  0.687842  0.946167 -2.655716 -0.998039\n",
      "2013-01-02 -0.708824 -1.298130  1.139157 -0.562302\n",
      "2013-01-03  0.142060  0.425401 -0.235875  0.886908\n",
      "2013-01-04  0.716405  0.119585 -0.502028  0.898335\n",
      "2013-01-05 -0.367762  0.252281  0.076078 -1.293664\n",
      "2013-01-06  0.579642  0.082259 -0.193636  0.276196\n",
      "                   A         B         C         D\n",
      "2013-01-06  0.276196 -0.193636  0.082259  0.579642\n",
      "2013-01-05 -1.293664  0.076078  0.252281 -0.367762\n",
      "2013-01-04  0.898335 -0.502028  0.119585  0.716405\n",
      "2013-01-03  0.886908 -0.235875  0.425401  0.142060\n",
      "2013-01-02 -0.562302  1.139157 -1.298130 -0.708824\n",
      "2013-01-01 -0.998039 -2.655716  0.946167  0.687842\n"
     ]
    }
   ],
   "source": [
    "import pandas as pd\n",
    "import numpy as np\n",
    "\n",
    "dates = pd.date_range('20130101', periods=6)\n",
    "\n",
    "df = pd.DataFrame(np.random.randn(6,4), index=dates, columns=list('ABCD'))\n",
    "print(df)\n",
    "print(df.sort_index(axis=1, ascending=False))\n",
    "print(df.sort_index(axis=0, ascending=False))"
   ]
  },
  {
   "cell_type": "markdown",
   "metadata": {},
   "source": [
    "### 원소의 갯수 알아보기 \n"
   ]
  },
  {
   "cell_type": "code",
   "execution_count": 43,
   "metadata": {},
   "outputs": [
    {
     "name": "stdout",
     "output_type": "stream",
     "text": [
      "     A\n",
      "0  1.0\n",
      "1  2.0\n",
      "2  NaN\n",
      "3  2.0\n",
      "4  1.0\n",
      "5  2.0\n",
      "6  3.0\n",
      "A    6\n",
      "dtype: int64\n",
      "A    7\n",
      "dtype: int64\n"
     ]
    }
   ],
   "source": [
    "import pandas as pd\n",
    "import numpy as np\n",
    "df = pd.DataFrame({'A': [1, 2, np.nan, 2, 1, 2, 3]})\n",
    "print(df)\n",
    "print(df.count())\n",
    "\n",
    "df1 = pd.DataFrame({'A': [1, 2, 3, 2, 1, 2, 3]})\n",
    "print(df1.count())"
   ]
  },
  {
   "cell_type": "markdown",
   "metadata": {},
   "source": [
    "###  원소 내부 변경하기"
   ]
  },
  {
   "cell_type": "code",
   "execution_count": 44,
   "metadata": {},
   "outputs": [
    {
     "name": "stdout",
     "output_type": "stream",
     "text": [
      "     A\n",
      "0  1.0\n",
      "1  2.0\n",
      "2  NaN\n",
      "3  2.0\n",
      "4  1.0\n",
      "5  2.0\n",
      "6  3.0\n",
      "element  1.0\n",
      "      A\n",
      "0   1.0\n",
      "1   2.0\n",
      "2  99.0\n",
      "3   2.0\n",
      "4   1.0\n",
      "5   2.0\n",
      "6   3.0\n"
     ]
    }
   ],
   "source": [
    "import pandas as pd\n",
    "import numpy as np\n",
    "df = pd.DataFrame({'A': [1, 2, np.nan, 2, 1, 2, 3]})\n",
    "print(df)\n",
    "print(\"element \",df.get_value(0,'A'))\n",
    "print(df.set_value(2,'A',99))"
   ]
  },
  {
   "cell_type": "code",
   "execution_count": null,
   "metadata": {
    "collapsed": true
   },
   "outputs": [],
   "source": [
    "### 특정 데이터 부분만 윗부분과 아래 부분을 검색해서 출력 \n",
    "\n",
    "    head, tail로 처리한다. defaults는 5이다."
   ]
  },
  {
   "cell_type": "code",
   "execution_count": 70,
   "metadata": {},
   "outputs": [
    {
     "name": "stdout",
     "output_type": "stream",
     "text": [
      "   Rev  col\n",
      "a    0    0\n",
      "b    1    1\n",
      "c    2    2\n",
      "d    3    3\n",
      "e    4    4\n"
     ]
    }
   ],
   "source": [
    "import pandas as pd\n",
    "\n",
    "# Our small data set\n",
    "d = [0,1,2,3,4,5,6,7,8,9]\n",
    "\n",
    "# Create dataframe\n",
    "df = pd.DataFrame(d)\n",
    "df.columns = ['Rev']\n",
    "df['col'] = df['Rev']\n",
    "i = ['a','b','c','d','e','f','g','h','i','j']\n",
    "df.index = i\n",
    "print(df.head())\n"
   ]
  },
  {
   "cell_type": "code",
   "execution_count": 71,
   "metadata": {},
   "outputs": [
    {
     "name": "stdout",
     "output_type": "stream",
     "text": [
      "   Rev  col\n",
      "f    5    5\n",
      "g    6    6\n",
      "h    7    7\n",
      "i    8    8\n",
      "j    9    9\n"
     ]
    }
   ],
   "source": [
    "import pandas as pd\n",
    "\n",
    "# Our small data set\n",
    "d = [0,1,2,3,4,5,6,7,8,9]\n",
    "\n",
    "# Create dataframe\n",
    "df = pd.DataFrame(d)\n",
    "df.columns = ['Rev']\n",
    "df['col'] = df['Rev']\n",
    "i = ['a','b','c','d','e','f','g','h','i','j']\n",
    "df.index = i\n",
    "print(df.tail())\n"
   ]
  },
  {
   "cell_type": "markdown",
   "metadata": {},
   "source": [
    "### multi index 를 만들어서 처리하기\n",
    "\n",
    "    멀티 인덱스를 정의하기 위해서는 행에 대한 모든 정보를 이용해서 쌍으로 만들어야 한다.\n",
    "    "
   ]
  },
  {
   "cell_type": "code",
   "execution_count": 81,
   "metadata": {},
   "outputs": [
    {
     "name": "stdout",
     "output_type": "stream",
     "text": [
      "first        bar                 baz                 foo                 qux  \\\n",
      "second       one       two       one       two       one       two       one   \n",
      "A      -0.962743 -0.866579  0.240345  0.691635  1.280132 -1.680637 -0.413200   \n",
      "B       0.899027  0.502681  0.742018 -0.522678  0.247022 -1.015849 -1.308242   \n",
      "C       1.371179  0.773300  0.192510 -0.903093  0.485850  0.856765  0.878573   \n",
      "\n",
      "first             \n",
      "second       two  \n",
      "A      -0.252350  \n",
      "B      -0.183569  \n",
      "C      -0.958156  \n",
      "second       one       two\n",
      "A      -0.962743 -0.866579\n",
      "B       0.899027  0.502681\n",
      "C       1.371179  0.773300\n",
      "A   -0.962743\n",
      "B    0.899027\n",
      "C    1.371179\n",
      "Name: (bar, one), dtype: float64\n",
      "A   -0.962743\n",
      "B    0.899027\n",
      "C    1.371179\n",
      "Name: one, dtype: float64\n"
     ]
    }
   ],
   "source": [
    "import pandas as pd\n",
    "import numpy as np\n",
    "\n",
    "arrays = [['bar', 'bar', 'baz', 'baz', 'foo', 'foo', 'qux', 'qux'],\n",
    "           ['one', 'two', 'one', 'two', 'one', 'two', 'one', 'two']]\n",
    "           \n",
    "tuples = list(zip(*arrays))\n",
    "\n",
    "index = pd.MultiIndex.from_tuples(tuples, names=['first', 'second'])\n",
    "\n",
    "df = pd.DataFrame(np.random.randn(3, 8), index=['A', 'B', 'C'], columns=index)\n",
    "print(df)\n",
    "print(df['bar'])\n",
    "print(df['bar','one'])\n",
    "print(df['bar']['one'])\n"
   ]
  },
  {
   "cell_type": "markdown",
   "metadata": {},
   "source": [
    "#### loc속성을 이용해서 멀티 인덱스를 조회\n",
    "\n",
    "    내부에 실제 필요한 행 정보를 전부 부여해야 한다.\n",
    "    "
   ]
  },
  {
   "cell_type": "code",
   "execution_count": 85,
   "metadata": {},
   "outputs": [
    {
     "name": "stdout",
     "output_type": "stream",
     "text": [
      "                                    C\n",
      "A     B                              \n",
      "one   start  [70, 57, 22, 89, 18, 46]\n",
      "      end    [70, 57, 22, 89, 18, 46]\n",
      "two   start  [70, 57, 22, 89, 18, 46]\n",
      "      end    [70, 57, 22, 89, 18, 46]\n",
      "three start  [70, 57, 22, 89, 18, 46]\n",
      "      end    [70, 57, 22, 89, 18, 46]\n",
      "df.loc                               C\n",
      "B                              \n",
      "start  [70, 57, 22, 89, 18, 46]\n",
      "end    [70, 57, 22, 89, 18, 46]\n",
      "df.loc[one,start] C    [70, 57, 22, 89, 18, 46]\n",
      "Name: (one, start), dtype: object\n"
     ]
    }
   ],
   "source": [
    "import numpy as np\n",
    "import pandas as pd\n",
    "\n",
    "A = np.array(['one', 'one', 'two', 'two', 'three', 'three'])\n",
    "B = np.array(['start', 'end']*3)\n",
    "C = [np.random.randint(10, 99, 6)]*6\n",
    "df = pd.DataFrame(list(zip(A, B, C)), columns=['A', 'B', 'C'])\n",
    "\n",
    "#2개 열을 index로 지정\n",
    "df.set_index(['A', 'B'], inplace=True)\n",
    "print(df)\n",
    "print(\"df.loc\",df.loc['one'])\n",
    "print(\"df.loc[one,start]\", df.loc['one','start'])\n"
   ]
  },
  {
   "cell_type": "markdown",
   "metadata": {},
   "source": [
    "#### iloc는 정수값을 넣어 멀티 행을 조회해서 처리한다.\n"
   ]
  },
  {
   "cell_type": "code",
   "execution_count": 87,
   "metadata": {},
   "outputs": [
    {
     "name": "stdout",
     "output_type": "stream",
     "text": [
      "                                    C\n",
      "A     B                              \n",
      "one   start  [97, 47, 78, 21, 61, 10]\n",
      "      end    [97, 47, 78, 21, 61, 10]\n",
      "two   start  [97, 47, 78, 21, 61, 10]\n",
      "      end    [97, 47, 78, 21, 61, 10]\n",
      "three start  [97, 47, 78, 21, 61, 10]\n",
      "      end    [97, 47, 78, 21, 61, 10]\n",
      "df.iloc[0:3]                                   C\n",
      "A   B                              \n",
      "one start  [97, 47, 78, 21, 61, 10]\n",
      "    end    [97, 47, 78, 21, 61, 10]\n",
      "two start  [97, 47, 78, 21, 61, 10]\n"
     ]
    }
   ],
   "source": [
    "import numpy as np\n",
    "import pandas as pd\n",
    "\n",
    "A = np.array(['one', 'one', 'two', 'two', 'three', 'three'])\n",
    "B = np.array(['start', 'end']*3)\n",
    "C = [np.random.randint(10, 99, 6)]*6\n",
    "df = pd.DataFrame(list(zip(A, B, C)), columns=['A', 'B', 'C'])\n",
    "#2개 열을 index로 지정\n",
    "df.set_index(['A', 'B'], inplace=True)\n",
    "print(df)\n",
    "print(\"df.iloc[0:3]\", df.iloc[0:3])\n"
   ]
  },
  {
   "cell_type": "markdown",
   "metadata": {},
   "source": [
    "### 그룹 처리하기 : groupby\n",
    "\n"
   ]
  },
  {
   "cell_type": "markdown",
   "metadata": {},
   "source": [
    "####  단일 칼럼을 기준으로 그루핑 처리\n"
   ]
  },
  {
   "cell_type": "code",
   "execution_count": 95,
   "metadata": {},
   "outputs": [
    {
     "name": "stdout",
     "output_type": "stream",
     "text": [
      "  letter  one  two\n",
      "0      a    1    2\n",
      "1      a    1    2\n",
      "2      b    1    2\n",
      "3      b    1    2\n",
      "4      c    1    2\n",
      "<pandas.core.groupby.DataFrameGroupBy object at 0x00000000091F40F0>\n",
      "        one  two\n",
      "letter          \n",
      "a         2    4\n",
      "b         2    4\n",
      "c         1    2\n"
     ]
    }
   ],
   "source": [
    "import pandas as pd\n",
    "import inspect as ins\n",
    "\n",
    "d = {'one':[1,1,1,1,1],\n",
    "     'two':[2,2,2,2,2],\n",
    "     'letter':['a','a','b','b','c']}\n",
    "\n",
    "# Create dataframe\n",
    "df1 = pd.DataFrame(d)\n",
    "print(df1)\n",
    "one = df1.groupby('letter')\n",
    "print(one)\n",
    "print(one.sum())\n"
   ]
  },
  {
   "cell_type": "markdown",
   "metadata": {},
   "source": [
    "#### 멀티 칼럼에 대한 그룹 처리 \n"
   ]
  },
  {
   "cell_type": "code",
   "execution_count": 96,
   "metadata": {},
   "outputs": [
    {
     "name": "stdout",
     "output_type": "stream",
     "text": [
      "            two\n",
      "letter one     \n",
      "a      1      4\n",
      "b      1      4\n",
      "c      1      2\n"
     ]
    }
   ],
   "source": [
    "import pandas as pd\n",
    "import inspect as ins\n",
    "\n",
    "d = {'one':[1,1,1,1,1],\n",
    "     'two':[2,2,2,2,2],\n",
    "     'letter':['a','a','b','b','c']}\n",
    "\n",
    "# Create dataframe\n",
    "df1 = pd.DataFrame(d)\n",
    "letterone = df1.groupby(['letter','one']).sum()\n",
    "print(letterone)\n"
   ]
  },
  {
   "cell_type": "markdown",
   "metadata": {},
   "source": [
    "#### as_index=False로 처리해서 grouby메소드 이후에도 index구성이 변하지 않도록 처리\n",
    "\n",
    "\n"
   ]
  },
  {
   "cell_type": "code",
   "execution_count": 98,
   "metadata": {},
   "outputs": [
    {
     "name": "stdout",
     "output_type": "stream",
     "text": [
      "  letter  one  two\n",
      "0      a    1    4\n",
      "1      b    1    4\n",
      "2      c    1    2\n",
      "Int64Index([0, 1, 2], dtype='int64')\n"
     ]
    }
   ],
   "source": [
    "import pandas as pd\n",
    "import inspect as ins\n",
    "\n",
    "d = {'one':[1,1,1,1,1],\n",
    "     'two':[2,2,2,2,2],\n",
    "     'letter':['a','a','b','b','c']}\n",
    "\n",
    "# Create dataframe\n",
    "df1 = pd.DataFrame(d)\n",
    "lettertwo = df1.groupby(['letter','one'], as_index=False).sum()\n",
    "print(lettertwo)\n",
    "print(lettertwo.index)\n"
   ]
  },
  {
   "cell_type": "code",
   "execution_count": null,
   "metadata": {
    "collapsed": true
   },
   "outputs": [],
   "source": []
  }
 ],
 "metadata": {
  "kernelspec": {
   "display_name": "Python 3",
   "language": "python",
   "name": "python3"
  },
  "language_info": {
   "codemirror_mode": {
    "name": "ipython",
    "version": 3
   },
   "file_extension": ".py",
   "mimetype": "text/x-python",
   "name": "python",
   "nbconvert_exporter": "python",
   "pygments_lexer": "ipython3",
   "version": "3.6.1"
  }
 },
 "nbformat": 4,
 "nbformat_minor": 1
}
